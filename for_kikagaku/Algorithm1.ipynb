{
 "cells": [
  {
   "cell_type": "markdown",
   "metadata": {},
   "source": [
    "## 変数\n",
    "\n",
    "- 数値\n",
    "- 文字列\n",
    "- ブール"
   ]
  },
  {
   "cell_type": "markdown",
   "metadata": {},
   "source": [
    "### コンピュータ内での取り扱い\n",
    "- bit,byte (0,1のみしか扱えない)\n",
    "- 8bit = 1byte\n",
    "日本語はマルチバイト　\n",
    "実数→浮動小数点"
   ]
  },
  {
   "cell_type": "markdown",
   "metadata": {},
   "source": [
    "## 練習問題\n",
    "'name1''name2''age'を使って\n",
    "'私は上田樹稀也です。19歳です'"
   ]
  },
  {
   "cell_type": "code",
   "execution_count": 1,
   "metadata": {},
   "outputs": [],
   "source": [
    "name1='上田'\n",
    "name2='樹稀也'\n",
    "age=19"
   ]
  },
  {
   "cell_type": "code",
   "execution_count": 2,
   "metadata": {},
   "outputs": [
    {
     "data": {
      "text/plain": [
       "'私は上田樹稀也です。19歳です。'"
      ]
     },
     "execution_count": 2,
     "metadata": {},
     "output_type": "execute_result"
    }
   ],
   "source": [
    "'私は'+name1+name2+'です。'+str(age)+'歳です。'#自分の解答"
   ]
  },
  {
   "cell_type": "code",
   "execution_count": 3,
   "metadata": {},
   "outputs": [
    {
     "data": {
      "text/plain": [
       "'私は上田樹稀也です。19歳です'"
      ]
     },
     "execution_count": 3,
     "metadata": {},
     "output_type": "execute_result"
    }
   ],
   "source": [
    "'私は{}{}です。{}歳です'.format(name1,name2,age)#解答２　型変換のミスが減る"
   ]
  },
  {
   "cell_type": "markdown",
   "metadata": {},
   "source": [
    "### ブール型\n",
    "Boolean\n",
    "- True\n",
    "- False"
   ]
  },
  {
   "cell_type": "markdown",
   "metadata": {},
   "source": [
    "## 複数の変換\n",
    "- list  []　　最初と最後は省略できる  \n",
    "- tuple ()   書き換えのできないリスト"
   ]
  },
  {
   "cell_type": "markdown",
   "metadata": {},
   "source": [
    "- []:要素へのアクセス\n",
    "- ():関数へのアクセス"
   ]
  },
  {
   "cell_type": "markdown",
   "metadata": {},
   "source": [
    "## 辞書\n",
    "result = [70,80,90]\n",
    "\n",
    "順番は変わってしまう"
   ]
  },
  {
   "cell_type": "code",
   "execution_count": 4,
   "metadata": {},
   "outputs": [],
   "source": [
    "results = {'数学':70,'英語':80,'国語':90}"
   ]
  },
  {
   "cell_type": "code",
   "execution_count": 5,
   "metadata": {},
   "outputs": [
    {
     "data": {
      "text/plain": [
       "70"
      ]
     },
     "execution_count": 5,
     "metadata": {},
     "output_type": "execute_result"
    }
   ],
   "source": [
    "results['数学']"
   ]
  },
  {
   "cell_type": "markdown",
   "metadata": {},
   "source": [
    "## 制御構文"
   ]
  },
  {
   "cell_type": "code",
   "execution_count": 6,
   "metadata": {},
   "outputs": [
    {
     "ename": "SyntaxError",
     "evalue": "invalid character in identifier (<ipython-input-6-035294794878>, line 1)",
     "output_type": "error",
     "traceback": [
      "\u001b[0;36m  File \u001b[0;32m\"<ipython-input-6-035294794878>\"\u001b[0;36m, line \u001b[0;32m1\u001b[0m\n\u001b[0;31m    names = ['吉崎','佐藤','鈴木','高橋']\u001b[0m\n\u001b[0m                                 　^\u001b[0m\n\u001b[0;31mSyntaxError\u001b[0m\u001b[0;31m:\u001b[0m invalid character in identifier\n"
     ]
    }
   ],
   "source": [
    "names = ['吉崎','佐藤','鈴木','高橋']　　"
   ]
  },
  {
   "cell_type": "code",
   "execution_count": null,
   "metadata": {},
   "outputs": [],
   "source": [
    "for name in names:\n",
    "    print(name+'さん、こんにちは')##一番可読性がある"
   ]
  },
  {
   "cell_type": "markdown",
   "metadata": {},
   "source": [
    "コツ\n",
    "\n",
    "- **汎用性** \n",
    "- **可読性**\n",
    "\n",
    "**アルゴリズム**のコツ\n",
    "\n",
    "- 文章で手順を書く\n",
    "- コードを書く"
   ]
  },
  {
   "cell_type": "code",
   "execution_count": null,
   "metadata": {},
   "outputs": [],
   "source": [
    "a = 4\n",
    "if a%2 == 0:\n",
    "    print('偶数です')\n",
    "else:\n",
    "    print('奇数です')"
   ]
  },
  {
   "cell_type": "markdown",
   "metadata": {},
   "source": [
    "## 関数\n",
    "\n",
    "### 一番簡単な関数"
   ]
  },
  {
   "cell_type": "code",
   "execution_count": null,
   "metadata": {},
   "outputs": [],
   "source": [
    "def say_hello():\n",
    "     print('こんにちは')\n",
    "     print('うるさい、殺すぞ')"
   ]
  },
  {
   "cell_type": "code",
   "execution_count": null,
   "metadata": {},
   "outputs": [],
   "source": [
    "say_hello()"
   ]
  },
  {
   "cell_type": "markdown",
   "metadata": {},
   "source": [
    "##  入力（引数）のある関数"
   ]
  },
  {
   "cell_type": "code",
   "execution_count": null,
   "metadata": {},
   "outputs": [],
   "source": [
    "def say_hello(name):\n",
    "    print(name+'さん、こんにちは')"
   ]
  },
  {
   "cell_type": "code",
   "execution_count": null,
   "metadata": {},
   "outputs": [],
   "source": [
    "say_hello('上田')"
   ]
  },
  {
   "cell_type": "code",
   "execution_count": null,
   "metadata": {},
   "outputs": [],
   "source": [
    "say_hello('マイク')"
   ]
  },
  {
   "cell_type": "code",
   "execution_count": null,
   "metadata": {},
   "outputs": [],
   "source": [
    "def say_hello(name1,name2):\n",
    "    print('こんにちは、'+name1+name2+'さん。')\n",
    "    print('ご機嫌、いかがですか。')"
   ]
  },
  {
   "cell_type": "code",
   "execution_count": null,
   "metadata": {},
   "outputs": [],
   "source": [
    "say_hello('上田','樹稀也')"
   ]
  },
  {
   "cell_type": "markdown",
   "metadata": {},
   "source": [
    "## 出力（戻り値）のある関数\n",
    "\n",
    "代入でバグが起きる"
   ]
  },
  {
   "cell_type": "markdown",
   "metadata": {},
   "source": [
    "## 演習課題\n",
    "10000までの**素数**を表示するプログラム"
   ]
  },
  {
   "cell_type": "code",
   "execution_count": null,
   "metadata": {},
   "outputs": [],
   "source": [
    "number_list = list(range(10))\n",
    "for number_list in range(10):\n",
    "    if a%2 == 0 :\n",
    "        print(number_list)\n",
    "        "
   ]
  },
  {
   "cell_type": "code",
   "execution_count": null,
   "metadata": {},
   "outputs": [],
   "source": [
    "素数→1と自分自身以外では割り切れない数のこと!=合成数\n",
    "2,3,5,7,11,13,17,19\n",
    "n=4,6,8,9,10⇨n%k==0 \n",
    "continue\n",
    "素数であれば出力する\n",
    "10000までいったらbreakでプログラム終了"
   ]
  },
  {
   "cell_type": "code",
   "execution_count": null,
   "metadata": {},
   "outputs": [],
   "source": [
    "def isprime(n):\n",
    "    if n < 2:\n",
    "        return '合成数です'\n",
    "    elif n == 2:\n",
    "        return '素数です'\n",
    "    for p in range(2,n):\n",
    "        if n % p == 0:\n",
    "            return '合成数です'\n",
    "        else:\n",
    "            return '素数です'"
   ]
  },
  {
   "cell_type": "code",
   "execution_count": null,
   "metadata": {},
   "outputs": [],
   "source": [
    "isprime(33)"
   ]
  },
  {
   "cell_type": "code",
   "execution_count": null,
   "metadata": {},
   "outputs": [],
   "source": []
  },
  {
   "cell_type": "code",
   "execution_count": null,
   "metadata": {},
   "outputs": [],
   "source": [
    "課題\n",
    "9,15,21,25,27,33,35\n",
    "j+"
   ]
  },
  {
   "cell_type": "code",
   "execution_count": null,
   "metadata": {},
   "outputs": [],
   "source": [
    "n=10\n",
    "for i in range(2,n):\n",
    "    if n%i!= 0:\n",
    "        print(i)\n",
    "        "
   ]
  },
  {
   "cell_type": "markdown",
   "metadata": {},
   "source": [
    "## アルゴリズム\n",
    "- 具体的な数字を当てはめる（例えば10）\n",
    "-　10が素数であるかどうかを条件に当てて考察する\n",
    "-　素数であるためには2,3,4,5,6,7,8,9で割り切れなけば良い\n",
    "-　フラグの設定\n",
    "-  素数であればTrue、完全数であればFalseとする\n",
    "-  素数であれば空のリストに追加\n",
    "　　　⬇️"
   ]
  },
  {
   "cell_type": "markdown",
   "metadata": {},
   "source": [
    "## アルゴリズム\n",
    "### 一般化\n",
    "iを1~10000まで繰り返す\n",
    "素数のリストを初期化\n",
    "\n",
    "\n",
    "-  具体的な数字を当てはめる（例えば10）\n",
    "-　 10が素数であるかどうかを条件に当てて考察する\n",
    "-　 jを素数であるためには2,3,4,5,6,7,8,i-1で割り切れなけば良い\n",
    "-　 フラグの設定\n",
    "-   素数であればTrue、完全数であればFalseとする\n",
    "-   素数であれば空のリストに追加"
   ]
  },
  {
   "cell_type": "code",
   "execution_count": 23,
   "metadata": {},
   "outputs": [],
   "source": [
    "def judge_prime():\n",
    "    numbers=[]\n",
    "    for i in range(2,21):\n",
    "        flag = True\n",
    "        for j in numbers:\n",
    "            if i%j == 0:\n",
    "                flag = False\n",
    "                break\n",
    "        if flag:\n",
    "            numbers.append(i)\n",
    "    return numbers"
   ]
  },
  {
   "cell_type": "code",
   "execution_count": 24,
   "metadata": {},
   "outputs": [
    {
     "data": {
      "text/plain": [
       "[2, 3, 5, 7, 11, 13, 17, 19]"
      ]
     },
     "execution_count": 24,
     "metadata": {},
     "output_type": "execute_result"
    }
   ],
   "source": [
    "judge_prime()"
   ]
  },
  {
   "cell_type": "markdown",
   "metadata": {},
   "source": [
    "## 高速化\n",
    "\n",
    "- 具体的な数字を当てはめる（例えば10）\n",
    "-　10が素数であるかどうかを条件に当てて考察する\n",
    "-  素数であるためには2⇦ここでbreak 3,4,5,6,7,8,9で割り切れなけば良い\n",
    "-  フラグの設定\n",
    "-  素数であればTrue、完全数であればFalseとする\n",
    "-  素数であれば空のリストに追加\n"
   ]
  },
  {
   "cell_type": "code",
   "execution_count": null,
   "metadata": {},
   "outputs": [],
   "source": []
  }
 ],
 "metadata": {
  "kernelspec": {
   "display_name": "Python 3",
   "language": "python",
   "name": "python3"
  },
  "language_info": {
   "codemirror_mode": {
    "name": "ipython",
    "version": 3
   },
   "file_extension": ".py",
   "mimetype": "text/x-python",
   "name": "python",
   "nbconvert_exporter": "python",
   "pygments_lexer": "ipython3",
   "version": "3.7.4"
  }
 },
 "nbformat": 4,
 "nbformat_minor": 2
}
