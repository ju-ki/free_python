{
 "cells": [
  {
   "cell_type": "code",
   "execution_count": 1,
   "metadata": {},
   "outputs": [
    {
     "data": {
      "text/plain": [
       "'%.3f'"
      ]
     },
     "execution_count": 1,
     "metadata": {},
     "output_type": "execute_result"
    }
   ],
   "source": [
    "import numpy as np\n",
    "import matplotlib.pyplot as plt\n",
    "import pandas as pd\n",
    "import scipy as sp\n",
    "import seaborn as sns\n",
    "%matplotlib inline\n",
    "sns.set()\n",
    "%precision 3"
   ]
  },
  {
   "cell_type": "code",
   "execution_count": 2,
   "metadata": {},
   "outputs": [
    {
     "name": "stdout",
     "output_type": "stream",
     "text": [
      "/work/free_jupyter\n"
     ]
    }
   ],
   "source": [
    "cd .."
   ]
  },
  {
   "cell_type": "code",
   "execution_count": 3,
   "metadata": {},
   "outputs": [
    {
     "name": "stdout",
     "output_type": "stream",
     "text": [
      "/work\n"
     ]
    }
   ],
   "source": [
    "cd .."
   ]
  },
  {
   "cell_type": "code",
   "execution_count": 4,
   "metadata": {},
   "outputs": [
    {
     "name": "stdout",
     "output_type": "stream",
     "text": [
      "\u001b[0m\u001b[01;34m100_knock\u001b[0m/  \u001b[01;34mfree_jupyter\u001b[0m/  housing.csv  \u001b[01;34mpycharm\u001b[0m/  \u001b[01;34mresult\u001b[0m/  \u001b[01;34mscikit-learn\u001b[0m/\n"
     ]
    }
   ],
   "source": [
    "ls"
   ]
  },
  {
   "cell_type": "code",
   "execution_count": 5,
   "metadata": {},
   "outputs": [
    {
     "data": {
      "text/html": [
       "<div>\n",
       "<style scoped>\n",
       "    .dataframe tbody tr th:only-of-type {\n",
       "        vertical-align: middle;\n",
       "    }\n",
       "\n",
       "    .dataframe tbody tr th {\n",
       "        vertical-align: top;\n",
       "    }\n",
       "\n",
       "    .dataframe thead th {\n",
       "        text-align: right;\n",
       "    }\n",
       "</style>\n",
       "<table border=\"1\" class=\"dataframe\">\n",
       "  <thead>\n",
       "    <tr style=\"text-align: right;\">\n",
       "      <th></th>\n",
       "      <th>x1</th>\n",
       "      <th>x2</th>\n",
       "      <th>x3</th>\n",
       "      <th>x4</th>\n",
       "      <th>x5</th>\n",
       "      <th>x6</th>\n",
       "      <th>x7</th>\n",
       "      <th>x8</th>\n",
       "      <th>x9</th>\n",
       "      <th>x10</th>\n",
       "      <th>x11</th>\n",
       "      <th>x12</th>\n",
       "      <th>x13</th>\n",
       "      <th>y</th>\n",
       "    </tr>\n",
       "  </thead>\n",
       "  <tbody>\n",
       "    <tr>\n",
       "      <td>0</td>\n",
       "      <td>0.00632</td>\n",
       "      <td>18.0</td>\n",
       "      <td>2.31</td>\n",
       "      <td>0</td>\n",
       "      <td>0.538</td>\n",
       "      <td>6.575</td>\n",
       "      <td>65.2</td>\n",
       "      <td>4.0900</td>\n",
       "      <td>1</td>\n",
       "      <td>296</td>\n",
       "      <td>15.3</td>\n",
       "      <td>396.90</td>\n",
       "      <td>4.98</td>\n",
       "      <td>24.0</td>\n",
       "    </tr>\n",
       "    <tr>\n",
       "      <td>1</td>\n",
       "      <td>0.02731</td>\n",
       "      <td>0.0</td>\n",
       "      <td>7.07</td>\n",
       "      <td>0</td>\n",
       "      <td>0.469</td>\n",
       "      <td>6.421</td>\n",
       "      <td>78.9</td>\n",
       "      <td>4.9671</td>\n",
       "      <td>2</td>\n",
       "      <td>242</td>\n",
       "      <td>17.8</td>\n",
       "      <td>396.90</td>\n",
       "      <td>9.14</td>\n",
       "      <td>21.6</td>\n",
       "    </tr>\n",
       "    <tr>\n",
       "      <td>2</td>\n",
       "      <td>0.02729</td>\n",
       "      <td>0.0</td>\n",
       "      <td>7.07</td>\n",
       "      <td>0</td>\n",
       "      <td>0.469</td>\n",
       "      <td>7.185</td>\n",
       "      <td>61.1</td>\n",
       "      <td>4.9671</td>\n",
       "      <td>2</td>\n",
       "      <td>242</td>\n",
       "      <td>17.8</td>\n",
       "      <td>392.83</td>\n",
       "      <td>4.03</td>\n",
       "      <td>34.7</td>\n",
       "    </tr>\n",
       "    <tr>\n",
       "      <td>3</td>\n",
       "      <td>0.03237</td>\n",
       "      <td>0.0</td>\n",
       "      <td>2.18</td>\n",
       "      <td>0</td>\n",
       "      <td>0.458</td>\n",
       "      <td>6.998</td>\n",
       "      <td>45.8</td>\n",
       "      <td>6.0622</td>\n",
       "      <td>3</td>\n",
       "      <td>222</td>\n",
       "      <td>18.7</td>\n",
       "      <td>394.63</td>\n",
       "      <td>2.94</td>\n",
       "      <td>33.4</td>\n",
       "    </tr>\n",
       "    <tr>\n",
       "      <td>4</td>\n",
       "      <td>0.06905</td>\n",
       "      <td>0.0</td>\n",
       "      <td>2.18</td>\n",
       "      <td>0</td>\n",
       "      <td>0.458</td>\n",
       "      <td>7.147</td>\n",
       "      <td>54.2</td>\n",
       "      <td>6.0622</td>\n",
       "      <td>3</td>\n",
       "      <td>222</td>\n",
       "      <td>18.7</td>\n",
       "      <td>396.90</td>\n",
       "      <td>5.33</td>\n",
       "      <td>36.2</td>\n",
       "    </tr>\n",
       "  </tbody>\n",
       "</table>\n",
       "</div>"
      ],
      "text/plain": [
       "        x1    x2    x3  x4     x5     x6    x7      x8  x9  x10   x11     x12  \\\n",
       "0  0.00632  18.0  2.31   0  0.538  6.575  65.2  4.0900   1  296  15.3  396.90   \n",
       "1  0.02731   0.0  7.07   0  0.469  6.421  78.9  4.9671   2  242  17.8  396.90   \n",
       "2  0.02729   0.0  7.07   0  0.469  7.185  61.1  4.9671   2  242  17.8  392.83   \n",
       "3  0.03237   0.0  2.18   0  0.458  6.998  45.8  6.0622   3  222  18.7  394.63   \n",
       "4  0.06905   0.0  2.18   0  0.458  7.147  54.2  6.0622   3  222  18.7  396.90   \n",
       "\n",
       "    x13     y  \n",
       "0  4.98  24.0  \n",
       "1  9.14  21.6  \n",
       "2  4.03  34.7  \n",
       "3  2.94  33.4  \n",
       "4  5.33  36.2  "
      ]
     },
     "execution_count": 5,
     "metadata": {},
     "output_type": "execute_result"
    }
   ],
   "source": [
    "house = pd.read_csv(\"housing.csv\")\n",
    "house.head()"
   ]
  },
  {
   "cell_type": "code",
   "execution_count": 6,
   "metadata": {},
   "outputs": [],
   "source": [
    "x = house.iloc[:, :-1].values.astype('f')\n",
    "t = house.iloc[:, -1].values.astype('f')"
   ]
  },
  {
   "cell_type": "code",
   "execution_count": 7,
   "metadata": {},
   "outputs": [
    {
     "name": "stdout",
     "output_type": "stream",
     "text": [
      "(506, 13)\n",
      "(506,)\n"
     ]
    }
   ],
   "source": [
    "print(x.shape)\n",
    "print(t.shape)"
   ]
  },
  {
   "cell_type": "code",
   "execution_count": 8,
   "metadata": {},
   "outputs": [
    {
     "name": "stdout",
     "output_type": "stream",
     "text": [
      "(506, 1)\n"
     ]
    }
   ],
   "source": [
    "t = t.reshape(len(t), 1)\n",
    "print(t.shape) #きちんと列の方も数字が出ていないと、回帰の場合エラーが起きてしまう"
   ]
  },
  {
   "cell_type": "code",
   "execution_count": 9,
   "metadata": {},
   "outputs": [],
   "source": [
    "dataset = list(zip(x, t))"
   ]
  },
  {
   "cell_type": "code",
   "execution_count": 10,
   "metadata": {},
   "outputs": [],
   "source": [
    "import chainer\n",
    "import chainer.functions as F\n",
    "import chainer.links as L"
   ]
  },
  {
   "cell_type": "code",
   "execution_count": 11,
   "metadata": {},
   "outputs": [],
   "source": [
    "n_train = int(len(dataset)*0.7)"
   ]
  },
  {
   "cell_type": "code",
   "execution_count": 12,
   "metadata": {},
   "outputs": [],
   "source": [
    "train, test = chainer.datasets.split_dataset_random(dataset, n_train, seed = 0)"
   ]
  },
  {
   "cell_type": "code",
   "execution_count": 38,
   "metadata": {},
   "outputs": [],
   "source": [
    "\n",
    "class NN(chainer.Chain):\n",
    "    \n",
    "    def __init__(self, n_mid_units = 5, n_out = 1):\n",
    "        super().__init__()\n",
    "        with self.init_scope():\n",
    "            self.fc1 = L.Linear(None, n_mid_units)\n",
    "            self.fc2 = L.Linear(None, n_out)\n",
    "            \n",
    "            self.bn = L.BatchNormalization(13)\n",
    "            \n",
    "    def __call__(self, x):\n",
    "        h = self.bn(x)\n",
    "        h = self.fc1(h)\n",
    "        h = F.relu(h)\n",
    "        h = self.fc2(h)\n",
    "        return h"
   ]
  },
  {
   "cell_type": "code",
   "execution_count": 39,
   "metadata": {},
   "outputs": [],
   "source": [
    "np.random.seed(0)\n",
    "nn = NN()"
   ]
  },
  {
   "cell_type": "code",
   "execution_count": 40,
   "metadata": {},
   "outputs": [],
   "source": [
    "model = L.Classifier(nn, lossfun=F.mean_squared_error)#分類と異なる点\n",
    "model.compute_accuracy = False"
   ]
  },
  {
   "cell_type": "markdown",
   "metadata": {},
   "source": [
    "## 学習のモデルを自前で書く場合\n",
    "\n",
    "- '__init__' :モデルで使用するリンクの宣言\n",
    "- '__call__':損失関数の宣言\n",
    "- 'predictor':順伝播の宣言"
   ]
  },
  {
   "cell_type": "code",
   "execution_count": 41,
   "metadata": {},
   "outputs": [],
   "source": [
    "# class NN(chainer.Chain):\n",
    "#     def __int__(self, n_mid=5, n_out=1):\n",
    "#         super().__init__()\n",
    "#         with self.init_scope():\n",
    "#             self.fc1 = L.Linear(None, n_mid)\n",
    "#             self.fc2 = L.Linear(None, n_out)\n",
    "#     def predictor(self, x):\n",
    "#         h = self.fc1(x)\n",
    "#         h = self.relu(h)\n",
    "#         h = self.fc2(h)\n",
    "#         return h\n",
    "#     def __call__(self, x, t):\n",
    "#         y = self.predictor(x)\n",
    "#         loss = F.mean_squared_error(x, y)\n",
    "#         chainer.report({'loss':loss}, self)\n",
    "#         return loss"
   ]
  },
  {
   "cell_type": "code",
   "execution_count": 42,
   "metadata": {},
   "outputs": [],
   "source": [
    "# np.random.seed(0)\n",
    "# model = NN()"
   ]
  },
  {
   "cell_type": "code",
   "execution_count": 43,
   "metadata": {},
   "outputs": [],
   "source": [
    "optimizer = chainer.optimizers.Adam()#確率的勾配降下法"
   ]
  },
  {
   "cell_type": "code",
   "execution_count": 44,
   "metadata": {},
   "outputs": [
    {
     "data": {
      "text/plain": [
       "<chainer.optimizers.adam.Adam at 0x7f9284635c10>"
      ]
     },
     "execution_count": 44,
     "metadata": {},
     "output_type": "execute_result"
    }
   ],
   "source": [
    "optimizer.setup(model)"
   ]
  },
  {
   "cell_type": "code",
   "execution_count": 45,
   "metadata": {},
   "outputs": [],
   "source": [
    "batchsize = 10"
   ]
  },
  {
   "cell_type": "code",
   "execution_count": 46,
   "metadata": {},
   "outputs": [],
   "source": [
    "train_iter = chainer.iterators.SerialIterator(train, batchsize)\n",
    "test_iter = chainer.iterators.SerialIterator(test, batchsize,repeat=False)"
   ]
  },
  {
   "cell_type": "code",
   "execution_count": 47,
   "metadata": {},
   "outputs": [],
   "source": [
    "from chainer import training"
   ]
  },
  {
   "cell_type": "code",
   "execution_count": 48,
   "metadata": {},
   "outputs": [],
   "source": [
    "updater = training.StandardUpdater(train_iter, optimizer, device=-1)#GPUとCPUどっちクを使うか。-1の場合CPU、０の場合GPU"
   ]
  },
  {
   "cell_type": "code",
   "execution_count": 49,
   "metadata": {},
   "outputs": [],
   "source": [
    "from chainer.training import extensions"
   ]
  },
  {
   "cell_type": "code",
   "execution_count": 50,
   "metadata": {},
   "outputs": [],
   "source": [
    "epoch = 500"
   ]
  },
  {
   "cell_type": "code",
   "execution_count": 51,
   "metadata": {},
   "outputs": [],
   "source": [
    "#trainerの宣言\n",
    "trainer = training.Trainer(updater, (epoch, 'epoch'), out='result/housing')"
   ]
  },
  {
   "cell_type": "code",
   "execution_count": 52,
   "metadata": {},
   "outputs": [],
   "source": [
    "#検証データで評価\n",
    "trainer.extend(extensions.Evaluator(test_iter, model, device=-1))"
   ]
  },
  {
   "cell_type": "code",
   "execution_count": 53,
   "metadata": {},
   "outputs": [],
   "source": [
    "trainer.extend(extensions.LogReport(trigger=(1, 'epoch')))\n",
    "#1エポックご(trigger)にtrainデータに対するlos.accuarcyとtestデータに対するlos/accuracys,経過時間を出力\n",
    "trainer.extend(extensions.PrintReport(['epoch', 'main/loss', 'validationmain/loss', 'elapsed_time']), trigger=(1,'epoch'))"
   ]
  },
  {
   "cell_type": "code",
   "execution_count": 54,
   "metadata": {},
   "outputs": [
    {
     "name": "stdout",
     "output_type": "stream",
     "text": [
      "epoch       main/loss   validationmain/loss  elapsed_time\n",
      "\u001b[J1           586.752                          0.21054       \n",
      "\u001b[J2           563.275                          0.371422      \n",
      "\u001b[J3           558.635                          0.521933      \n",
      "\u001b[J4           549.934                          0.680808      \n",
      "\u001b[J5           519.615                          0.883881      \n",
      "\u001b[J6           501.516                          1.04341       \n",
      "\u001b[J7           468.455                          1.22062       \n",
      "\u001b[J8           425.415                          1.38633       \n",
      "\u001b[J9           389.234                          1.55507       \n",
      "\u001b[J10          339.814                          1.71133       \n",
      "\u001b[J11          282.401                          1.87004       \n",
      "\u001b[J12          234.195                          2.02139       \n",
      "\u001b[J13          193.638                          2.1699        \n",
      "\u001b[J14          150.549                          2.3286        \n",
      "\u001b[J15          123.591                          2.48557       \n",
      "\u001b[J16          100.424                          2.63963       \n",
      "\u001b[J17          88.5111                          2.79189       \n",
      "\u001b[J18          67.6546                          2.95415       \n",
      "\u001b[J19          65.6149                          3.11562       \n",
      "\u001b[J20          60.0879                          3.3115        \n",
      "\u001b[J21          61.1407                          3.4702        \n",
      "\u001b[J22          55.818                           3.62276       \n",
      "\u001b[J23          59.1923                          3.78992       \n",
      "\u001b[J24          49.2698                          3.94672       \n",
      "\u001b[J25          52.8914                          4.10994       \n",
      "\u001b[J26          51.5659                          4.299         \n",
      "\u001b[J27          54.0266                          4.45127       \n",
      "\u001b[J28          45.3621                          4.61387       \n",
      "\u001b[J29          46.075                           4.76307       \n",
      "\u001b[J30          41.8337                          4.92443       \n",
      "\u001b[J31          48.7777                          5.07851       \n",
      "\u001b[J32          47.9291                          5.25829       \n",
      "\u001b[J33          46.9517                          5.4105        \n",
      "\u001b[J34          44.9229                          5.56378       \n",
      "\u001b[J35          43.2872                          5.72201       \n",
      "\u001b[J36          45.3773                          5.87761       \n",
      "\u001b[J37          43.6818                          6.02047       \n",
      "\u001b[J38          41.4997                          6.16834       \n",
      "\u001b[J39          48.4451                          6.33695       \n",
      "\u001b[J40          42.9801                          6.50074       \n",
      "\u001b[J41          40.1652                          6.65201       \n",
      "\u001b[J42          40.699                           6.80301       \n",
      "\u001b[J43          38.0325                          6.96305       \n",
      "\u001b[J44          39.341                           7.11052       \n",
      "\u001b[J45          41.1061                          7.27738       \n",
      "\u001b[J46          35.9229                          7.4278        \n",
      "\u001b[J47          40.4187                          7.5782        \n",
      "\u001b[J48          34.7855                          7.73798       \n",
      "\u001b[J49          41.1157                          7.89764       \n",
      "\u001b[J50          37.829                           8.04628       \n",
      "\u001b[J51          43.4305                          8.20284       \n",
      "\u001b[J52          37.3687                          8.35737       \n",
      "\u001b[J53          37.6822                          8.50386       \n",
      "\u001b[J54          40.6851                          8.65602       \n",
      "\u001b[J55          39.6638                          8.81494       \n",
      "\u001b[J56          42.0271                          8.9667        \n",
      "\u001b[J57          35.488                           9.11458       \n",
      "\u001b[J58          40.5753                          9.28037       \n",
      "\u001b[J59          37.993                           9.43149       \n",
      "\u001b[J60          39.4162                          9.57626       \n",
      "\u001b[J61          38.1769                          9.72682       \n",
      "\u001b[J62          36.2605                          9.90198       \n",
      "\u001b[J63          35.0462                          10.0534       \n",
      "\u001b[J64          37.5983                          10.2016       \n",
      "\u001b[J65          33.9083                          10.3602       \n",
      "\u001b[J66          36.6705                          10.5077       \n",
      "\u001b[J67          39.9449                          10.6513       \n",
      "\u001b[J68          35.6005                          10.8181       \n",
      "\u001b[J69          31.7384                          10.9787       \n",
      "\u001b[J70          34.9938                          11.1299       \n",
      "\u001b[J71          30.9278                          11.2845       \n",
      "\u001b[J72          37.2141                          11.4403       \n",
      "\u001b[J73          34.491                           11.6027       \n",
      "\u001b[J74          34.8083                          11.7519       \n",
      "\u001b[J75          34.7837                          11.8989       \n",
      "\u001b[J76          32.8573                          12.0596       \n",
      "\u001b[J77          32.7993                          12.2031       \n",
      "\u001b[J78          29.455                           12.3555       \n",
      "\u001b[J79          38.8257                          12.5101       \n",
      "\u001b[J80          31.4338                          12.663        \n",
      "\u001b[J81          36.2548                          12.8388       \n",
      "\u001b[J82          34.1729                          13.0109       \n",
      "\u001b[J83          33.6711                          13.1628       \n",
      "\u001b[J84          32.4829                          13.3396       \n",
      "\u001b[J85          31.6554                          13.4836       \n",
      "\u001b[J86          32.3952                          13.6304       \n",
      "\u001b[J87          32.2048                          13.7829       \n",
      "\u001b[J88          28.6879                          13.9404       \n",
      "\u001b[J89          29.8585                          14.0873       \n",
      "\u001b[J90          34.688                           14.2327       \n",
      "\u001b[J91          32.387                           14.4083       \n",
      "\u001b[J92          36.0815                          14.5577       \n",
      "\u001b[J93          29.7201                          14.7148       \n",
      "\u001b[J94          34.7164                          14.8746       \n",
      "\u001b[J95          31.7007                          15.0439       \n",
      "\u001b[J96          33.5164                          15.1992       \n",
      "\u001b[J97          29.4113                          15.3624       \n",
      "\u001b[J98          30.3028                          15.5211       \n",
      "\u001b[J99          32.3641                          15.6869       \n",
      "\u001b[J100         34.424                           15.8467       \n",
      "\u001b[J101         30.4866                          16.007        \n",
      "\u001b[J102         34.8054                          16.1612       \n",
      "\u001b[J103         31.8522                          16.3077       \n",
      "\u001b[J104         28.4882                          16.4539       \n",
      "\u001b[J105         30.4955                          16.5958       \n",
      "\u001b[J106         32.0034                          16.752        \n",
      "\u001b[J107         31.8909                          16.9076       \n",
      "\u001b[J108         30.96                            17.0648       \n",
      "\u001b[J109         30.7909                          17.2183       \n",
      "\u001b[J110         28.4598                          17.3804       \n",
      "\u001b[J111         31.9796                          17.5368       \n",
      "\u001b[J112         30.2969                          17.684        \n",
      "\u001b[J113         32.923                           17.8345       \n",
      "\u001b[J114         31.8555                          17.9816       \n",
      "\u001b[J115         25.6944                          18.1265       \n",
      "\u001b[J116         33.4388                          18.2813       \n",
      "\u001b[J117         30.4206                          18.4293       \n",
      "\u001b[J118         28.9773                          18.5794       \n",
      "\u001b[J119         31.9713                          18.7244       \n",
      "\u001b[J120         31.6476                          18.8796       \n",
      "\u001b[J121         28.4997                          19.031        \n",
      "\u001b[J122         27.9115                          19.1799       \n",
      "\u001b[J123         26.03                            19.3373       \n",
      "\u001b[J124         30.4595                          19.4817       \n",
      "\u001b[J125         28.0482                          19.6278       \n",
      "\u001b[J126         30.2239                          19.7811       \n",
      "\u001b[J127         27.5016                          19.959        \n",
      "\u001b[J128         27.5426                          20.1135       \n",
      "\u001b[J129         26.1056                          20.2803       \n",
      "\u001b[J130         28.0874                          20.4454       \n",
      "\u001b[J131         28.9057                          20.5989       \n",
      "\u001b[J132         26.7397                          20.7536       \n",
      "\u001b[J133         31.3189                          20.9157       \n",
      "\u001b[J134         28.3855                          21.0708       \n",
      "\u001b[J135         29.0774                          21.2218       \n",
      "\u001b[J136         27.3835                          21.3852       \n",
      "\u001b[J137         27.8134                          21.5406       \n",
      "\u001b[J138         26.9248                          21.7647       \n",
      "\u001b[J139         28.5999                          22.0163       \n",
      "\u001b[J140         27.8941                          22.303        \n",
      "\u001b[J141         30.341                           22.4885       \n",
      "\u001b[J142         26.7086                          22.6854       \n",
      "\u001b[J143         25.9543                          22.9069       \n",
      "\u001b[J144         26.3162                          23.0899       \n",
      "\u001b[J145         31.377                           23.3006       \n",
      "\u001b[J146         28.7954                          23.4733       \n",
      "\u001b[J147         29.6379                          23.6758       \n",
      "\u001b[J148         29.2835                          23.8328       \n",
      "\u001b[J149         26.7783                          24.0546       \n",
      "\u001b[J150         32.5466                          24.2469       \n",
      "\u001b[J151         30.2396                          24.4257       \n",
      "\u001b[J152         28.151                           24.6389       \n",
      "\u001b[J153         27.7698                          24.8107       \n",
      "\u001b[J154         27.8653                          24.9905       \n",
      "\u001b[J155         27.8885                          25.1595       \n",
      "\u001b[J156         27.1529                          25.3385       \n",
      "\u001b[J157         24.0355                          25.5676       \n",
      "\u001b[J158         28.9408                          25.748        \n",
      "\u001b[J159         29.469                           25.9338       \n",
      "\u001b[J160         26.1614                          26.13         \n",
      "\u001b[J161         25.2352                          26.3216       \n",
      "\u001b[J162         27.739                           26.4789       \n",
      "\u001b[J163         26.2436                          26.6375       \n",
      "\u001b[J164         28.0624                          26.7978       \n",
      "\u001b[J165         25.6913                          26.9555       \n",
      "\u001b[J166         27.9577                          27.1086       \n",
      "\u001b[J167         30.1014                          27.2618       \n",
      "\u001b[J168         25.8624                          27.4272       \n",
      "\u001b[J169         26.5875                          27.5811       \n",
      "\u001b[J170         28.1728                          27.7337       \n",
      "\u001b[J171         26.4918                          27.8917       \n",
      "\u001b[J172         29.2841                          28.0425       \n",
      "\u001b[J173         24.795                           28.1945       \n",
      "\u001b[J174         27.4465                          28.3516       \n",
      "\u001b[J175         33.0293                          28.499        \n",
      "\u001b[J176         27.2991                          28.6495       \n",
      "\u001b[J177         23.8414                          28.8205       \n",
      "\u001b[J178         28.3927                          28.9958       \n",
      "\u001b[J179         27.5807                          29.1608       \n",
      "\u001b[J180         27.3362                          29.3145       \n",
      "\u001b[J181         23.9199                          29.4688       \n",
      "\u001b[J182         29.5069                          29.6606       \n",
      "\u001b[J183         26.0969                          29.8296       \n",
      "\u001b[J184         27.2068                          30.0058       \n",
      "\u001b[J185         27.4185                          30.1847       \n",
      "\u001b[J186         29.4039                          30.386        \n",
      "\u001b[J187         24.9668                          30.5369       \n",
      "\u001b[J188         27.614                           30.6966       \n",
      "\u001b[J189         26.7507                          30.879        \n",
      "\u001b[J190         25.8868                          31.044        \n",
      "\u001b[J191         29.3059                          31.2293       \n",
      "\u001b[J192         26.982                           31.4041       \n",
      "\u001b[J193         23.4432                          31.5596       \n",
      "\u001b[J194         28.069                           31.7124       \n",
      "\u001b[J195         24.8624                          31.876        \n",
      "\u001b[J196         29.2298                          32.0348       \n",
      "\u001b[J197         25.7708                          32.192        \n",
      "\u001b[J198         24.6352                          32.4402       \n",
      "\u001b[J199         27.8165                          32.6027       \n",
      "\u001b[J200         25.7015                          32.7621       \n",
      "\u001b[J201         24.822                           32.9714       \n",
      "\u001b[J202         26.8513                          33.1682       \n",
      "\u001b[J203         25.461                           33.3646       \n",
      "\u001b[J204         24.4413                          33.5368       \n",
      "\u001b[J205         30.2239                          33.7248       \n",
      "\u001b[J206         24.6516                          33.9085       \n",
      "\u001b[J207         24.1248                          34.0829       \n",
      "\u001b[J208         25.5984                          34.2602       \n",
      "\u001b[J209         28.7837                          34.4485       \n",
      "\u001b[J210         23.5673                          34.6347       \n",
      "\u001b[J211         25.2717                          34.8016       \n",
      "\u001b[J212         24.3361                          34.9966       \n",
      "\u001b[J213         31.7758                          35.1753       \n",
      "\u001b[J214         24.9463                          35.3977       \n",
      "\u001b[J215         26.565                           35.5818       \n",
      "\u001b[J216         23.7148                          35.7606       \n",
      "\u001b[J217         28.2229                          35.9367       \n",
      "\u001b[J218         25.0687                          36.1068       \n",
      "\u001b[J219         24.6319                          36.2667       \n",
      "\u001b[J220         23.0408                          36.4382       \n",
      "\u001b[J221         24.4638                          36.6232       \n",
      "\u001b[J222         27.9054                          36.7914       \n",
      "\u001b[J223         24.263                           37.0135       \n",
      "\u001b[J224         23.5506                          37.211        \n",
      "\u001b[J225         28.6751                          37.4232       \n",
      "\u001b[J226         28.0141                          37.6384       \n",
      "\u001b[J227         24.2375                          37.8747       \n",
      "\u001b[J228         23.7037                          38.0718       \n",
      "\u001b[J229         28.8767                          38.2326       \n",
      "\u001b[J230         23.6119                          38.416        \n",
      "\u001b[J231         28.3523                          38.5995       \n",
      "\u001b[J232         30.9802                          38.7636       \n",
      "\u001b[J233         29.0373                          38.9948       \n",
      "\u001b[J234         26.3506                          39.161        \n",
      "\u001b[J235         25.6737                          39.3665       \n",
      "\u001b[J236         23.6383                          39.5311       \n",
      "\u001b[J237         23.2078                          39.7526       \n",
      "\u001b[J238         28.515                           39.9816       \n",
      "\u001b[J239         24.2929                          40.1764       \n",
      "\u001b[J240         26.4723                          40.432        \n",
      "\u001b[J241         27.7716                          40.6025       \n",
      "\u001b[J242         27.752                           40.7902       \n",
      "\u001b[J243         23.5205                          40.9829       \n",
      "\u001b[J244         24.4974                          41.1535       \n",
      "\u001b[J245         27.5843                          41.3122       \n",
      "\u001b[J246         27.1981                          41.4837       \n",
      "\u001b[J247         19.8458                          41.6539       \n",
      "\u001b[J248         26.3871                          41.8094       \n",
      "\u001b[J249         25.5318                          41.9762       \n",
      "\u001b[J250         22.8815                          42.1402       \n",
      "\u001b[J251         24.4136                          42.3477       \n",
      "\u001b[J252         25.3673                          42.5684       \n",
      "\u001b[J253         25.5011                          42.7688       \n",
      "\u001b[J254         23.9463                          42.9546       \n",
      "\u001b[J255         20.9781                          43.1303       \n",
      "\u001b[J256         24.6864                          43.3035       \n",
      "\u001b[J257         25.427                           43.5118       \n",
      "\u001b[J258         27.7196                          43.6823       \n",
      "\u001b[J259         28.3955                          43.851        \n",
      "\u001b[J260         23.4917                          44.0548       \n",
      "\u001b[J261         25.819                           44.2176       \n",
      "\u001b[J262         26.5406                          44.3793       \n",
      "\u001b[J263         25.0361                          44.5446       \n",
      "\u001b[J264         24.298                           44.7059       \n",
      "\u001b[J265         27.2727                          44.8846       \n",
      "\u001b[J266         22.7832                          45.0804       \n",
      "\u001b[J267         25.4957                          45.2486       \n",
      "\u001b[J268         26.1505                          45.4266       \n",
      "\u001b[J269         25.5053                          45.5913       \n",
      "\u001b[J270         26.3201                          45.7608       \n",
      "\u001b[J271         23.1672                          45.9562       \n",
      "\u001b[J272         24.1615                          46.1159       \n",
      "\u001b[J273         25.7926                          46.2848       \n",
      "\u001b[J274         25.2275                          46.4567       \n",
      "\u001b[J275         24.2674                          46.616        \n",
      "\u001b[J276         27.42                            46.7982       \n",
      "\u001b[J277         23.719                           46.9793       \n",
      "\u001b[J278         22.505                           47.1495       \n",
      "\u001b[J279         29.8728                          47.3168       \n",
      "\u001b[J280         23.6569                          47.4895       \n",
      "\u001b[J281         21.1707                          47.6526       \n",
      "\u001b[J282         25.043                           47.8079       \n",
      "\u001b[J283         21.8624                          47.9806       \n",
      "\u001b[J284         26.6357                          48.147        \n",
      "\u001b[J285         25.4745                          48.3123       \n",
      "\u001b[J286         24.034                           48.492        \n",
      "\u001b[J287         27.7308                          48.6614       \n",
      "\u001b[J288         22.9814                          48.8321       \n",
      "\u001b[J289         24.6506                          49.0256       \n",
      "\u001b[J290         24.0995                          49.2418       \n",
      "\u001b[J291         26.5159                          49.4219       \n",
      "\u001b[J292         21.84                            49.6097       \n",
      "\u001b[J293         22.6905                          49.7762       \n",
      "\u001b[J294         23.4319                          49.9794       \n",
      "\u001b[J295         30.9895                          50.156        \n",
      "\u001b[J296         27.4838                          50.3295       \n",
      "\u001b[J297         22.6358                          50.5016       \n",
      "\u001b[J298         24.6376                          50.7088       \n",
      "\u001b[J299         25.557                           50.8963       \n",
      "\u001b[J300         27.8271                          51.0669       \n",
      "\u001b[J301         21.6296                          51.2688       \n",
      "\u001b[J302         23.8898                          51.468        \n",
      "\u001b[J303         23.4278                          51.665        \n",
      "\u001b[J304         23.6425                          51.8576       \n",
      "\u001b[J305         26.6778                          52.0243       \n",
      "\u001b[J306         25.628                           52.2135       \n",
      "\u001b[J307         24.4221                          52.3757       \n",
      "\u001b[J308         25.2411                          52.5813       \n",
      "\u001b[J309         27.7463                          52.7599       \n",
      "\u001b[J310         27.2945                          52.9329       \n",
      "\u001b[J311         25.1863                          53.1101       \n",
      "\u001b[J312         28.1551                          53.2843       \n",
      "\u001b[J313         23.5699                          53.5099       \n",
      "\u001b[J314         25.2321                          53.6823       \n",
      "\u001b[J315         27.1728                          53.875        \n",
      "\u001b[J316         25.5742                          54.0739       \n",
      "\u001b[J317         24.0797                          54.267        \n",
      "\u001b[J318         22.2759                          54.434        \n",
      "\u001b[J319         26.6553                          54.6247       \n",
      "\u001b[J320         26.5009                          54.8171       \n",
      "\u001b[J321         25.2868                          54.9948       \n",
      "\u001b[J322         24.8341                          55.1723       \n",
      "\u001b[J323         27.2285                          55.3744       \n",
      "\u001b[J324         23.4165                          55.5726       \n",
      "\u001b[J325         27.7611                          55.7705       \n",
      "\u001b[J326         26.7349                          55.9927       \n",
      "\u001b[J327         25.8481                          56.1548       \n",
      "\u001b[J328         26.9914                          56.327        \n",
      "\u001b[J329         27.7635                          56.5359       \n",
      "\u001b[J330         23.9144                          56.7073       \n",
      "\u001b[J331         23.4388                          56.8755       \n",
      "\u001b[J332         21.8133                          57.0737       \n",
      "\u001b[J333         24.9123                          57.2689       \n",
      "\u001b[J334         24.7397                          57.4337       \n",
      "\u001b[J335         24.9186                          57.6192       \n",
      "\u001b[J336         27.2415                          57.7799       \n",
      "\u001b[J337         26.796                           57.9655       \n",
      "\u001b[J338         25.0822                          58.1368       \n",
      "\u001b[J339         24.5977                          58.3124       \n",
      "\u001b[J340         24.2947                          58.4797       \n",
      "\u001b[J341         24.4182                          58.6737       \n",
      "\u001b[J342         22.8065                          58.8687       \n",
      "\u001b[J343         24.8797                          59.0428       \n",
      "\u001b[J344         25.0485                          59.2137       \n",
      "\u001b[J345         27.125                           59.3868       \n",
      "\u001b[J346         25.3045                          59.5713       \n",
      "\u001b[J347         23.0696                          59.744        \n",
      "\u001b[J348         24.3624                          59.9372       \n",
      "\u001b[J349         23.68                            60.1484       \n",
      "\u001b[J350         28.1879                          60.3135       \n",
      "\u001b[J351         23.4195                          60.4899       \n",
      "\u001b[J352         25.0538                          60.6737       \n",
      "\u001b[J353         23.1554                          60.8885       \n",
      "\u001b[J354         23.7773                          61.0758       \n",
      "\u001b[J355         24.5237                          61.2837       \n",
      "\u001b[J356         25.759                           61.486        \n",
      "\u001b[J357         23.7287                          61.6837       \n",
      "\u001b[J358         23.7625                          61.8824       \n",
      "\u001b[J359         26.9942                          62.083        \n",
      "\u001b[J360         22.2321                          62.2778       \n",
      "\u001b[J361         28.4675                          62.448        \n",
      "\u001b[J362         19.4148                          62.631        \n",
      "\u001b[J363         26.3175                          62.8324       \n",
      "\u001b[J364         22.8617                          63.0303       \n",
      "\u001b[J365         23.164                           63.2288       \n",
      "\u001b[J366         24.5699                          63.4644       \n",
      "\u001b[J367         24.2437                          63.6243       \n",
      "\u001b[J368         21.9293                          63.7873       \n",
      "\u001b[J369         24.2954                          63.9822       \n",
      "\u001b[J370         27.0355                          64.177        \n",
      "\u001b[J371         24.5331                          64.3353       \n",
      "\u001b[J372         22.5457                          64.5278       \n",
      "\u001b[J373         23.4695                          64.7374       \n",
      "\u001b[J374         26.6504                          64.9324       \n",
      "\u001b[J375         23.2145                          65.142        \n",
      "\u001b[J376         25.3903                          65.3666       \n",
      "\u001b[J377         25.0256                          65.5261       \n",
      "\u001b[J378         24.9281                          65.6923       \n",
      "\u001b[J379         25.4941                          65.8852       \n",
      "\u001b[J380         22.9449                          66.0905       \n",
      "\u001b[J381         23.6764                          66.3207       \n",
      "\u001b[J382         22.9976                          66.5147       \n",
      "\u001b[J383         22.1365                          66.6906       \n",
      "\u001b[J384         24.7628                          66.9649       \n",
      "\u001b[J385         24.1206                          67.2048       \n",
      "\u001b[J386         26.2711                          67.432        \n",
      "\u001b[J387         23.7941                          67.6663       \n",
      "\u001b[J388         26.0208                          67.9164       \n",
      "\u001b[J389         23.3257                          68.1461       \n",
      "\u001b[J390         25.8957                          68.3343       \n",
      "\u001b[J391         25.9945                          68.5686       \n",
      "\u001b[J392         25.4136                          68.7582       \n",
      "\u001b[J393         22.3422                          68.9576       \n",
      "\u001b[J394         22.6956                          69.1335       \n",
      "\u001b[J395         23.6402                          69.3465       \n",
      "\u001b[J396         23.8331                          69.5378       \n",
      "\u001b[J397         23.0511                          69.7347       \n",
      "\u001b[J398         24.6136                          69.9086       \n",
      "\u001b[J399         23.4957                          70.1029       \n",
      "\u001b[J400         28.3085                          70.3293       \n",
      "\u001b[J401         24.6344                          70.5105       \n",
      "\u001b[J402         27.4736                          70.688        \n",
      "\u001b[J403         24.4309                          70.9075       \n",
      "\u001b[J404         24.7212                          71.083        \n",
      "\u001b[J405         23.0189                          71.2673       \n",
      "\u001b[J406         25.1569                          71.4568       \n",
      "\u001b[J407         24.1006                          71.6373       \n",
      "\u001b[J408         24.8044                          71.8523       \n",
      "\u001b[J409         23.6234                          72.0398       \n",
      "\u001b[J410         27.2517                          72.2588       \n",
      "\u001b[J411         25.041                           72.4326       \n",
      "\u001b[J412         25.1238                          72.6196       \n",
      "\u001b[J413         21.8429                          72.7898       \n",
      "\u001b[J414         20.6096                          72.9889       \n",
      "\u001b[J415         24.5295                          73.1893       \n",
      "\u001b[J416         22.2674                          73.3957       \n",
      "\u001b[J417         25.6489                          73.6539       \n",
      "\u001b[J418         24.5417                          73.8316       \n",
      "\u001b[J419         22.4714                          73.9996       \n",
      "\u001b[J420         22.3443                          74.1909       \n",
      "\u001b[J421         25.6502                          74.3556       \n",
      "\u001b[J422         24.2969                          74.5637       \n",
      "\u001b[J423         26.8252                          74.7475       \n",
      "\u001b[J424         21.6581                          74.9552       \n",
      "\u001b[J425         26.322                           75.1499       \n",
      "\u001b[J426         27.3477                          75.3564       \n",
      "\u001b[J427         21.5524                          75.5415       \n",
      "\u001b[J428         24.7621                          75.7088       \n",
      "\u001b[J429         25.8597                          75.9134       \n",
      "\u001b[J430         23.6286                          76.1058       \n",
      "\u001b[J431         20.5727                          76.2926       \n",
      "\u001b[J432         26.2081                          76.5345       \n",
      "\u001b[J433         24.166                           76.7124       \n",
      "\u001b[J434         27.6156                          76.8983       \n",
      "\u001b[J435         25.7273                          77.1285       \n",
      "\u001b[J436         26.0817                          77.3087       \n",
      "\u001b[J437         23.983                           77.5244       \n",
      "\u001b[J438         25.0308                          77.7347       \n",
      "\u001b[J439         28.0547                          77.9078       \n",
      "\u001b[J440         23.391                           78.0867       \n",
      "\u001b[J441         23.6992                          78.253        \n",
      "\u001b[J442         28.6995                          78.4401       \n",
      "\u001b[J443         23.5713                          78.6006       \n",
      "\u001b[J444         20.9335                          78.8386       \n",
      "\u001b[J445         20.3886                          79.0081       \n",
      "\u001b[J446         22.8351                          79.1894       \n",
      "\u001b[J447         22.486                           79.345        \n",
      "\u001b[J448         26.3945                          79.5158       \n",
      "\u001b[J449         25.8674                          79.6953       \n",
      "\u001b[J450         26.9889                          79.858        \n",
      "\u001b[J451         27.3879                          80.0697       \n",
      "\u001b[J452         21.5589                          80.239        \n",
      "\u001b[J453         25.1257                          80.399        \n",
      "\u001b[J454         22.3117                          80.5976       \n",
      "\u001b[J455         27.7936                          80.8288       \n",
      "\u001b[J456         23.6914                          81.0235       \n",
      "\u001b[J457         25.3377                          81.1859       \n",
      "\u001b[J458         22.353                           81.346        \n",
      "\u001b[J459         24.7439                          81.508        \n",
      "\u001b[J460         22.776                           81.6935       \n",
      "\u001b[J461         24.6439                          81.8543       \n",
      "\u001b[J462         21.6679                          82.0508       \n",
      "\u001b[J463         23.3639                          82.2794       \n",
      "\u001b[J464         20.4892                          82.4416       \n",
      "\u001b[J465         23.0184                          82.6179       \n",
      "\u001b[J466         26.5835                          82.79         \n",
      "\u001b[J467         24.5985                          82.9436       \n",
      "\u001b[J468         23.3428                          83.1167       \n",
      "\u001b[J469         24.1852                          83.2947       \n",
      "\u001b[J470         22.931                           83.5353       \n",
      "\u001b[J471         22.695                           83.7139       \n",
      "\u001b[J472         25.9624                          83.8982       \n",
      "\u001b[J473         23.9791                          84.1253       \n",
      "\u001b[J474         25.202                           84.3052       \n",
      "\u001b[J475         24.2665                          84.5273       \n",
      "\u001b[J476         23.6951                          84.7004       \n",
      "\u001b[J477         26.059                           84.9009       \n",
      "\u001b[J478         22.7364                          85.1528       \n",
      "\u001b[J479         23.9321                          85.3526       \n",
      "\u001b[J480         22.0092                          85.5855       \n",
      "\u001b[J481         22.2136                          85.7827       \n",
      "\u001b[J482         22.5059                          85.9563       \n",
      "\u001b[J483         23.7216                          86.1555       \n",
      "\u001b[J484         24.716                           86.3726       \n",
      "\u001b[J485         24.419                           86.5395       \n",
      "\u001b[J486         23.0037                          86.7091       \n",
      "\u001b[J487         25.476                           86.9001       \n",
      "\u001b[J488         24.7401                          87.0743       \n",
      "\u001b[J489         26.9203                          87.2517       \n",
      "\u001b[J490         23.9869                          87.4538       \n",
      "\u001b[J491         23.8597                          87.6189       \n",
      "\u001b[J492         24.2662                          87.8028       \n",
      "\u001b[J493         22.9907                          88.0079       \n",
      "\u001b[J494         21.2217                          88.2411       \n",
      "\u001b[J495         24.5728                          88.4033       \n",
      "\u001b[J496         23.8811                          88.6222       \n",
      "\u001b[J497         22.7973                          88.8269       \n",
      "\u001b[J498         25.0222                          89.066        \n",
      "\u001b[J499         21.8449                          89.2614       \n",
      "\u001b[J500         25.9034                          89.4597       \n"
     ]
    }
   ],
   "source": [
    "trainer.run()"
   ]
  },
  {
   "cell_type": "code",
   "execution_count": 55,
   "metadata": {},
   "outputs": [],
   "source": [
    "import json"
   ]
  },
  {
   "cell_type": "code",
   "execution_count": 56,
   "metadata": {},
   "outputs": [],
   "source": [
    "with open('result/housing/log') as f:\n",
    "    logs = json.load(f)\n",
    "    results = pd.DataFrame(logs)"
   ]
  },
  {
   "cell_type": "code",
   "execution_count": 57,
   "metadata": {},
   "outputs": [
    {
     "data": {
      "text/html": [
       "<div>\n",
       "<style scoped>\n",
       "    .dataframe tbody tr th:only-of-type {\n",
       "        vertical-align: middle;\n",
       "    }\n",
       "\n",
       "    .dataframe tbody tr th {\n",
       "        vertical-align: top;\n",
       "    }\n",
       "\n",
       "    .dataframe thead th {\n",
       "        text-align: right;\n",
       "    }\n",
       "</style>\n",
       "<table border=\"1\" class=\"dataframe\">\n",
       "  <thead>\n",
       "    <tr style=\"text-align: right;\">\n",
       "      <th></th>\n",
       "      <th>main/loss</th>\n",
       "      <th>validation/main/loss</th>\n",
       "      <th>epoch</th>\n",
       "      <th>iteration</th>\n",
       "      <th>elapsed_time</th>\n",
       "    </tr>\n",
       "  </thead>\n",
       "  <tbody>\n",
       "    <tr>\n",
       "      <td>0</td>\n",
       "      <td>586.751967</td>\n",
       "      <td>627.224207</td>\n",
       "      <td>1</td>\n",
       "      <td>36</td>\n",
       "      <td>0.210540</td>\n",
       "    </tr>\n",
       "    <tr>\n",
       "      <td>1</td>\n",
       "      <td>563.274570</td>\n",
       "      <td>601.998951</td>\n",
       "      <td>2</td>\n",
       "      <td>71</td>\n",
       "      <td>0.371422</td>\n",
       "    </tr>\n",
       "    <tr>\n",
       "      <td>2</td>\n",
       "      <td>558.635174</td>\n",
       "      <td>648.445013</td>\n",
       "      <td>3</td>\n",
       "      <td>107</td>\n",
       "      <td>0.521933</td>\n",
       "    </tr>\n",
       "    <tr>\n",
       "      <td>3</td>\n",
       "      <td>549.934140</td>\n",
       "      <td>562.628119</td>\n",
       "      <td>4</td>\n",
       "      <td>142</td>\n",
       "      <td>0.680808</td>\n",
       "    </tr>\n",
       "    <tr>\n",
       "      <td>4</td>\n",
       "      <td>519.615303</td>\n",
       "      <td>540.374960</td>\n",
       "      <td>5</td>\n",
       "      <td>177</td>\n",
       "      <td>0.883881</td>\n",
       "    </tr>\n",
       "  </tbody>\n",
       "</table>\n",
       "</div>"
      ],
      "text/plain": [
       "    main/loss  validation/main/loss  epoch  iteration  elapsed_time\n",
       "0  586.751967            627.224207      1         36      0.210540\n",
       "1  563.274570            601.998951      2         71      0.371422\n",
       "2  558.635174            648.445013      3        107      0.521933\n",
       "3  549.934140            562.628119      4        142      0.680808\n",
       "4  519.615303            540.374960      5        177      0.883881"
      ]
     },
     "execution_count": 57,
     "metadata": {},
     "output_type": "execute_result"
    }
   ],
   "source": [
    "results.head()"
   ]
  },
  {
   "cell_type": "code",
   "execution_count": 58,
   "metadata": {},
   "outputs": [
    {
     "data": {
      "text/plain": [
       "<matplotlib.axes._subplots.AxesSubplot at 0x7f928330c7d0>"
      ]
     },
     "execution_count": 58,
     "metadata": {},
     "output_type": "execute_result"
    },
    {
     "data": {
      "image/png": "[encoded data removed]",
      "text/plain": [
       "<Figure size 432x288 with 1 Axes>"
      ]
     },
     "metadata": {
      "needs_background": "light"
     },
     "output_type": "display_data"
    }
   ],
   "source": [
    "results[[\"main/loss\", \"validation/main/loss\"]].plot()\n"
   ]
  },
  {
   "cell_type": "code",
   "execution_count": 59,
   "metadata": {},
   "outputs": [
    {
     "data": {
      "text/plain": [
       "17.695321053266525"
      ]
     },
     "execution_count": 59,
     "metadata": {},
     "output_type": "execute_result"
    }
   ],
   "source": [
    "loss = results[\"validation/main/loss\"].values[-1]\n",
    "loss"
   ]
  },
  {
   "cell_type": "code",
   "execution_count": 60,
   "metadata": {},
   "outputs": [],
   "source": [
    "import math "
   ]
  },
  {
   "cell_type": "code",
   "execution_count": 61,
   "metadata": {},
   "outputs": [
    {
     "data": {
      "text/plain": [
       "4.207"
      ]
     },
     "execution_count": 61,
     "metadata": {},
     "output_type": "execute_result"
    }
   ],
   "source": [
    "math.sqrt(loss)"
   ]
  },
  {
   "cell_type": "code",
   "execution_count": null,
   "metadata": {},
   "outputs": [],
   "source": []
  },
  {
   "cell_type": "code",
   "execution_count": null,
   "metadata": {},
   "outputs": [],
   "source": []
  }
 ],
 "metadata": {
  "kernelspec": {
   "display_name": "Python 3",
   "language": "python",
   "name": "python3"
  },
  "language_info": {
   "codemirror_mode": {
    "name": "ipython",
    "version": 3
   },
   "file_extension": ".py",
   "mimetype": "text/x-python",
   "name": "python",
   "nbconvert_exporter": "python",
   "pygments_lexer": "ipython3",
   "version": "3.7.4"
  }
 },
 "nbformat": 4,
 "nbformat_minor": 4
}
