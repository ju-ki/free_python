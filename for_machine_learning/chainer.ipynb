{
 "cells": [
  {
   "cell_type": "code",
   "execution_count": 1,
   "metadata": {},
   "outputs": [],
   "source": [
    "import chainer"
   ]
  },
  {
   "cell_type": "code",
   "execution_count": 2,
   "metadata": {},
   "outputs": [
    {
     "name": "stdout",
     "output_type": "stream",
     "text": [
      "Platform: Linux-4.19.76-linuxkit-x86_64-with-debian-bullseye-sid\n",
      "Chainer: 7.7.0\n",
      "ChainerX: Not Available\n",
      "NumPy: 1.17.2\n",
      "CuPy: Not Available\n",
      "iDeep: Not Available\n"
     ]
    }
   ],
   "source": [
    "chainer.print_runtime_info()"
   ]
  },
  {
   "cell_type": "code",
   "execution_count": 3,
   "metadata": {},
   "outputs": [
    {
     "name": "stdout",
     "output_type": "stream",
     "text": [
      "x: (150, 4)\n",
      "t: (150,)\n"
     ]
    }
   ],
   "source": [
    "from sklearn.datasets import load_iris\n",
    "\n",
    "# Iris データセットの読み込み\n",
    "x, t = load_iris(return_X_y=True)\n",
    "\n",
    "print('x:', x.shape)\n",
    "print('t:', t.shape)"
   ]
  },
  {
   "cell_type": "code",
   "execution_count": 4,
   "metadata": {},
   "outputs": [],
   "source": [
    "# それぞれデータ型を変換\n",
    "x = x.astype('float32')\n",
    "t = t.astype('int32')"
   ]
  },
  {
   "cell_type": "code",
   "execution_count": 5,
   "metadata": {},
   "outputs": [],
   "source": [
    "# データセットを分割するモジュールの読み込み\n",
    "#訓練データと検証データの二つを合わせたものとテストデータが7:3になるように分割\n",
    "from sklearn.model_selection import train_test_split\n",
    "\n",
    "x_train_val, x_test, t_train_val, t_test = train_test_split(x, t, test_size=0.3, random_state=0)"
   ]
  },
  {
   "cell_type": "code",
   "execution_count": 7,
   "metadata": {},
   "outputs": [],
   "source": [
    "#訓練データと検証データを7:3に分割\n",
    "x_train, x_val, t_train, t_val = train_test_split(x_train_val, t_train_val, test_size=0.3, random_state=0)"
   ]
  },
  {
   "cell_type": "code",
   "execution_count": 8,
   "metadata": {},
   "outputs": [],
   "source": [
    "import chainer.links as L\n",
    "import chainer.functions as F"
   ]
  },
  {
   "cell_type": "code",
   "execution_count": 9,
   "metadata": {},
   "outputs": [],
   "source": [
    "l = L.Linear(3, 2)"
   ]
  },
  {
   "cell_type": "code",
   "execution_count": 10,
   "metadata": {},
   "outputs": [],
   "source": [
    "from chainer import Sequential\n",
    "\n",
    "n_input = 4\n",
    "n_hidden = 10\n",
    "n_output = 3\n",
    "\n",
    "net = Sequential(L.Linear(n_input, n_hidden), F.relu,\n",
    "                 L.Linear(n_hidden, n_hidden), F.relu,\n",
    "                 L.Linear(n_hidden, n_output))"
   ]
  },
  {
   "cell_type": "code",
   "execution_count": 11,
   "metadata": {},
   "outputs": [],
   "source": [
    "optimizer = chainer.optimizers.SGD(lr=0.01)"
   ]
  },
  {
   "cell_type": "code",
   "execution_count": 12,
   "metadata": {},
   "outputs": [
    {
     "data": {
      "text/plain": [
       "<chainer.optimizers.sgd.SGD at 0x7f3deee1f910>"
      ]
     },
     "execution_count": 12,
     "metadata": {},
     "output_type": "execute_result"
    }
   ],
   "source": [
    "optimizer.setup(net)"
   ]
  },
  {
   "cell_type": "code",
   "execution_count": 13,
   "metadata": {},
   "outputs": [],
   "source": [
    "n_epoch = 30\n",
    "n_batchsize = 16"
   ]
  },
  {
   "cell_type": "code",
   "execution_count": 14,
   "metadata": {},
   "outputs": [],
   "source": [
    "import numpy as np"
   ]
  },
  {
   "cell_type": "code",
   "execution_count": 15,
   "metadata": {},
   "outputs": [],
   "source": [
    "iteration = 0\n",
    "\n",
    "results_train = {\n",
    "    'loss': [],\n",
    "    'accuracy': []\n",
    "}\n",
    "\n",
    "results_valid = {\n",
    "    'loss' : [],\n",
    "    'accuracy' : []\n",
    "}"
   ]
  },
  {
   "cell_type": "code",
   "execution_count": 17,
   "metadata": {},
   "outputs": [
    {
     "name": "stdout",
     "output_type": "stream",
     "text": [
      "epoch: 0, iteration: 5, loss (train): 1.1707, loss (valid): 1.1216\n",
      "epoch: 1, iteration: 10, loss (train): 1.0912, loss (valid): 1.0457\n",
      "epoch: 2, iteration: 15, loss (train): 1.0433, loss (valid): 1.0922\n",
      "epoch: 3, iteration: 20, loss (train): 0.9724, loss (valid): 1.0092\n",
      "epoch: 4, iteration: 25, loss (train): 0.9451, loss (valid): 0.9835\n",
      "epoch: 5, iteration: 30, loss (train): 0.9376, loss (valid): 0.9571\n",
      "epoch: 6, iteration: 35, loss (train): 0.9124, loss (valid): 0.9220\n",
      "epoch: 7, iteration: 40, loss (train): 0.8884, loss (valid): 0.9017\n",
      "epoch: 8, iteration: 45, loss (train): 0.8470, loss (valid): 0.9699\n",
      "epoch: 9, iteration: 50, loss (train): 0.8010, loss (valid): 0.9826\n",
      "epoch: 10, iteration: 55, loss (train): 0.8833, loss (valid): 0.8337\n",
      "epoch: 11, iteration: 60, loss (train): 0.7936, loss (valid): 0.7485\n",
      "epoch: 12, iteration: 65, loss (train): 0.7655, loss (valid): 0.7363\n",
      "epoch: 13, iteration: 70, loss (train): 0.7350, loss (valid): 0.7184\n",
      "epoch: 14, iteration: 75, loss (train): 0.7343, loss (valid): 0.7482\n",
      "epoch: 15, iteration: 80, loss (train): 0.7195, loss (valid): 0.6782\n",
      "epoch: 16, iteration: 85, loss (train): 0.6668, loss (valid): 0.6333\n",
      "epoch: 17, iteration: 90, loss (train): 0.6772, loss (valid): 0.6419\n",
      "epoch: 18, iteration: 95, loss (train): 0.6449, loss (valid): 0.6132\n",
      "epoch: 19, iteration: 100, loss (train): 0.6263, loss (valid): 0.5866\n",
      "epoch: 20, iteration: 105, loss (train): 0.6140, loss (valid): 0.5614\n",
      "epoch: 21, iteration: 110, loss (train): 0.5924, loss (valid): 0.5349\n",
      "epoch: 22, iteration: 115, loss (train): 0.5939, loss (valid): 0.5209\n",
      "epoch: 23, iteration: 120, loss (train): 0.5667, loss (valid): 0.5819\n",
      "epoch: 24, iteration: 125, loss (train): 0.5647, loss (valid): 0.5590\n",
      "epoch: 25, iteration: 130, loss (train): 0.5401, loss (valid): 0.4834\n",
      "epoch: 26, iteration: 135, loss (train): 0.5114, loss (valid): 0.4859\n",
      "epoch: 27, iteration: 140, loss (train): 0.5127, loss (valid): 0.4681\n",
      "epoch: 28, iteration: 145, loss (train): 0.5061, loss (valid): 0.4381\n",
      "epoch: 29, iteration: 150, loss (train): 0.5245, loss (valid): 0.4200\n"
     ]
    }
   ],
   "source": [
    "for epoch in range(n_epoch):\n",
    "\n",
    "    # データセット並べ替えた順番を取得\n",
    "    order = np.random.permutation(range(len(x_train)))\n",
    "\n",
    "    # 各バッチ毎の目的関数の出力と分類精度の保存用\n",
    "    loss_list = []\n",
    "    accuracy_list = []\n",
    "\n",
    "    for i in range(0, len(order), n_batchsize):\n",
    "        # バッチを準備\n",
    "        index = order[i:i+n_batchsize]\n",
    "        x_train_batch = x_train[index,:]\n",
    "        t_train_batch = t_train[index]\n",
    "\n",
    "        # 予測値を出力\n",
    "        y_train_batch = net(x_train_batch)\n",
    "\n",
    "        # 目的関数を適用し、分類精度を計算\n",
    "        loss_train_batch = F.softmax_cross_entropy(y_train_batch, t_train_batch)\n",
    "        accuracy_train_batch = F.accuracy(y_train_batch, t_train_batch)\n",
    "\n",
    "        loss_list.append(loss_train_batch.array)\n",
    "        accuracy_list.append(accuracy_train_batch.array)\n",
    "\n",
    "        # 勾配のリセットと勾配の計算\n",
    "        net.cleargrads()\n",
    "        loss_train_batch.backward()\n",
    "\n",
    "        # パラメータの更新\n",
    "        optimizer.update()\n",
    "\n",
    "        # カウントアップ\n",
    "        iteration += 1\n",
    "\n",
    "    # 訓練データに対する目的関数の出力と分類精度を集計\n",
    "    loss_train = np.mean(loss_list)\n",
    "    accuracy_train = np.mean(accuracy_list)\n",
    "\n",
    "    # 1エポック終えたら、検証データで評価\n",
    "    # 検証データで予測値を出力\n",
    "    with chainer.using_config('train', False), chainer.using_config('enable_backprop', False):\n",
    "        y_val = net(x_val)\n",
    "\n",
    "    # 目的関数を適用し、分類精度を計算\n",
    "    loss_val = F.softmax_cross_entropy(y_val, t_val)\n",
    "    accuracy_val = F.accuracy(y_val, t_val)\n",
    "\n",
    "    # 結果の表示\n",
    "    print('epoch: {}, iteration: {}, loss (train): {:.4f}, loss (valid): {:.4f}'.format(\n",
    "        epoch, iteration, loss_train, loss_val.array))\n",
    "\n",
    "    # ログを保存\n",
    "    results_train['loss'] .append(loss_train)\n",
    "    results_train['accuracy'] .append(accuracy_train)\n",
    "    results_valid['loss'].append(loss_val.array)\n",
    "    results_valid['accuracy'].append(accuracy_val.array)"
   ]
  },
  {
   "cell_type": "code",
   "execution_count": 18,
   "metadata": {},
   "outputs": [],
   "source": [
    "%matplotlib inline\n",
    "import matplotlib.pyplot as plt"
   ]
  },
  {
   "cell_type": "code",
   "execution_count": 20,
   "metadata": {},
   "outputs": [
    {
     "data": {
      "text/plain": [
       "Text(0, 0.5, 'Output of Objective functions')"
      ]
     },
     "execution_count": 20,
     "metadata": {},
     "output_type": "execute_result"
    },
    {
     "data": {
      "image/png": "[encoded data removed]",
      "text/plain": [
       "<Figure size 432x288 with 1 Axes>"
      ]
     },
     "metadata": {
      "needs_background": "light"
     },
     "output_type": "display_data"
    }
   ],
   "source": [
    "plt.plot(results_train['loss'], label='train')\n",
    "plt.plot(results_valid['loss'], label='valid')\n",
    "plt.legend()\n",
    "plt.xlabel('Epoch')\n",
    "plt.ylabel('Output of Objective functions')"
   ]
  },
  {
   "cell_type": "code",
   "execution_count": 22,
   "metadata": {},
   "outputs": [
    {
     "data": {
      "text/plain": [
       "Text(0, 0.5, 'Accuracy')"
      ]
     },
     "execution_count": 22,
     "metadata": {},
     "output_type": "execute_result"
    },
    {
     "data": {
      "image/png": "[encoded data removed]",
      "text/plain": [
       "<Figure size 432x288 with 1 Axes>"
      ]
     },
     "metadata": {
      "needs_background": "light"
     },
     "output_type": "display_data"
    }
   ],
   "source": [
    "plt.plot(results_train['accuracy'], label='train')\n",
    "plt.plot(results_valid['accuracy'], label='valid')\n",
    "plt.legend()\n",
    "plt.xlabel('Epoch')\n",
    "plt.ylabel('Accuracy')"
   ]
  },
  {
   "cell_type": "code",
   "execution_count": null,
   "metadata": {},
   "outputs": [],
   "source": []
  }
 ],
 "metadata": {
  "kernelspec": {
   "display_name": "Python 3",
   "language": "python",
   "name": "python3"
  },
  "language_info": {
   "codemirror_mode": {
    "name": "ipython",
    "version": 3
   },
   "file_extension": ".py",
   "mimetype": "text/x-python",
   "name": "python",
   "nbconvert_exporter": "python",
   "pygments_lexer": "ipython3",
   "version": "3.7.4"
  }
 },
 "nbformat": 4,
 "nbformat_minor": 4
}
