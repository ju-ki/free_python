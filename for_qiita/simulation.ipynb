{
 "cells": [
  {
   "cell_type": "code",
   "execution_count": 1,
   "metadata": {},
   "outputs": [
    {
     "data": {
      "text/plain": [
       "'%.3f'"
      ]
     },
     "execution_count": 1,
     "metadata": {},
     "output_type": "execute_result"
    }
   ],
   "source": [
    "import numpy as np\n",
    "import matplotlib.pyplot as plt\n",
    "import pandas as pd\n",
    "import scipy as sp\n",
    "import seaborn as sns\n",
    "%matplotlib inline\n",
    "sns.set()\n",
    "%precision 3"
   ]
  },
  {
   "cell_type": "code",
   "execution_count": null,
   "metadata": {},
   "outputs": [],
   "source": []
  },
  {
   "cell_type": "code",
   "execution_count": null,
   "metadata": {},
   "outputs": [],
   "source": []
  },
  {
   "cell_type": "code",
   "execution_count": null,
   "metadata": {},
   "outputs": [],
   "source": []
  },
  {
   "cell_type": "code",
   "execution_count": null,
   "metadata": {},
   "outputs": [],
   "source": []
  },
  {
   "cell_type": "code",
   "execution_count": 336,
   "metadata": {},
   "outputs": [],
   "source": [
    "max_value = [] \n",
    "summation = 20\n",
    "result = []\n",
    "\n",
    "for pl in range(10000):\n",
    "    for i in range(114):\n",
    "        club = np.random.randint(0,3)\n",
    "        pracitice = np.random.randint(0,2)\n",
    "        if pracitice == 0:\n",
    "            battle = np.random.randint(0,2)\n",
    "            if battle == 0:\n",
    "                win = np.random.randint(2,4)\n",
    "                summation = summation + club + win\n",
    "                max_value.append(summation)\n",
    "            elif battle == 1:\n",
    "                lose = np.random.randint(1, 3)\n",
    "                summation = summation + club + lose\n",
    "                max_value.append(summation)\n",
    "        elif pracitice == 1:\n",
    "            summation = summation + club\n",
    "            max_value.append(summation)\n",
    "    total_value = max_value[-1]\n",
    "    result.append(total_value)\n",
    "    summation = 20"
   ]
  },
  {
   "cell_type": "code",
   "execution_count": 337,
   "metadata": {},
   "outputs": [
    {
     "name": "stdout",
     "output_type": "stream",
     "text": [
      "247.9269\n",
      "300\n",
      "195\n"
     ]
    }
   ],
   "source": [
    "print(np.mean(result))\n",
    "print(np.max(result))\n",
    "print(np.min(result))"
   ]
  },
  {
   "cell_type": "code",
   "execution_count": 338,
   "metadata": {},
   "outputs": [
    {
     "name": "stdout",
     "output_type": "stream",
     "text": [
      "14.657781427965148\n"
     ]
    }
   ],
   "source": [
    "print(sp.std(result))"
   ]
  },
  {
   "cell_type": "code",
   "execution_count": 339,
   "metadata": {},
   "outputs": [
    {
     "data": {
      "text/plain": [
       "Text(0, 0.5, 'count')"
      ]
     },
     "execution_count": 339,
     "metadata": {},
     "output_type": "execute_result"
    },
    {
     "data": {
      "image/png": "[encoded data removed]",
      "text/plain": [
       "<Figure size 432x288 with 1 Axes>"
      ]
     },
     "metadata": {
      "needs_background": "light"
     },
     "output_type": "display_data"
    }
   ],
   "source": [
    "plt.hist(result)\n",
    "plt.xlabel(\"physical value\")\n",
    "plt.ylabel(\"count\")"
   ]
  },
  {
   "cell_type": "code",
   "execution_count": 340,
   "metadata": {},
   "outputs": [
    {
     "data": {
      "text/plain": [
       "Text(0, 0.5, 'percentage')"
      ]
     },
     "execution_count": 340,
     "metadata": {},
     "output_type": "execute_result"
    },
    {
     "data": {
      "image/png": "[encoded data removed]",
      "text/plain": [
       "<Figure size 432x288 with 1 Axes>"
      ]
     },
     "metadata": {
      "needs_background": "light"
     },
     "output_type": "display_data"
    }
   ],
   "source": [
    "sns.distplot(result, bins = 10)\n",
    "plt.xlabel(\"physical value\")\n",
    "plt.ylabel(\"percentage\")"
   ]
  },
  {
   "cell_type": "code",
   "execution_count": 23,
   "metadata": {},
   "outputs": [],
   "source": [
    "# study = np.random.randint(1, 3)\n",
    "# study"
   ]
  },
  {
   "cell_type": "code",
   "execution_count": 24,
   "metadata": {},
   "outputs": [],
   "source": [
    "# hard = np.random.randint(2,4)\n",
    "# hard#15"
   ]
  },
  {
   "cell_type": "code",
   "execution_count": 25,
   "metadata": {},
   "outputs": [],
   "source": [
    "# hard_event = np.random.randint(0, 2)\n",
    "# hard_event#15"
   ]
  },
  {
   "cell_type": "code",
   "execution_count": null,
   "metadata": {},
   "outputs": [],
   "source": [
    "# juku = np.random.randint(1,3)\n",
    "# juku"
   ]
  },
  {
   "cell_type": "code",
   "execution_count": null,
   "metadata": {},
   "outputs": [],
   "source": []
  },
  {
   "cell_type": "code",
   "execution_count": 1,
   "metadata": {},
   "outputs": [],
   "source": [
    "import numpy as np"
   ]
  },
  {
   "cell_type": "code",
   "execution_count": 14,
   "metadata": {},
   "outputs": [],
   "source": [
    "# intel_value = []\n",
    "# juku_po = []\n",
    "# hard_po = []\n",
    "# defo = 20\n",
    "# result1 = []\n",
    "# epoch =2\n",
    "\n",
    "# for po in range(epoch):\n",
    "#     for s in range(23):\n",
    "#         study = np.random.randint(1,3)#23\n",
    "#         intel_value.append(study)\n",
    "#         resu_intel = sum(intel_value)\n",
    "        \n",
    "#     for j in range(15):\n",
    "#         juku = np.random.randint(1,3)\n",
    "#         juku_po.append(juku)\n",
    "#         resu_juku = sum(juku_po)\n",
    "\n",
    "#     for ha in range(11):\n",
    "#         hard_event = np.random.randint(0, 2)\n",
    "#         if hard_event == 0:\n",
    "#             hard = np.random.randint(2,4)\n",
    "#             hard_po.append(hard)\n",
    "#             resu_hard = sum(hard_po)\n"
   ]
  },
  {
   "cell_type": "code",
   "execution_count": 16,
   "metadata": {},
   "outputs": [],
   "source": [
    "# print(resu_intel)\n",
    "# print(resu_juku)\n",
    "# print(resu_hard)"
   ]
  },
  {
   "cell_type": "code",
   "execution_count": 208,
   "metadata": {},
   "outputs": [],
   "source": [
    "intel = []\n",
    "juku_po = []\n",
    "hard_po = []\n",
    "# anu_intel = []\n",
    "# anu_juku = []\n",
    "totl_anu_resu = []\n",
    "for jk in range(10000):\n",
    "    for s in range(46):\n",
    "        study = np.random.randint(0,3)\n",
    "        intel.append(study)\n",
    "    anu_intel = sum(intel)\n",
    "\n",
    "    for j in range(30):\n",
    "        juku = np.random.randint(2,4)\n",
    "        juku_po.append(juku)\n",
    "    anu_juku = sum(juku_po)\n",
    "\n",
    "\n",
    "    for ha in range(11):\n",
    "            hard_event = np.random.randint(0, 2)\n",
    "            if hard_event == 0:\n",
    "                hard = np.random.randint(2,4)\n",
    "                hard_po.append(hard)\n",
    "    anu_hard = sum(hard_po)\n",
    "\n",
    "    anu_resu = anu_intel + anu_juku + anu_hard\n",
    "    totl_anu_resu.append(anu_resu +20)\n",
    "    intel = []\n",
    "    juku_po = []\n",
    "    hard_po = []"
   ]
  },
  {
   "cell_type": "code",
   "execution_count": 209,
   "metadata": {},
   "outputs": [
    {
     "name": "stdout",
     "output_type": "stream",
     "text": [
      "154.7421\n",
      "185\n",
      "128\n",
      "7.5448252193142284\n"
     ]
    }
   ],
   "source": [
    "print(np.mean(totl_anu_resu))\n",
    "print(np.max(totl_anu_resu))\n",
    "print(np.min(totl_anu_resu))\n",
    "print(np.std(totl_anu_resu))"
   ]
  },
  {
   "cell_type": "code",
   "execution_count": null,
   "metadata": {},
   "outputs": [],
   "source": []
  },
  {
   "cell_type": "code",
   "execution_count": null,
   "metadata": {},
   "outputs": [],
   "source": []
  },
  {
   "cell_type": "code",
   "execution_count": 210,
   "metadata": {},
   "outputs": [
    {
     "data": {
      "text/plain": [
       "<matplotlib.lines.Line2D at 0x7f6727b53f50>"
      ]
     },
     "execution_count": 210,
     "metadata": {},
     "output_type": "execute_result"
    },
    {
     "data": {
      "image/png": "[encoded data removed]",
      "text/plain": [
       "<Figure size 432x288 with 1 Axes>"
      ]
     },
     "metadata": {
      "needs_background": "light"
     },
     "output_type": "display_data"
    }
   ],
   "source": [
    "sns.distplot(totl_anu_resu, bins = 5)\n",
    "plt.axvline(np.mean(totl_anu_resu) + np.std(totl_anu_resu), color =\"g\")\n",
    "plt.axvline(np.mean(totl_anu_resu) - np.std(totl_anu_resu), color =\"g\")\n",
    "\n",
    "plt.axvline(np.mean(totl_anu_resu) + (np.std(totl_anu_resu) * 2), color =\"y\")\n",
    "plt.axvline(np.mean(totl_anu_resu) - (np.std(totl_anu_resu) * 2), color =\"y\")"
   ]
  },
  {
   "cell_type": "code",
   "execution_count": 224,
   "metadata": {},
   "outputs": [],
   "source": [
    "vo_va = []\n",
    "sim_vo = []\n",
    "for vl in range(10000):\n",
    "    for vo in range(20):\n",
    "        vol = np.random.randint(1, 4)\n",
    "        vo_va.append(vol)\n",
    "    new_vo = sum(vo_va)\n",
    "    sim_vo.append(new_vo)\n",
    "    vo_va = []"
   ]
  },
  {
   "cell_type": "code",
   "execution_count": 225,
   "metadata": {},
   "outputs": [
    {
     "name": "stdout",
     "output_type": "stream",
     "text": [
      "40.0148\n",
      "55\n",
      "28\n"
     ]
    }
   ],
   "source": [
    "print(np.mean(sim_vo))\n",
    "print(np.max(sim_vo))\n",
    "print(np.min(sim_vo))"
   ]
  },
  {
   "cell_type": "code",
   "execution_count": 226,
   "metadata": {},
   "outputs": [
    {
     "data": {
      "text/plain": [
       "3.593908869184081"
      ]
     },
     "execution_count": 226,
     "metadata": {},
     "output_type": "execute_result"
    }
   ],
   "source": [
    "np.std(sim_vo)"
   ]
  },
  {
   "cell_type": "code",
   "execution_count": 29,
   "metadata": {},
   "outputs": [],
   "source": [
    "probability = [0.5, 0.25, 0.2, 0.05]\n",
    "po_mo = [0, 2500, 5000, 10000]\n",
    "wallet = []\n",
    "ocu_pok_eve_p = [0.5, 0.5]\n",
    "def pok_mon_sim(epoch):\n",
    "    wallet = []\n",
    "    for i in range(epoch):\n",
    "        np.random.choice(p = ocu_pok_eve_p)\n",
    "        wallet.append(np.random.choice(po_mo, p = probability))\n",
    "    return np.mean(wallet)"
   ]
  },
  {
   "cell_type": "code",
   "execution_count": 30,
   "metadata": {},
   "outputs": [
    {
     "data": {
      "text/plain": [
       "2128.275"
      ]
     },
     "execution_count": 30,
     "metadata": {},
     "output_type": "execute_result"
    }
   ],
   "source": [
    "pok_mon_sim(100000)"
   ]
  },
  {
   "cell_type": "code",
   "execution_count": null,
   "metadata": {},
   "outputs": [],
   "source": [
    "class Player():\n",
    "    def __init__(self, wallet = 1000):\n",
    "        self.wallet = wallet"
   ]
  }
 ],
 "metadata": {
  "kernelspec": {
   "display_name": "Python 3",
   "language": "python",
   "name": "python3"
  },
  "language_info": {
   "codemirror_mode": {
    "name": "ipython",
    "version": 3
   },
   "file_extension": ".py",
   "mimetype": "text/x-python",
   "name": "python",
   "nbconvert_exporter": "python",
   "pygments_lexer": "ipython3",
   "version": "3.7.4"
  }
 },
 "nbformat": 4,
 "nbformat_minor": 4
}
