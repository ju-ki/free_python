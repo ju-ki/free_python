{
 "cells": [
  {
   "cell_type": "markdown",
   "metadata": {},
   "source": [
    "## 正則化とRidge回帰・Lasso回帰\n",
    "\n",
    "### 用語確認\n",
    "\n",
    "* 正則化：パラメタを推定する際に罰則項(正則化項)を導入することで係数が大きくなることを防ぐ技法\n",
    "* Ridge回帰：正則化項として係数の2乗和を用いた回帰モデルのこと。このタイプのことをL2正則化とも呼ぶ\n",
    "* Lasso回帰：正則化項として係数の絶対値の和を用いた回帰モデルのこと。このタイプのことをL1正則化"
   ]
  },
  {
   "cell_type": "markdown",
   "metadata": {},
   "source": [
    "正則化の強度を指定するパラメタの決定→説明変数の標準化"
   ]
  },
  {
   "cell_type": "code",
   "execution_count": 1,
   "metadata": {},
   "outputs": [
    {
     "name": "stderr",
     "output_type": "stream",
     "text": [
      "/opt/anaconda3/lib/python3.7/importlib/_bootstrap.py:219: RuntimeWarning: numpy.ufunc size changed, may indicate binary incompatibility. Expected 192 from C header, got 216 from PyObject\n",
      "  return f(*args, **kwds)\n",
      "/opt/anaconda3/lib/python3.7/importlib/_bootstrap.py:219: RuntimeWarning: numpy.ufunc size changed, may indicate binary incompatibility. Expected 192 from C header, got 216 from PyObject\n",
      "  return f(*args, **kwds)\n",
      "/opt/anaconda3/lib/python3.7/importlib/_bootstrap.py:219: RuntimeWarning: numpy.ufunc size changed, may indicate binary incompatibility. Expected 192 from C header, got 216 from PyObject\n",
      "  return f(*args, **kwds)\n",
      "/opt/anaconda3/lib/python3.7/importlib/_bootstrap.py:219: RuntimeWarning: numpy.ufunc size changed, may indicate binary incompatibility. Expected 192 from C header, got 216 from PyObject\n",
      "  return f(*args, **kwds)\n",
      "/opt/anaconda3/lib/python3.7/importlib/_bootstrap.py:219: RuntimeWarning: numpy.ufunc size changed, may indicate binary incompatibility. Expected 192 from C header, got 216 from PyObject\n",
      "  return f(*args, **kwds)\n"
     ]
    }
   ],
   "source": [
    "import numpy as np\n",
    "import pandas as pd\n",
    "import scipy as sp\n",
    "from scipy import stats\n",
    "import matplotlib.pyplot as plt\n",
    "import seaborn as sns\n",
    "sns.set()\n",
    "\n",
    "import statsmodels.formula.api as smf\n",
    "import statsmodels.api as sm\n",
    "from sklearn import linear_model\n",
    "%matplotlib inline"
   ]
  },
  {
   "cell_type": "code",
   "execution_count": 8,
   "metadata": {},
   "outputs": [
    {
     "data": {
      "text/html": [
       "<div>\n",
       "<style scoped>\n",
       "    .dataframe tbody tr th:only-of-type {\n",
       "        vertical-align: middle;\n",
       "    }\n",
       "\n",
       "    .dataframe tbody tr th {\n",
       "        vertical-align: top;\n",
       "    }\n",
       "\n",
       "    .dataframe thead th {\n",
       "        text-align: right;\n",
       "    }\n",
       "</style>\n",
       "<table border=\"1\" class=\"dataframe\">\n",
       "  <thead>\n",
       "    <tr style=\"text-align: right;\">\n",
       "      <th></th>\n",
       "      <th>X_1</th>\n",
       "      <th>X_2</th>\n",
       "      <th>X_3</th>\n",
       "      <th>X_4</th>\n",
       "      <th>X_5</th>\n",
       "      <th>X_6</th>\n",
       "      <th>X_7</th>\n",
       "      <th>X_8</th>\n",
       "      <th>X_9</th>\n",
       "      <th>X_10</th>\n",
       "      <th>...</th>\n",
       "      <th>X_91</th>\n",
       "      <th>X_92</th>\n",
       "      <th>X_93</th>\n",
       "      <th>X_94</th>\n",
       "      <th>X_95</th>\n",
       "      <th>X_96</th>\n",
       "      <th>X_97</th>\n",
       "      <th>X_98</th>\n",
       "      <th>X_99</th>\n",
       "      <th>X_100</th>\n",
       "    </tr>\n",
       "  </thead>\n",
       "  <tbody>\n",
       "    <tr>\n",
       "      <td>0</td>\n",
       "      <td>1.0000</td>\n",
       "      <td>0.5000</td>\n",
       "      <td>0.3333</td>\n",
       "      <td>0.2500</td>\n",
       "      <td>0.2000</td>\n",
       "      <td>0.1667</td>\n",
       "      <td>0.1429</td>\n",
       "      <td>0.1250</td>\n",
       "      <td>0.1111</td>\n",
       "      <td>0.1000</td>\n",
       "      <td>...</td>\n",
       "      <td>0.0110</td>\n",
       "      <td>0.0109</td>\n",
       "      <td>0.0108</td>\n",
       "      <td>0.0106</td>\n",
       "      <td>0.0105</td>\n",
       "      <td>0.0104</td>\n",
       "      <td>0.0103</td>\n",
       "      <td>0.0102</td>\n",
       "      <td>0.0101</td>\n",
       "      <td>0.0100</td>\n",
       "    </tr>\n",
       "    <tr>\n",
       "      <td>1</td>\n",
       "      <td>0.5000</td>\n",
       "      <td>0.3333</td>\n",
       "      <td>0.2500</td>\n",
       "      <td>0.2000</td>\n",
       "      <td>0.1667</td>\n",
       "      <td>0.1429</td>\n",
       "      <td>0.1250</td>\n",
       "      <td>0.1111</td>\n",
       "      <td>0.1000</td>\n",
       "      <td>0.0909</td>\n",
       "      <td>...</td>\n",
       "      <td>0.0109</td>\n",
       "      <td>0.0108</td>\n",
       "      <td>0.0106</td>\n",
       "      <td>0.0105</td>\n",
       "      <td>0.0104</td>\n",
       "      <td>0.0103</td>\n",
       "      <td>0.0102</td>\n",
       "      <td>0.0101</td>\n",
       "      <td>0.0100</td>\n",
       "      <td>0.0099</td>\n",
       "    </tr>\n",
       "    <tr>\n",
       "      <td>2</td>\n",
       "      <td>0.3333</td>\n",
       "      <td>0.2500</td>\n",
       "      <td>0.2000</td>\n",
       "      <td>0.1667</td>\n",
       "      <td>0.1429</td>\n",
       "      <td>0.1250</td>\n",
       "      <td>0.1111</td>\n",
       "      <td>0.1000</td>\n",
       "      <td>0.0909</td>\n",
       "      <td>0.0833</td>\n",
       "      <td>...</td>\n",
       "      <td>0.0108</td>\n",
       "      <td>0.0106</td>\n",
       "      <td>0.0105</td>\n",
       "      <td>0.0104</td>\n",
       "      <td>0.0103</td>\n",
       "      <td>0.0102</td>\n",
       "      <td>0.0101</td>\n",
       "      <td>0.0100</td>\n",
       "      <td>0.0099</td>\n",
       "      <td>0.0098</td>\n",
       "    </tr>\n",
       "  </tbody>\n",
       "</table>\n",
       "<p>3 rows × 100 columns</p>\n",
       "</div>"
      ],
      "text/plain": [
       "      X_1     X_2     X_3     X_4     X_5     X_6     X_7     X_8     X_9  \\\n",
       "0  1.0000  0.5000  0.3333  0.2500  0.2000  0.1667  0.1429  0.1250  0.1111   \n",
       "1  0.5000  0.3333  0.2500  0.2000  0.1667  0.1429  0.1250  0.1111  0.1000   \n",
       "2  0.3333  0.2500  0.2000  0.1667  0.1429  0.1250  0.1111  0.1000  0.0909   \n",
       "\n",
       "     X_10  ...    X_91    X_92    X_93    X_94    X_95    X_96    X_97  \\\n",
       "0  0.1000  ...  0.0110  0.0109  0.0108  0.0106  0.0105  0.0104  0.0103   \n",
       "1  0.0909  ...  0.0109  0.0108  0.0106  0.0105  0.0104  0.0103  0.0102   \n",
       "2  0.0833  ...  0.0108  0.0106  0.0105  0.0104  0.0103  0.0102  0.0101   \n",
       "\n",
       "     X_98    X_99   X_100  \n",
       "0  0.0102  0.0101  0.0100  \n",
       "1  0.0101  0.0100  0.0099  \n",
       "2  0.0100  0.0099  0.0098  \n",
       "\n",
       "[3 rows x 100 columns]"
      ]
     },
     "execution_count": 8,
     "metadata": {},
     "output_type": "execute_result"
    }
   ],
   "source": [
    "df = pd.read_csv(\"sample/7-3-1-large-data.csv\")\n",
    "df.head(3)"
   ]
  },
  {
   "cell_type": "code",
   "execution_count": 9,
   "metadata": {},
   "outputs": [
    {
     "data": {
      "text/plain": [
       "X_1    0.037272\n",
       "X_2    0.030649\n",
       "X_3    0.027360\n",
       "dtype: float64"
      ]
     },
     "execution_count": 9,
     "metadata": {},
     "output_type": "execute_result"
    }
   ],
   "source": [
    "sp.mean(df, axis = 0).head(3)"
   ]
  },
  {
   "cell_type": "code",
   "execution_count": 10,
   "metadata": {},
   "outputs": [],
   "source": [
    "df -= sp.mean(df, axis = 0)\n",
    "df /= sp.std(df, ddof = 1, axis = 0)"
   ]
  },
  {
   "cell_type": "code",
   "execution_count": 15,
   "metadata": {},
   "outputs": [
    {
     "data": {
      "text/plain": [
       "X_1    0.0\n",
       "X_2   -0.0\n",
       "X_3   -0.0\n",
       "dtype: float64"
      ]
     },
     "execution_count": 15,
     "metadata": {},
     "output_type": "execute_result"
    }
   ],
   "source": [
    "sp.mean(df, axis = 0).head(3).round(3)"
   ]
  },
  {
   "cell_type": "code",
   "execution_count": 17,
   "metadata": {},
   "outputs": [
    {
     "data": {
      "text/plain": [
       "X_1    1.0\n",
       "X_2    1.0\n",
       "X_3    1.0\n",
       "dtype: float64"
      ]
     },
     "execution_count": 17,
     "metadata": {},
     "output_type": "execute_result"
    }
   ],
   "source": [
    "sp.std(df, ddof=1, axis=0).head(3)"
   ]
  },
  {
   "cell_type": "code",
   "execution_count": 18,
   "metadata": {},
   "outputs": [],
   "source": [
    "np.random.seed(1)\n",
    "noise = stats.norm.rvs(loc = 0, scale = 1, size = df.shape[0])\n",
    "y = df.X_1 * 5 + noise"
   ]
  },
  {
   "cell_type": "code",
   "execution_count": 19,
   "metadata": {},
   "outputs": [
    {
     "data": {
      "text/plain": [
       "<seaborn.axisgrid.JointGrid at 0x7ffb8699e290>"
      ]
     },
     "execution_count": 19,
     "metadata": {},
     "output_type": "execute_result"
    },
    {
     "data": {
      "image/png": "[encoded data removed]",
      "text/plain": [
       "<Figure size 432x432 with 3 Axes>"
      ]
     },
     "metadata": {
      "needs_background": "light"
     },
     "output_type": "display_data"
    }
   ],
   "source": [
    "large_data = pd.concat([pd.DataFrame({\"y\":y}), df],axis = 1)\n",
    "sns.jointplot(y = \"y\", x = \"X_1\", data = large_data, color = \"black\")"
   ]
  },
  {
   "cell_type": "code",
   "execution_count": 20,
   "metadata": {},
   "outputs": [
    {
     "data": {
      "text/plain": [
       "X_1     14.755018\n",
       "X_2    -87.462851\n",
       "X_3    211.743136\n",
       "dtype: float64"
      ]
     },
     "execution_count": 20,
     "metadata": {},
     "output_type": "execute_result"
    }
   ],
   "source": [
    "lm_statsmodels = sm.OLS(endog=y, exog=df).fit()\n",
    "lm_statsmodels.params.head(3)"
   ]
  },
  {
   "cell_type": "code",
   "execution_count": 22,
   "metadata": {},
   "outputs": [
    {
     "data": {
      "text/plain": [
       "array([ 1.47550179e+01, -8.74628513e+01,  2.11743136e+02, -9.41534199e+01,\n",
       "       -6.81749758e+01, -9.28447001e+01,  1.76121719e+00,  8.16951745e+01,\n",
       "        6.68011476e+01,  2.78782307e+01, -3.28849364e+01,  6.81756488e+01,\n",
       "       -1.69894294e+01,  2.20848958e+01, -4.85466254e+01, -3.39014861e+01,\n",
       "       -4.53620423e+01,  9.72849512e+00,  2.48105638e+01,  1.85754373e+00,\n",
       "        1.59903755e+00, -2.83817237e+01,  6.47655021e+00, -5.98019116e+01,\n",
       "        3.53238055e+01, -1.30222644e+01,  4.10803607e+01, -4.30289179e+01,\n",
       "        5.24669901e+01,  1.91954188e+00,  3.34187115e+01,  8.49048535e+00,\n",
       "        8.32915543e+00, -2.29308318e+01, -3.57696437e+01, -1.33680102e+01,\n",
       "        3.17822503e+01, -2.01837682e+01, -2.65432564e+01, -3.52327035e+01,\n",
       "        1.92653681e+01,  4.82272494e+01, -1.65525248e+00,  5.74852963e-01,\n",
       "       -1.89337059e+01,  7.37047591e-01,  1.04710630e+01, -7.73236212e+00,\n",
       "       -1.85399868e+00, -2.55890849e-01, -5.04510048e+00, -4.22674871e+00,\n",
       "        2.52338099e+01,  1.61649194e+01, -1.31001642e+01,  6.45474322e+00,\n",
       "       -1.33203720e+01, -2.29083852e+01, -1.20169902e+01,  7.74461973e+00,\n",
       "        1.75528603e+01,  5.99668031e+00,  4.64820103e+00,  4.11954198e+00,\n",
       "       -1.82548216e+00,  5.36552197e+00,  4.54591500e+00, -2.59795348e+00,\n",
       "       -4.09054113e+00,  7.49620449e+00,  3.10036824e+01,  1.53017578e+01,\n",
       "       -5.32313629e+00, -1.50901387e+01, -3.80134515e+00, -6.58376264e+00,\n",
       "       -7.20274878e-02, -4.23690764e+00,  3.35506170e+00,  3.17643161e+00,\n",
       "        6.02482997e+00, -2.42179611e-01,  2.62837451e+00, -2.13112286e-02,\n",
       "       -8.34880025e+00, -5.09137131e+00, -5.06033773e+00, -4.77877372e+00,\n",
       "        7.64499421e+00,  1.79671853e+00,  4.27564016e+00,  1.41789642e-01,\n",
       "        2.79987718e+00,  3.14552136e+00, -5.18804291e+00, -2.47891436e+00,\n",
       "       -1.30593301e+01, -5.54492852e+00, -2.92318770e+00,  2.94516340e+00])"
      ]
     },
     "execution_count": 22,
     "metadata": {},
     "output_type": "execute_result"
    }
   ],
   "source": [
    "lm_sklearn = linear_model.LinearRegression()\n",
    "lm_sklearn.fit(df, y)\n",
    "lm_sklearn.coef_"
   ]
  },
  {
   "cell_type": "markdown",
   "metadata": {},
   "source": [
    "* 絶対値が大きな係数が推定されている"
   ]
  },
  {
   "cell_type": "markdown",
   "metadata": {},
   "source": [
    "* 通常の最小二乗法ではうまく行かないので、正則化を使用する\n",
    "* 正則化において大事なのは強度α"
   ]
  },
  {
   "cell_type": "code",
   "execution_count": 24,
   "metadata": {},
   "outputs": [],
   "source": [
    "n_alphas = 50\n",
    "ridge_alphas = np.logspace(-2, 0.7, n_alphas)"
   ]
  },
  {
   "cell_type": "code",
   "execution_count": 25,
   "metadata": {},
   "outputs": [
    {
     "data": {
      "text/plain": [
       "array([-2.        , -1.94489796, -1.88979592, -1.83469388, -1.77959184,\n",
       "       -1.7244898 , -1.66938776, -1.61428571, -1.55918367, -1.50408163,\n",
       "       -1.44897959, -1.39387755, -1.33877551, -1.28367347, -1.22857143,\n",
       "       -1.17346939, -1.11836735, -1.06326531, -1.00816327, -0.95306122,\n",
       "       -0.89795918, -0.84285714, -0.7877551 , -0.73265306, -0.67755102,\n",
       "       -0.62244898, -0.56734694, -0.5122449 , -0.45714286, -0.40204082,\n",
       "       -0.34693878, -0.29183673, -0.23673469, -0.18163265, -0.12653061,\n",
       "       -0.07142857, -0.01632653,  0.03877551,  0.09387755,  0.14897959,\n",
       "        0.20408163,  0.25918367,  0.31428571,  0.36938776,  0.4244898 ,\n",
       "        0.47959184,  0.53469388,  0.58979592,  0.64489796,  0.7       ])"
      ]
     },
     "execution_count": 25,
     "metadata": {},
     "output_type": "execute_result"
    }
   ],
   "source": [
    "sp.log10(ridge_alphas)"
   ]
  },
  {
   "cell_type": "code",
   "execution_count": 29,
   "metadata": {},
   "outputs": [],
   "source": [
    "ridge_coefs = []\n",
    "for a in range(n_alphas):\n",
    "    ridge =linear_model.Ridge(alpha=a, fit_intercept=False)\n",
    "    ridge.fit(df, y)\n",
    "    ridge_coefs.append(ridge.coef_)"
   ]
  },
  {
   "cell_type": "code",
   "execution_count": 30,
   "metadata": {},
   "outputs": [
    {
     "data": {
      "text/plain": [
       "(50, 100)"
      ]
     },
     "execution_count": 30,
     "metadata": {},
     "output_type": "execute_result"
    }
   ],
   "source": [
    "ridge_coefs = np.array(ridge_coefs)\n",
    "ridge_coefs.shape"
   ]
  },
  {
   "cell_type": "code",
   "execution_count": 36,
   "metadata": {},
   "outputs": [
    {
     "data": {
      "text/plain": [
       "Text(0, 0.5, 'Coefficients')"
      ]
     },
     "execution_count": 36,
     "metadata": {},
     "output_type": "execute_result"
    },
    {
     "data": {
      "image/png": "[encoded data removed]",
      "text/plain": [
       "<Figure size 432x288 with 1 Axes>"
      ]
     },
     "metadata": {
      "needs_background": "light"
     },
     "output_type": "display_data"
    }
   ],
   "source": [
    "log_alphas = -sp.log10(ridge_alphas)\n",
    "plt.plot(log_alphas, ridge_coefs, color = \"black\")\n",
    "plt.text(max(log_alphas) + 0.1, np.array(ridge_coefs)[0, 0], \"X_1\")\n",
    "plt.xlim([min(log_alphas) - 0.1, max(log_alphas) + 0.3])\n",
    "plt.ylim(-10.0, 10)\n",
    "plt.title(\"Ridge\")\n",
    "plt.xlabel(\"- log10(alpha)\")\n",
    "plt.ylabel(\"Coefficients\")"
   ]
  },
  {
   "cell_type": "markdown",
   "metadata": {},
   "source": [
    "* 左に行くほどαが大きくて正則化の強度が強くなる\n",
    "* 右側に行くほど罰則化が緩くなり、絶対値の大きな係数が推定されやすくなる\n",
    "\n",
    "→では最適な強度αは何でしょう？"
   ]
  },
  {
   "cell_type": "code",
   "execution_count": 38,
   "metadata": {},
   "outputs": [
    {
     "data": {
      "text/plain": [
       "0.23673469387755094"
      ]
     },
     "execution_count": 38,
     "metadata": {},
     "output_type": "execute_result"
    }
   ],
   "source": [
    "ridge_best = linear_model.RidgeCV(cv = 10, alphas = ridge_alphas,\n",
    "                                 fit_intercept= False)\n",
    "ridge_best.fit(df, y)\n",
    "-sp.log10(ridge_best.alpha_)"
   ]
  },
  {
   "cell_type": "code",
   "execution_count": 39,
   "metadata": {},
   "outputs": [
    {
     "data": {
      "text/plain": [
       "0.5797827717179138"
      ]
     },
     "execution_count": 39,
     "metadata": {},
     "output_type": "execute_result"
    }
   ],
   "source": [
    "ridge_best.alpha_"
   ]
  },
  {
   "cell_type": "code",
   "execution_count": 41,
   "metadata": {},
   "outputs": [
    {
     "data": {
      "text/plain": [
       "array([ 4.46347121,  1.28833593,  0.2927883 , -0.09125431, -0.2013734 ,\n",
       "       -0.23267945, -0.2152976 , -0.20601228, -0.14466992, -0.13546705,\n",
       "       -0.15459478, -0.04558605, -0.09666078, -0.01680479, -0.1104025 ,\n",
       "       -0.01170384, -0.09391876,  0.01281653, -0.01785413, -0.03092511,\n",
       "        0.02491556, -0.02906365,  0.04336838, -0.08732207,  0.12740958,\n",
       "        0.02104836,  0.0550757 , -0.07654728,  0.14076324, -0.00715595,\n",
       "        0.09866008,  0.11620526, -0.04440412,  0.0366436 , -0.03447319,\n",
       "        0.01506922,  0.12331243, -0.17131585, -0.00656963, -0.18198433,\n",
       "        0.09024826,  0.22236343,  0.03531455, -0.03180034, -0.00842443,\n",
       "        0.02505952,  0.33776614, -0.19347637, -0.1076738 ,  0.21161829,\n",
       "       -0.12840793, -0.24597948,  0.24900423,  0.12824366, -0.15527051,\n",
       "        0.27022964,  0.02951558, -0.16508783, -0.17754048,  0.15838542,\n",
       "       -0.01114808,  0.0134762 ,  0.19362841,  0.13447836, -0.15575348,\n",
       "       -0.01829021,  0.25569543,  0.22259035, -0.18458659,  0.00586596,\n",
       "        0.53450223,  0.18058777, -0.34841135, -0.12311225,  0.22553179,\n",
       "       -0.043011  , -0.11528015, -0.0531161 ,  0.20892631,  0.18870717,\n",
       "       -0.04243224, -0.20483369, -0.099438  ,  0.05857328, -0.22443799,\n",
       "        0.15023959, -0.03884553, -0.11304432,  0.20997195,  0.01186863,\n",
       "        0.12940651, -0.03215382, -0.0220179 , -0.22921416, -0.19763247,\n",
       "        0.24459502, -0.30502591, -0.3955611 , -0.16311531,  0.16386426])"
      ]
     },
     "execution_count": 41,
     "metadata": {},
     "output_type": "execute_result"
    }
   ],
   "source": [
    "ridge_best.coef_"
   ]
  },
  {
   "cell_type": "code",
   "execution_count": 42,
   "metadata": {},
   "outputs": [],
   "source": [
    "lasso_alphas, lasso_coefs, _ = linear_model.lasso_path(df, y,\n",
    "                                                      fit_intercept = False)"
   ]
  },
  {
   "cell_type": "code",
   "execution_count": 45,
   "metadata": {},
   "outputs": [
    {
     "data": {
      "text/plain": [
       "Text(0, 0.5, 'Coefficients')"
      ]
     },
     "execution_count": 45,
     "metadata": {},
     "output_type": "execute_result"
    },
    {
     "data": {
      "image/png": "[encoded data removed]",
      "text/plain": [
       "<Figure size 432x288 with 1 Axes>"
      ]
     },
     "metadata": {
      "needs_background": "light"
     },
     "output_type": "display_data"
    }
   ],
   "source": [
    "log_alphas = -sp.log10(lasso_alphas)\n",
    "plt.plot(log_alphas, lasso_coefs.T, color = \"black\")\n",
    "plt.text(max(log_alphas) + 0.1, np.array(lasso_coefs)[0, 0], \"X_1\")\n",
    "plt.xlim([min(log_alphas) - 0.1, max(log_alphas) + 0.3])\n",
    "plt.title(\"Lasso\")\n",
    "plt.xlabel(\"- log10(alpha)\")\n",
    "plt.ylabel(\"Coefficients\")"
   ]
  },
  {
   "cell_type": "code",
   "execution_count": 46,
   "metadata": {},
   "outputs": [
    {
     "data": {
      "text/plain": [
       "0.2404371171612656"
      ]
     },
     "execution_count": 46,
     "metadata": {},
     "output_type": "execute_result"
    }
   ],
   "source": [
    "lasso_best = linear_model.RidgeCV(cv = 10, alphas = lasso_alphas,\n",
    "                                 fit_intercept= False)\n",
    "lasso_best.fit(df, y)\n",
    "-sp.log10(lasso_best.alpha_)"
   ]
  },
  {
   "cell_type": "code",
   "execution_count": 47,
   "metadata": {},
   "outputs": [
    {
     "data": {
      "text/plain": [
       "0.5748610487257043"
      ]
     },
     "execution_count": 47,
     "metadata": {},
     "output_type": "execute_result"
    }
   ],
   "source": [
    "lasso_best.alpha_"
   ]
  },
  {
   "cell_type": "code",
   "execution_count": 48,
   "metadata": {},
   "outputs": [
    {
     "data": {
      "text/plain": [
       "array([ 4.46772964,  1.28600249,  0.29012791, -0.09342636, -0.20261748,\n",
       "       -0.23329058, -0.21533611, -0.20580021, -0.14392756, -0.13474507,\n",
       "       -0.15415497, -0.04434279, -0.09602433, -0.01562608, -0.11023462,\n",
       "       -0.01082287, -0.09386398,  0.01358518, -0.01738571, -0.03069721,\n",
       "        0.02554555, -0.02907498,  0.04392626, -0.0880108 ,  0.12850904,\n",
       "        0.02111548,  0.05547435, -0.07734254,  0.14172265, -0.00741196,\n",
       "        0.09910604,  0.11693954, -0.04509019,  0.03661359, -0.03524635,\n",
       "        0.01470177,  0.12394498, -0.17321766, -0.00698818, -0.18396563,\n",
       "        0.09054172,  0.22376294,  0.03498664, -0.03253375, -0.00897984,\n",
       "        0.02483817,  0.34002697, -0.19550112, -0.10902007,  0.21288989,\n",
       "       -0.1299069 , -0.24835701,  0.25057976,  0.12894255, -0.15707841,\n",
       "        0.27185648,  0.02935231, -0.16678822, -0.17922783,  0.15927741,\n",
       "       -0.01156844,  0.01345375,  0.19487998,  0.1355022 , -0.15723994,\n",
       "       -0.01881977,  0.25772922,  0.22432005, -0.18614854,  0.00578968,\n",
       "        0.53871394,  0.18197285, -0.35131465, -0.12409831,  0.22744872,\n",
       "       -0.04348787, -0.1161615 , -0.05344258,  0.21038955,  0.19015266,\n",
       "       -0.04252647, -0.20648056, -0.09988842,  0.05924888, -0.22623409,\n",
       "        0.15183116, -0.03886826, -0.11384866,  0.21215508,  0.0125093 ,\n",
       "        0.13084478, -0.03223511, -0.02225741, -0.2305329 , -0.19876545,\n",
       "        0.24685029, -0.30707333, -0.39817656, -0.16392061,  0.16546455])"
      ]
     },
     "execution_count": 48,
     "metadata": {},
     "output_type": "execute_result"
    }
   ],
   "source": [
    "lasso_best.coef_"
   ]
  }
 ],
 "metadata": {
  "kernelspec": {
   "display_name": "Python 3",
   "language": "python",
   "name": "python3"
  },
  "language_info": {
   "codemirror_mode": {
    "name": "ipython",
    "version": 3
   },
   "file_extension": ".py",
   "mimetype": "text/x-python",
   "name": "python",
   "nbconvert_exporter": "python",
   "pygments_lexer": "ipython3",
   "version": "3.7.4"
  }
 },
 "nbformat": 4,
 "nbformat_minor": 4
}
