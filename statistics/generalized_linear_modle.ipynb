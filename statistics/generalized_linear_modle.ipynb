{
 "cells": [
  {
   "cell_type": "markdown",
   "metadata": {},
   "source": [
    "## 一般化線形モデル\n",
    "* →正規分布以外の確率分布も扱うことができることが特徴\n",
    "\n",
    "\n",
    "#### 二項確率変数\n",
    "\n",
    "* 二つの値しか取らない確率変数のこと。（例：有り・無し、表・裏）\n",
    "\n",
    "#### ベルヌーイ試行\n",
    "\n",
    "* 二種類の結果のどちらかを発生させる試行のこと。\n",
    "\n",
    "\n",
    "#### 成功確率\n",
    "* 二種類の結果のうち、片方の結果が得られる確率のことを便宜上成功確率と呼ぶ。\n",
    "\n",
    "#### 二項分布\n",
    "* 成功確率がpであるN回の独立したベルヌーイ試行が行われた際に、成功した回数mが従う離散型の確率分布\n",
    "→成功確率pがどのように変化するのかという視点で用いられる。\n",
    "\n",
    "例：タバコを吸うことによって癌にかかる確率がどのように変化するのか。"
   ]
  },
  {
   "cell_type": "code",
   "execution_count": 10,
   "metadata": {},
   "outputs": [
    {
     "data": {
      "text/plain": [
       "'%.3f'"
      ]
     },
     "execution_count": 10,
     "metadata": {},
     "output_type": "execute_result"
    }
   ],
   "source": [
    "import numpy as np\n",
    "import matplotlib.pyplot as plt\n",
    "import pandas as pd\n",
    "import scipy as sp\n",
    "import seaborn as sns\n",
    "%matplotlib inline\n",
    "sns.set()\n",
    "%precision 3"
   ]
  },
  {
   "cell_type": "code",
   "execution_count": 11,
   "metadata": {},
   "outputs": [
    {
     "data": {
      "text/plain": [
       "0.5"
      ]
     },
     "execution_count": 11,
     "metadata": {},
     "output_type": "execute_result"
    }
   ],
   "source": [
    "sp.stats.binom.pmf(k = 1, n = 2, p = 0.5)"
   ]
  },
  {
   "cell_type": "code",
   "execution_count": 12,
   "metadata": {},
   "outputs": [
    {
     "data": {
      "text/plain": [
       "array([2, 3, 0, 1, 1])"
      ]
     },
     "execution_count": 12,
     "metadata": {},
     "output_type": "execute_result"
    }
   ],
   "source": [
    "np.random.seed(1)\n",
    "sp.stats.binom.rvs(n = 10, p = 0.2, size = 5)"
   ]
  },
  {
   "cell_type": "code",
   "execution_count": 13,
   "metadata": {},
   "outputs": [
    {
     "data": {
      "text/plain": [
       "[<matplotlib.lines.Line2D at 0x7f6a71b36d50>]"
      ]
     },
     "execution_count": 13,
     "metadata": {},
     "output_type": "execute_result"
    },
    {
     "data": {
      "image/png": "[encoded data removed]",
      "text/plain": [
       "<Figure size 432x288 with 1 Axes>"
      ]
     },
     "metadata": {},
     "output_type": "display_data"
    }
   ],
   "source": [
    "binomial = sp.stats.binom(n = 10, p = 0.2)\n",
    "np.random.seed(1)\n",
    "rvs_binomial = binomial.rvs(size = 10000)\n",
    "\n",
    "m = np.arange(0, 10, 1)\n",
    "pmf_binomial = binomial.pmf(k = m)\n",
    "sns.distplot(rvs_binomial, bins = m, kde = False, norm_hist = True, color = 'gray')\n",
    "plt.plot(m, pmf_binomial, color = 'black')"
   ]
  },
  {
   "cell_type": "markdown",
   "metadata": {},
   "source": [
    "#### ポアソン分布\n",
    "一個二個や、一回二回といったカウントデータが従う離散型の確率分布。\n",
    "ポアソン分布の母数は強度λのみ。\n",
    "\n",
    "→釣り道具を変えることで、漁獲量が変わるのかと言った際に使用。　"
   ]
  },
  {
   "cell_type": "code",
   "execution_count": 14,
   "metadata": {},
   "outputs": [
    {
     "data": {
      "text/plain": [
       "0.08422433748856832"
      ]
     },
     "execution_count": 14,
     "metadata": {},
     "output_type": "execute_result"
    }
   ],
   "source": [
    "sp.stats.poisson.pmf(k = 2, mu = 5)"
   ]
  },
  {
   "cell_type": "code",
   "execution_count": 15,
   "metadata": {},
   "outputs": [
    {
     "data": {
      "text/plain": [
       "array([2, 1, 0, 1, 2])"
      ]
     },
     "execution_count": 15,
     "metadata": {},
     "output_type": "execute_result"
    }
   ],
   "source": [
    "np.random.seed(1)\n",
    "sp.stats.poisson.rvs(mu = 2, size =5)"
   ]
  },
  {
   "cell_type": "code",
   "execution_count": 16,
   "metadata": {},
   "outputs": [
    {
     "data": {
      "text/plain": [
       "[<matplotlib.lines.Line2D at 0x7f6a71b1c990>]"
      ]
     },
     "execution_count": 16,
     "metadata": {},
     "output_type": "execute_result"
    },
    {
     "data": {
      "image/png": "[encoded data removed]",
      "text/plain": [
       "<Figure size 432x288 with 1 Axes>"
      ]
     },
     "metadata": {},
     "output_type": "display_data"
    }
   ],
   "source": [
    "poisson = sp.stats.poisson(mu = 2)\n",
    "np.random.seed(1)\n",
    "rvs_poisson = poisson.rvs(size = 10000)\n",
    "pmf_poisson = poisson.pmf(k = m)\n",
    "sns.distplot(rvs_poisson, bins = m, kde = False, norm_hist = True, color = \"gray\")\n",
    "plt.plot(m, pmf_poisson, color = \"black\")"
   ]
  },
  {
   "cell_type": "code",
   "execution_count": null,
   "metadata": {},
   "outputs": [],
   "source": []
  }
 ],
 "metadata": {
  "kernelspec": {
   "display_name": "Python 3",
   "language": "python",
   "name": "python3"
  },
  "language_info": {
   "codemirror_mode": {
    "name": "ipython",
    "version": 3
   },
   "file_extension": ".py",
   "mimetype": "text/x-python",
   "name": "python",
   "nbconvert_exporter": "python",
   "pygments_lexer": "ipython3",
   "version": "3.7.4"
  }
 },
 "nbformat": 4,
 "nbformat_minor": 4
}
