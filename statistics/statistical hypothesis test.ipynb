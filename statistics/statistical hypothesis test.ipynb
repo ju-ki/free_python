{
 "cells": [
  {
   "cell_type": "markdown",
   "metadata": {},
   "source": [
    "## 統計的仮説検定\n",
    "\n",
    "・　標本を使って、母集団に関する統計的な判断を下す方法。\n",
    "\n",
    "## 一変量データのt検定\n",
    "\n",
    "・対象：平均値\n",
    "\n",
    "・判断すること：平均値がある値と異なると言えるかどうか\n",
    "\n",
    "#### t検定で有意差ありと考える条件\n",
    "\n",
    "・サンプルサイズが大きい\n",
    "\n",
    "・分散が小さい\n",
    "\n",
    "・平均値の差が大きい\n",
    "\n",
    "上記を合わせた指標をt値と呼ぶ。\n",
    "\n",
    "\n",
    "## 帰無仮説と対立仮説\n",
    "\n",
    "・　棄却される対象となる最初の仮説**帰無仮説**\n",
    "\n",
    "・　帰無仮説と対立する仮説を**対立仮説**\n",
    "\n",
    "ex:　スナック菓子の平均値が５０gと言えるか判断する\n",
    "\n",
    "帰無仮説　：　スナック菓子の平均重量は５０gである。\n",
    "\n",
    "対立仮説　：　スナック菓子の平均重量は５０gと異なる。\n",
    "\n"
   ]
  },
  {
   "cell_type": "markdown",
   "metadata": {},
   "source": [
    "## p値\n",
    "\n",
    "・　標本と帰無仮説の矛盾の目安となる指標。これが小さいほど矛盾が発生している。\n",
    "\n",
    "\n",
    "## 有意水準\n",
    "\n",
    "・　帰無仮説を棄却する基準となる値。\n",
    "\n",
    "## 片側検定・両側検定\n",
    "\n",
    "・　片側検定とは先程の例で言うと、スナック菓子は５０gよりも小さい、もしくはスナック菓子は５０gよりも大きいのどちらかを調べる検定方法。\n",
    "\n",
    "・　両側検定とはどちらも、つまりスナック菓子が５０gと異なることを調べる検定方法。\n",
    "\n",
    "\n",
    "・p値はこのように計算される\n",
    "\n",
    "$$p値=(1-\\alpha)*2$$（両側検定）"
   ]
  },
  {
   "cell_type": "code",
   "execution_count": 1,
   "metadata": {},
   "outputs": [
    {
     "data": {
      "text/plain": [
       "'%.3f'"
      ]
     },
     "execution_count": 1,
     "metadata": {},
     "output_type": "execute_result"
    }
   ],
   "source": [
    "# implement t distribution\n",
    "\n",
    "import numpy as np\n",
    "import matplotlib.pyplot as plt\n",
    "import pandas as pd\n",
    "import scipy as sp\n",
    "import seaborn as sns\n",
    "%matplotlib inline\n",
    "sns.set()\n",
    "%precision 3"
   ]
  },
  {
   "cell_type": "code",
   "execution_count": 3,
   "metadata": {},
   "outputs": [
    {
     "name": "stdout",
     "output_type": "stream",
     "text": [
      "/work/free_jupyter\n"
     ]
    }
   ],
   "source": [
    "cd .."
   ]
  },
  {
   "cell_type": "code",
   "execution_count": 4,
   "metadata": {},
   "outputs": [
    {
     "name": "stdout",
     "output_type": "stream",
     "text": [
      "/work/free_jupyter/sample\n"
     ]
    }
   ],
   "source": [
    "cd sample/"
   ]
  },
  {
   "cell_type": "code",
   "execution_count": 6,
   "metadata": {},
   "outputs": [
    {
     "data": {
      "text/plain": [
       "0    58.529820\n",
       "1    52.353039\n",
       "2    74.446169\n",
       "3    52.983263\n",
       "4    55.876879\n",
       "Name: weight, dtype: float64"
      ]
     },
     "execution_count": 6,
     "metadata": {},
     "output_type": "execute_result"
    }
   ],
   "source": [
    "junk_food = pd.read_csv('3-8-1-junk-food-weight.csv')['weight']\n",
    "junk_food.head()"
   ]
  },
  {
   "cell_type": "code",
   "execution_count": 7,
   "metadata": {},
   "outputs": [
    {
     "data": {
      "text/plain": [
       "20"
      ]
     },
     "execution_count": 7,
     "metadata": {},
     "output_type": "execute_result"
    }
   ],
   "source": [
    "len(junk_food)"
   ]
  },
  {
   "cell_type": "code",
   "execution_count": 12,
   "metadata": {},
   "outputs": [
    {
     "data": {
      "text/plain": [
       "55.385"
      ]
     },
     "execution_count": 12,
     "metadata": {},
     "output_type": "execute_result"
    }
   ],
   "source": [
    "# caclulate t_value\n",
    "sample_mean = sp.mean(junk_food)\n",
    "sample_mean"
   ]
  },
  {
   "cell_type": "code",
   "execution_count": 13,
   "metadata": {},
   "outputs": [
    {
     "data": {
      "text/plain": [
       "1.957927680575589"
      ]
     },
     "execution_count": 13,
     "metadata": {},
     "output_type": "execute_result"
    }
   ],
   "source": [
    "dof = len(junk_food) - 1\n",
    "std = sp.std(junk_food, ddof = 1)\n",
    "se = std / sp.sqrt(len(junk_food))\n",
    "se"
   ]
  },
  {
   "cell_type": "code",
   "execution_count": 14,
   "metadata": {},
   "outputs": [
    {
     "data": {
      "text/plain": [
       "2.750339683171343"
      ]
     },
     "execution_count": 14,
     "metadata": {},
     "output_type": "execute_result"
    }
   ],
   "source": [
    "t_value = (sample_mean - 50) / se\n",
    "t_value"
   ]
  },
  {
   "cell_type": "code",
   "execution_count": 17,
   "metadata": {},
   "outputs": [
    {
     "data": {
      "text/plain": [
       "0.012725590012524046"
      ]
     },
     "execution_count": 17,
     "metadata": {},
     "output_type": "execute_result"
    }
   ],
   "source": [
    "# caculate p_value\n",
    "alpha = sp.stats.t.cdf(t_value, df = dof)\n",
    "(1 - alpha) * 2"
   ]
  },
  {
   "cell_type": "code",
   "execution_count": 18,
   "metadata": {},
   "outputs": [
    {
     "data": {
      "text/plain": [
       "Ttest_1sampResult(statistic=2.750339683171343, pvalue=0.012725590012524182)"
      ]
     },
     "execution_count": 18,
     "metadata": {},
     "output_type": "execute_result"
    }
   ],
   "source": [
    "sp.stats.ttest_1samp(junk_food, 50)"
   ]
  }
 ],
 "metadata": {
  "kernelspec": {
   "display_name": "Python 3",
   "language": "python",
   "name": "python3"
  },
  "language_info": {
   "codemirror_mode": {
    "name": "ipython",
    "version": 3
   },
   "file_extension": ".py",
   "mimetype": "text/x-python",
   "name": "python",
   "nbconvert_exporter": "python",
   "pygments_lexer": "ipython3",
   "version": "3.7.4"
  }
 },
 "nbformat": 4,
 "nbformat_minor": 4
}
