{
 "cells": [
  {
   "cell_type": "code",
   "execution_count": 1,
   "metadata": {},
   "outputs": [
    {
     "data": {
      "text/plain": [
       "'%.3f'"
      ]
     },
     "execution_count": 1,
     "metadata": {},
     "output_type": "execute_result"
    }
   ],
   "source": [
    "import numpy as np\n",
    "import matplotlib.pyplot as plt\n",
    "import pandas as pd\n",
    "import scipy as sp\n",
    "import seaborn as sns\n",
    "%matplotlib inline\n",
    "sns.set()\n",
    "%precision 3"
   ]
  },
  {
   "cell_type": "code",
   "execution_count": 2,
   "metadata": {},
   "outputs": [
    {
     "name": "stdout",
     "output_type": "stream",
     "text": [
      "/work/free_jupyter\n"
     ]
    }
   ],
   "source": [
    "cd .."
   ]
  },
  {
   "cell_type": "code",
   "execution_count": 3,
   "metadata": {},
   "outputs": [
    {
     "name": "stdout",
     "output_type": "stream",
     "text": [
      "'Algorithm 2.ipynb'   \u001b[0m\u001b[01;34mfor_statistic\u001b[0m/    \u001b[01;34mpsycology\u001b[0m/\n",
      " Algorithm1.ipynb     functions.ipynb   \u001b[01;34msample\u001b[0m/\n"
     ]
    }
   ],
   "source": [
    "ls"
   ]
  },
  {
   "cell_type": "code",
   "execution_count": 4,
   "metadata": {},
   "outputs": [
    {
     "name": "stdout",
     "output_type": "stream",
     "text": [
      "/work/free_jupyter/sample\n"
     ]
    }
   ],
   "source": [
    "cd sample/"
   ]
  },
  {
   "cell_type": "code",
   "execution_count": 5,
   "metadata": {},
   "outputs": [
    {
     "data": {
      "text/plain": [
       "0    4.352982\n",
       "1    3.735304\n",
       "2    5.944617\n",
       "3    3.798326\n",
       "4    4.087688\n",
       "5    5.265985\n",
       "6    3.272614\n",
       "7    3.526691\n",
       "8    4.150083\n",
       "9    3.736104\n",
       "Name: length, dtype: float64"
      ]
     },
     "execution_count": 5,
     "metadata": {},
     "output_type": "execute_result"
    }
   ],
   "source": [
    "fish = pd.read_csv(\"3-7-1-fish_length.csv\")[\"length\"]\n",
    "fish"
   ]
  },
  {
   "cell_type": "markdown",
   "metadata": {},
   "source": [
    "## 点推定\n",
    "・母数にある一つの値としてしてする推定方法。\n",
    "\n",
    "母平均を推定する場合は、標本平均を推定量として使用する。"
   ]
  },
  {
   "cell_type": "code",
   "execution_count": 7,
   "metadata": {},
   "outputs": [
    {
     "data": {
      "text/plain": [
       "4.187"
      ]
     },
     "execution_count": 7,
     "metadata": {},
     "output_type": "execute_result"
    }
   ],
   "source": [
    "#Implement point estimation\n",
    "mu = sp.mean(fish)\n",
    "mu\n",
    "#you may estimate 4.187 as population mean. This is point estimation."
   ]
  },
  {
   "cell_type": "code",
   "execution_count": 9,
   "metadata": {},
   "outputs": [
    {
     "data": {
      "text/plain": [
       "0.680"
      ]
     },
     "execution_count": 9,
     "metadata": {},
     "output_type": "execute_result"
    }
   ],
   "source": [
    "sigma_2 = sp.var(fish, ddof = 1)\n",
    "sigma_2"
   ]
  },
  {
   "cell_type": "markdown",
   "metadata": {},
   "source": [
    "## 区間推定\n",
    "\n",
    "・　推定値に幅を持たせた推定方法。これによって推定誤差を加味することができる。これが小さければ、区間推定の幅は狭くなる。\n",
    "\n",
    "## 信頼係数・信頼区間\n",
    "・　区間推定の幅における信頼の度合いを確率で表現したもの。\n",
    "\n",
    "・　ある信頼係数を満たす区間のこと。\n",
    "\n",
    "## 信頼限界\n",
    "・　信頼区間の下限値と上限値のこと。\n"
   ]
  },
  {
   "cell_type": "code",
   "execution_count": 12,
   "metadata": {},
   "outputs": [
    {
     "data": {
      "text/plain": [
       "9"
      ]
     },
     "execution_count": 12,
     "metadata": {},
     "output_type": "execute_result"
    }
   ],
   "source": [
    "#implement interval estimation\n",
    "df = len(fish) - 1\n",
    "df"
   ]
  },
  {
   "cell_type": "code",
   "execution_count": 18,
   "metadata": {},
   "outputs": [
    {
     "data": {
      "text/plain": [
       "0.2608259396768776"
      ]
     },
     "execution_count": 18,
     "metadata": {},
     "output_type": "execute_result"
    }
   ],
   "source": [
    "sigma = sp.std(fish, ddof = 1)\n",
    "se = sigma / sp.sqrt(len(fish))\n",
    "se"
   ]
  },
  {
   "cell_type": "code",
   "execution_count": 19,
   "metadata": {},
   "outputs": [
    {
     "data": {
      "text/plain": [
       "(3.597010056835825, 4.777068592173221)"
      ]
     },
     "execution_count": 19,
     "metadata": {},
     "output_type": "execute_result"
    }
   ],
   "source": [
    "interval = sp.stats.t.interval(\n",
    "             alpha = 0.95, df = df, loc = mu, scale = se)\n",
    "interval"
   ]
  },
  {
   "cell_type": "code",
   "execution_count": 20,
   "metadata": {},
   "outputs": [
    {
     "data": {
      "text/plain": [
       "array([False, False, False, ..., False, False, False])"
      ]
     },
     "execution_count": 20,
     "metadata": {},
     "output_type": "execute_result"
    }
   ],
   "source": [
    "be_included_array = np.zeros(20000, dtype = \"bool\")\n",
    "be_included_array"
   ]
  },
  {
   "cell_type": "code",
   "execution_count": 26,
   "metadata": {},
   "outputs": [],
   "source": [
    "np.random.seed(1)\n",
    "norm_dist = sp.stats.norm(loc = 4, scale = 0.8)\n",
    "for estimation in range(0, 20000):\n",
    "    sample = norm_dist.rvs(size = 10)\n",
    "    df = len(sample) - 1\n",
    "    mu = sp.mean(sample)\n",
    "    std = sp.std(sample, ddof = 1)\n",
    "    se = std / sp.sqrt(len(sample))\n",
    "    interval = sp.stats.t.interval(0.95, df, mu, se)\n",
    "    if(interval[0] <= 4 and interval[1] >= 4):\n",
    "        be_included_array[estimation] = True"
   ]
  },
  {
   "cell_type": "code",
   "execution_count": 27,
   "metadata": {},
   "outputs": [
    {
     "data": {
      "text/plain": [
       "0.948"
      ]
     },
     "execution_count": 27,
     "metadata": {},
     "output_type": "execute_result"
    }
   ],
   "source": [
    "sum(be_included_array) / len(be_included_array)"
   ]
  }
 ],
 "metadata": {
  "kernelspec": {
   "display_name": "Python 3",
   "language": "python",
   "name": "python3"
  },
  "language_info": {
   "codemirror_mode": {
    "name": "ipython",
    "version": 3
   },
   "file_extension": ".py",
   "mimetype": "text/x-python",
   "name": "python",
   "nbconvert_exporter": "python",
   "pygments_lexer": "ipython3",
   "version": "3.7.4"
  }
 },
 "nbformat": 4,
 "nbformat_minor": 4
}
