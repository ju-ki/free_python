{
 "cells": [
  {
   "cell_type": "markdown",
   "metadata": {},
   "source": [
    "## 重回帰分析とは\n",
    "\n",
    "* そもそも回帰分析とは何か\n",
    "→　関数をデータに当てはめることにより、ある変数yの変動を別の変数xの変動により説明・予測・影響関係を検討するための手法。\n",
    "\n",
    "説明したい（予測したい）をy（目的変数）として、そのyを説明するための変数を説明変数と呼ぶ。\n",
    "\n",
    "説明変数（x）が一つのモデルのことを単回帰分析と呼ぶ→　　$$y=a_{0}+a_{1}x_{1}$$\n",
    "\n",
    "$$y=a_{0}+a_{1}x_{1}+a_{2}x_{2}+a_{3}x_{3}+ ・・・ + a_{n}x_{n}$$"
   ]
  },
  {
   "cell_type": "code",
   "execution_count": 1,
   "metadata": {},
   "outputs": [],
   "source": [
    "import numpy as np\n",
    "import pandas as pd\n",
    "import matplotlib.pyplot as plt\n",
    "%matplotlib inline"
   ]
  },
  {
   "cell_type": "code",
   "execution_count": 2,
   "metadata": {},
   "outputs": [],
   "source": [
    "# b = np.array([1, -1])\n",
    "# c = np.array([3, -3])\n",
    "\n",
    "# a = 2\n",
    "# x = np.linspace(-2, 2)\n",
    "# y = a * x\n",
    "# plt.plot(x, y, label=\"y=2*x\", color=\"red\")\n",
    "# plt.scatter(b, c)\n",
    "# plt.legend()\n",
    "# plt.grid()"
   ]
  },
  {
   "cell_type": "markdown",
   "metadata": {},
   "source": [
    "$$z=3x^2+2y^2+4x+7y+3$$\n",
    "\n",
    "\n",
    "$$z=3x^2+2+4x+7+3$$\n",
    "\n",
    "$$\\frac{\\delta_z}{\\delta_x}=6x+4$$\n",
    "\n",
    "$$z=3+2y^2+4+7y+3$$\n",
    "\n",
    "$$\\frac{\\delta_z}{\\delta_y}=4y+7$$"
   ]
  },
  {
   "cell_type": "markdown",
   "metadata": {},
   "source": [
    "$$y_{i} = a_{0} + a_{1}x_{1} + a_{2}x_{2}　・・・ + a_{n}x_{n}・・・①$$\n",
    "\n",
    "\n",
    "$$\\hat{y_{i}} = a_{0} + a_{1}x_{1} + a_{2}x_{2}　・・・ + a_{n}x_{n}・・・②$$\n",
    "\n",
    "$$e_{i}=y_{i}-\\hat{y_{i}}・・・③$$\n",
    "\n",
    "$$S_{e}= \\sum_{i=1}^n e_{i}^2 =\\sum_{i=1}^n{{(y_i - \\hat{y_{i}})}^2} = \\sum_{i=1}^n {[y_{i} - (\\hat{a_0} + \\hat{a_{1}}x_{i1} + \\hat{a_{2}}x_{i2})]^2}・・・④$$\n",
    "\n"
   ]
  },
  {
   "cell_type": "markdown",
   "metadata": {},
   "source": [
    "$$\\frac{\\partial S_{e}}{\\partial \\hat{\\alpha}_{0}} = -2 \\sum_{i=1}^{n}\\left(y_{i}-\\hat{\\alpha}_{0}-\\widehat{\\alpha}_{1} x_{i 1}-\\widehat{\\alpha}_{2} x_{i 2}\\right)=0・・・⑤$$\n",
    "\n",
    "$$\\frac{\\partial S_{e}}{\\partial \\hat{\\alpha}_{1}} = -2 \\sum_{i=1}^{n} x_{i1}\\left(y_{i}-\\hat{\\alpha}_{0}-\\widehat{\\alpha}_{1} x_{i 1}-\\widehat{\\alpha}_{2} x_{i 2}\\right)=0・・・⑥$$\n",
    "\n",
    "$$\\frac{\\partial S_{e}}{\\partial \\hat{\\alpha}_{1}} = -2 \\sum_{i=1}^{n} x_{i2}\\left(y_{i}-\\hat{\\alpha}_{0}-\\widehat{\\alpha}_{1} x_{i 1}-\\widehat{\\alpha}_{2} x_{i 2}\\right)=0・・・⑦$$"
   ]
  },
  {
   "cell_type": "markdown",
   "metadata": {},
   "source": [
    "$$\\hat{\\alpha_1}S_{11}+\\hat{\\alpha_2}S_{12}=S_{1y}$$\n",
    "$$\\hat{\\alpha_1}S_{12}+\\hat{\\alpha_2}S_{22}=S_{2y}$$"
   ]
  },
  {
   "cell_type": "markdown",
   "metadata": {},
   "source": [
    "$$n \\hat{\\alpha}_{0}+\\hat{\\alpha}_{1} \\Sigma x_{i 1} +\\hat{\\alpha}_{2} \\sum x_{i 2}=\\sum y_{i}・・・⑧$$\n",
    "\n",
    "$$\\hat{\\alpha}_{0} \\sum x_{i} 1+\\hat{\\alpha}_{1} \\sum x_{i 1}^{2}+\\hat{\\alpha}_{2} \\sum x_{i 1} x_{i 2}\\quad=\\sum x_{i 2} y_{i}・・・⑨\n",
    "$$\n",
    "\n",
    "$$\\hat{\\alpha}_{0} \\sum x_{i 2} +\\hat{\\alpha}_{1} \\sum_{x i}  x_{i 2}+\\hat{\\alpha}_{2} \\sum x_{i 2}=\\sum x_{i 2} y_{i}・・・➉$$\n",
    "\n",
    "\n",
    "$$\\hat{\\alpha}_{0}=\\frac{\\sum y_{i}}{n}\n",
    "-\\hat{\\alpha}_{1} \\frac{\\sum x_{i 1}}{n}-\\hat{\\alpha}_{2}{\\sum x_{i 2}}=\\bar{y}-\\hat{\\alpha}_{1} \\bar{x}_{1}-\\hat{\\alpha}_{2} \\bar{x}_{2}・・・⑪$$\n",
    "\n"
   ]
  },
  {
   "cell_type": "markdown",
   "metadata": {},
   "source": [
    "$$\\bar{y}=\\hat{a}_{0}+\\hat{\\alpha}_{1} \\bar{x}_{1}+\\hat{\\alpha}_{2} \\bar{x}_{2}・・・⑫$$\n",
    "\n",
    "$$\\hat{\\alpha}_{1}\\left(\\sum x_{i 1}^{2}-\\frac{\\left(\\sum x_{i 1}\\right)^{2}}{n}\\right)\n",
    "+\\hat{\\alpha}_{1}\\left(\\sum x_{i 1} x_{i 2}-\\frac{\\left.\\left(\\sum_{x i 1}\\right)\\left(\\Sigma x_{i 2}\\right)\\right)}{n}\\right)=\\sum x_{i 1} y_{i}-\\frac{\\left(\\Sigma x_{i}\\right)\\left(\\sum y_{i}\\right)}{n}・・・⑬$$"
   ]
  },
  {
   "cell_type": "markdown",
   "metadata": {},
   "source": [
    "$$\\hat{\\alpha}_{1}\\left(\\sum x_{i 1} x_{i 2}-\\frac{\\left(\\sum x_{i 1}\\right)\\left(\\sum x_{i 2}\\right)}{n}\\right)\n",
    "+\\hat{\\alpha}_{2}\\left(\\sum x_{i 2}^{2}-\\frac{\\left(\\sum x_{i 2}\\right)^{2}}{n}\\right)=\\sum x_{i 2} y_{i}-\\frac{\\left(\\sum x_{i}\\right)\\left(\\sum y_{i}\\right)}{n}・・・⑭$$"
   ]
  },
  {
   "cell_type": "markdown",
   "metadata": {},
   "source": [
    "$$S_{11}=\\sum_{i=1}^{n}\\left(x_{i 1}-\\bar{x}_{1}\\right)^{2}=\\sum x_{i 1}^{2}-\\frac{\\left(\\sum x_{i 1}\\right)^{2}}{n}・・・⑮$$\n",
    "\n",
    "$$S_{22}=\\sum_{i=1}^{n}\\left(x_{i 2}-\\bar{x}_{2}\\right)^{2}=\\sum x_{i 2}^{2}-\\frac{\\left(\\sum x_{i 2}\\right)^{2}}{n}・・・⑯$$\n"
   ]
  },
  {
   "cell_type": "markdown",
   "metadata": {},
   "source": [
    "$$S_{12}=\\sum_{i=1}^{n}\\left(x_{i 1}-\\bar{x}_{1}\\right)\n",
    "\\left(x_{i 2}-\\bar{x}_{2}\\right)=\\sum_{x_{i 1}} x_{i 2}\n",
    "-\\frac{\\left(\\sum x_{i 1}\\right)\\left(\\sum x_{i 2}\\right)}{n}・・・⑰$$\n",
    "\n",
    "$$S_{y y}=\\sum_{i=1}^{n}\\left(y_{i}-\\bar{y}\\right)^{2}=\\sum y_{i}^{2}-\\frac{\\left(\\sum_{y i}\\right)^{2}}{n}・・・⑱$$\n",
    "\n",
    "$$S_{1y}=\\sum_{i=1}^{n}\\left(x_{i 1}-\\bar{x}_{1}\\right)\\left(y_{i}-\\bar{y}\\right)=\\sum x_{i 1} j_{i}-\\frac{\\left(\\sum x_{i 1}\\right)\\left(\\sum y_{i}\\right)}{n}・・・⑲$$\n",
    "\n",
    "$$S_{2y}=\\sum_{i=1}^{n}\\left(x_{i 2}-\\bar{x}_{2}\\right)\\left(y_{i}-\\bar{y}\\right)=\\sum x_{i 2} j_{i}-\\frac{\\left(\\sum x_{i 2}\\right)\\left(\\sum y_{i}\\right)}{n}・・・ 20$$\n",
    "\n",
    "$$\\left[\\begin{array}{ll}S_{11} & S_{12} \\\\ S_{12} & S_{22}\\end{array}\\right]\\left[\\begin{array}{l}\\hat{\\alpha}_{1} \\\\ \\hat{\\alpha}_{2}\\end{array}\\right]=\\left[\\begin{array}{l}_{1 y} \\\\ S_{2 y}\\end{array}\\right]・・・21$$"
   ]
  },
  {
   "cell_type": "markdown",
   "metadata": {},
   "source": [
    "$$\n",
    "r=\\frac{\\sum\\left(y_{i}-\\bar{y}\\right)\\left(\\hat{y}_{i}-\\bar{y}\\right)}{\\sqrt{\\sum\\left(y_{i}-\\bar{y}\\right)^{2} \\sum\\left(\\hat{y}_{i}-\\bar{y}\\right)^{2}}}\n",
    "$$\n",
    "\n",
    "$$R^2=1-\\frac{S_{E}}{S_{yy}}$$\n",
    "\n",
    "$$R^2=1-\\frac{S_{E}/(n-p-1)}{S_{yy}/(n-1)}$$\n",
    "\n",
    "\n",
    "$$\\acute{\\alpha_n}=\\alpha_n*\\sqrt{\\frac{S_{nn}}{S_{yy}}}$$\n",
    "\n",
    "$$\\acute{\\alpha_1}=\\alpha_1*\\sqrt{\\frac{S_{11}}{S_{yy}}}$$\n"
   ]
  },
  {
   "cell_type": "code",
   "execution_count": 11,
   "metadata": {},
   "outputs": [
    {
     "name": "stdout",
     "output_type": "stream",
     "text": [
      ".. _boston_dataset:\n",
      "\n",
      "Boston house prices dataset\n",
      "---------------------------\n",
      "\n",
      "**Data Set Characteristics:**  \n",
      "\n",
      "    :Number of Instances: 506 \n",
      "\n",
      "    :Number of Attributes: 13 numeric/categorical predictive. Median Value (attribute 14) is usually the target.\n",
      "\n",
      "    :Attribute Information (in order):\n",
      "        - CRIM     per capita crime rate by town\n",
      "        - ZN       proportion of residential land zoned for lots over 25,000 sq.ft.\n",
      "        - INDUS    proportion of non-retail business acres per town\n",
      "        - CHAS     Charles River dummy variable (= 1 if tract bounds river; 0 otherwise)\n",
      "        - NOX      nitric oxides concentration (parts per 10 million)\n",
      "        - RM       average number of rooms per dwelling\n",
      "        - AGE      proportion of owner-occupied units built prior to 1940\n",
      "        - DIS      weighted distances to five Boston employment centres\n",
      "        - RAD      index of accessibility to radial highways\n",
      "        - TAX      full-value property-tax rate per $10,000\n",
      "        - PTRATIO  pupil-teacher ratio by town\n",
      "        - B        1000(Bk - 0.63)^2 where Bk is the proportion of blacks by town\n",
      "        - LSTAT    % lower status of the population\n",
      "        - MEDV     Median value of owner-occupied homes in $1000's\n",
      "\n",
      "    :Missing Attribute Values: None\n",
      "\n",
      "    :Creator: Harrison, D. and Rubinfeld, D.L.\n",
      "\n",
      "This is a copy of UCI ML housing dataset.\n",
      "https://archive.ics.uci.edu/ml/machine-learning-databases/housing/\n",
      "\n",
      "\n",
      "This dataset was taken from the StatLib library which is maintained at Carnegie Mellon University.\n",
      "\n",
      "The Boston house-price data of Harrison, D. and Rubinfeld, D.L. 'Hedonic\n",
      "prices and the demand for clean air', J. Environ. Economics & Management,\n",
      "vol.5, 81-102, 1978.   Used in Belsley, Kuh & Welsch, 'Regression diagnostics\n",
      "...', Wiley, 1980.   N.B. Various transformations are used in the table on\n",
      "pages 244-261 of the latter.\n",
      "\n",
      "The Boston house-price data has been used in many machine learning papers that address regression\n",
      "problems.   \n",
      "     \n",
      ".. topic:: References\n",
      "\n",
      "   - Belsley, Kuh & Welsch, 'Regression diagnostics: Identifying Influential Data and Sources of Collinearity', Wiley, 1980. 244-261.\n",
      "   - Quinlan,R. (1993). Combining Instance-Based and Model-Based Learning. In Proceedings on the Tenth International Conference of Machine Learning, 236-243, University of Massachusetts, Amherst. Morgan Kaufmann.\n",
      "\n"
     ]
    }
   ],
   "source": [
    "from sklearn.datasets import load_boston\n",
    "boston = load_boston()\n",
    "print(boston.DESCR)"
   ]
  },
  {
   "cell_type": "code",
   "execution_count": 12,
   "metadata": {},
   "outputs": [
    {
     "name": "stdout",
     "output_type": "stream",
     "text": [
      "boston feature_names:\n",
      "['CRIM' 'ZN' 'INDUS' 'CHAS' 'NOX' 'RM' 'AGE' 'DIS' 'RAD' 'TAX' 'PTRATIO'\n",
      " 'B' 'LSTAT']\n"
     ]
    }
   ],
   "source": [
    "print(\"boston feature_names:\\n{}\".format(boston.feature_names))"
   ]
  },
  {
   "cell_type": "code",
   "execution_count": 13,
   "metadata": {},
   "outputs": [
    {
     "name": "stdout",
     "output_type": "stream",
     "text": [
      "[24.  21.6 34.7 33.4 36.2 28.7 22.9 27.1 16.5 18.9 15.  18.9 21.7 20.4\n",
      " 18.2 19.9 23.1 17.5 20.2 18.2 13.6 19.6 15.2 14.5 15.6 13.9 16.6 14.8\n",
      " 18.4 21.  12.7 14.5 13.2 13.1 13.5 18.9 20.  21.  24.7 30.8 34.9 26.6\n",
      " 25.3 24.7 21.2 19.3 20.  16.6 14.4 19.4 19.7 20.5 25.  23.4 18.9 35.4\n",
      " 24.7 31.6 23.3 19.6 18.7 16.  22.2 25.  33.  23.5 19.4 22.  17.4 20.9\n",
      " 24.2 21.7 22.8 23.4 24.1 21.4 20.  20.8 21.2 20.3 28.  23.9 24.8 22.9\n",
      " 23.9 26.6 22.5 22.2 23.6 28.7 22.6 22.  22.9 25.  20.6 28.4 21.4 38.7\n",
      " 43.8 33.2 27.5 26.5 18.6 19.3 20.1 19.5 19.5 20.4 19.8 19.4 21.7 22.8\n",
      " 18.8 18.7 18.5 18.3 21.2 19.2 20.4 19.3 22.  20.3 20.5 17.3 18.8 21.4\n",
      " 15.7 16.2 18.  14.3 19.2 19.6 23.  18.4 15.6 18.1 17.4 17.1 13.3 17.8\n",
      " 14.  14.4 13.4 15.6 11.8 13.8 15.6 14.6 17.8 15.4 21.5 19.6 15.3 19.4\n",
      " 17.  15.6 13.1 41.3 24.3 23.3 27.  50.  50.  50.  22.7 25.  50.  23.8\n",
      " 23.8 22.3 17.4 19.1 23.1 23.6 22.6 29.4 23.2 24.6 29.9 37.2 39.8 36.2\n",
      " 37.9 32.5 26.4 29.6 50.  32.  29.8 34.9 37.  30.5 36.4 31.1 29.1 50.\n",
      " 33.3 30.3 34.6 34.9 32.9 24.1 42.3 48.5 50.  22.6 24.4 22.5 24.4 20.\n",
      " 21.7 19.3 22.4 28.1 23.7 25.  23.3 28.7 21.5 23.  26.7 21.7 27.5 30.1\n",
      " 44.8 50.  37.6 31.6 46.7 31.5 24.3 31.7 41.7 48.3 29.  24.  25.1 31.5\n",
      " 23.7 23.3 22.  20.1 22.2 23.7 17.6 18.5 24.3 20.5 24.5 26.2 24.4 24.8\n",
      " 29.6 42.8 21.9 20.9 44.  50.  36.  30.1 33.8 43.1 48.8 31.  36.5 22.8\n",
      " 30.7 50.  43.5 20.7 21.1 25.2 24.4 35.2 32.4 32.  33.2 33.1 29.1 35.1\n",
      " 45.4 35.4 46.  50.  32.2 22.  20.1 23.2 22.3 24.8 28.5 37.3 27.9 23.9\n",
      " 21.7 28.6 27.1 20.3 22.5 29.  24.8 22.  26.4 33.1 36.1 28.4 33.4 28.2\n",
      " 22.8 20.3 16.1 22.1 19.4 21.6 23.8 16.2 17.8 19.8 23.1 21.  23.8 23.1\n",
      " 20.4 18.5 25.  24.6 23.  22.2 19.3 22.6 19.8 17.1 19.4 22.2 20.7 21.1\n",
      " 19.5 18.5 20.6 19.  18.7 32.7 16.5 23.9 31.2 17.5 17.2 23.1 24.5 26.6\n",
      " 22.9 24.1 18.6 30.1 18.2 20.6 17.8 21.7 22.7 22.6 25.  19.9 20.8 16.8\n",
      " 21.9 27.5 21.9 23.1 50.  50.  50.  50.  50.  13.8 13.8 15.  13.9 13.3\n",
      " 13.1 10.2 10.4 10.9 11.3 12.3  8.8  7.2 10.5  7.4 10.2 11.5 15.1 23.2\n",
      "  9.7 13.8 12.7 13.1 12.5  8.5  5.   6.3  5.6  7.2 12.1  8.3  8.5  5.\n",
      " 11.9 27.9 17.2 27.5 15.  17.2 17.9 16.3  7.   7.2  7.5 10.4  8.8  8.4\n",
      " 16.7 14.2 20.8 13.4 11.7  8.3 10.2 10.9 11.   9.5 14.5 14.1 16.1 14.3\n",
      " 11.7 13.4  9.6  8.7  8.4 12.8 10.5 17.1 18.4 15.4 10.8 11.8 14.9 12.6\n",
      " 14.1 13.  13.4 15.2 16.1 17.8 14.9 14.1 12.7 13.5 14.9 20.  16.4 17.7\n",
      " 19.5 20.2 21.4 19.9 19.  19.1 19.1 20.1 19.9 19.6 23.2 29.8 13.8 13.3\n",
      " 16.7 12.  14.6 21.4 23.  23.7 25.  21.8 20.6 21.2 19.1 20.6 15.2  7.\n",
      "  8.1 13.6 20.1 21.8 24.5 23.1 19.7 18.3 21.2 17.5 16.8 22.4 20.6 23.9\n",
      " 22.  11.9]\n"
     ]
    }
   ],
   "source": [
    "print(boston.target)"
   ]
  },
  {
   "cell_type": "code",
   "execution_count": 14,
   "metadata": {},
   "outputs": [],
   "source": [
    "df = pd.DataFrame(data=boston[\"data\"], columns=boston[\"feature_names\"])\n",
    "df[\"price\"] = pd.DataFrame(boston.target)"
   ]
  },
  {
   "cell_type": "code",
   "execution_count": 15,
   "metadata": {},
   "outputs": [
    {
     "data": {
      "text/html": [
       "<div>\n",
       "<style scoped>\n",
       "    .dataframe tbody tr th:only-of-type {\n",
       "        vertical-align: middle;\n",
       "    }\n",
       "\n",
       "    .dataframe tbody tr th {\n",
       "        vertical-align: top;\n",
       "    }\n",
       "\n",
       "    .dataframe thead th {\n",
       "        text-align: right;\n",
       "    }\n",
       "</style>\n",
       "<table border=\"1\" class=\"dataframe\">\n",
       "  <thead>\n",
       "    <tr style=\"text-align: right;\">\n",
       "      <th></th>\n",
       "      <th>CRIM</th>\n",
       "      <th>ZN</th>\n",
       "      <th>INDUS</th>\n",
       "      <th>CHAS</th>\n",
       "      <th>NOX</th>\n",
       "      <th>RM</th>\n",
       "      <th>AGE</th>\n",
       "      <th>DIS</th>\n",
       "      <th>RAD</th>\n",
       "      <th>TAX</th>\n",
       "      <th>PTRATIO</th>\n",
       "      <th>B</th>\n",
       "      <th>LSTAT</th>\n",
       "      <th>price</th>\n",
       "    </tr>\n",
       "  </thead>\n",
       "  <tbody>\n",
       "    <tr>\n",
       "      <td>0</td>\n",
       "      <td>0.00632</td>\n",
       "      <td>18.0</td>\n",
       "      <td>2.31</td>\n",
       "      <td>0.0</td>\n",
       "      <td>0.538</td>\n",
       "      <td>6.575</td>\n",
       "      <td>65.2</td>\n",
       "      <td>4.0900</td>\n",
       "      <td>1.0</td>\n",
       "      <td>296.0</td>\n",
       "      <td>15.3</td>\n",
       "      <td>396.90</td>\n",
       "      <td>4.98</td>\n",
       "      <td>24.0</td>\n",
       "    </tr>\n",
       "    <tr>\n",
       "      <td>1</td>\n",
       "      <td>0.02731</td>\n",
       "      <td>0.0</td>\n",
       "      <td>7.07</td>\n",
       "      <td>0.0</td>\n",
       "      <td>0.469</td>\n",
       "      <td>6.421</td>\n",
       "      <td>78.9</td>\n",
       "      <td>4.9671</td>\n",
       "      <td>2.0</td>\n",
       "      <td>242.0</td>\n",
       "      <td>17.8</td>\n",
       "      <td>396.90</td>\n",
       "      <td>9.14</td>\n",
       "      <td>21.6</td>\n",
       "    </tr>\n",
       "    <tr>\n",
       "      <td>2</td>\n",
       "      <td>0.02729</td>\n",
       "      <td>0.0</td>\n",
       "      <td>7.07</td>\n",
       "      <td>0.0</td>\n",
       "      <td>0.469</td>\n",
       "      <td>7.185</td>\n",
       "      <td>61.1</td>\n",
       "      <td>4.9671</td>\n",
       "      <td>2.0</td>\n",
       "      <td>242.0</td>\n",
       "      <td>17.8</td>\n",
       "      <td>392.83</td>\n",
       "      <td>4.03</td>\n",
       "      <td>34.7</td>\n",
       "    </tr>\n",
       "    <tr>\n",
       "      <td>3</td>\n",
       "      <td>0.03237</td>\n",
       "      <td>0.0</td>\n",
       "      <td>2.18</td>\n",
       "      <td>0.0</td>\n",
       "      <td>0.458</td>\n",
       "      <td>6.998</td>\n",
       "      <td>45.8</td>\n",
       "      <td>6.0622</td>\n",
       "      <td>3.0</td>\n",
       "      <td>222.0</td>\n",
       "      <td>18.7</td>\n",
       "      <td>394.63</td>\n",
       "      <td>2.94</td>\n",
       "      <td>33.4</td>\n",
       "    </tr>\n",
       "    <tr>\n",
       "      <td>4</td>\n",
       "      <td>0.06905</td>\n",
       "      <td>0.0</td>\n",
       "      <td>2.18</td>\n",
       "      <td>0.0</td>\n",
       "      <td>0.458</td>\n",
       "      <td>7.147</td>\n",
       "      <td>54.2</td>\n",
       "      <td>6.0622</td>\n",
       "      <td>3.0</td>\n",
       "      <td>222.0</td>\n",
       "      <td>18.7</td>\n",
       "      <td>396.90</td>\n",
       "      <td>5.33</td>\n",
       "      <td>36.2</td>\n",
       "    </tr>\n",
       "  </tbody>\n",
       "</table>\n",
       "</div>"
      ],
      "text/plain": [
       "      CRIM    ZN  INDUS  CHAS    NOX     RM   AGE     DIS  RAD    TAX  \\\n",
       "0  0.00632  18.0   2.31   0.0  0.538  6.575  65.2  4.0900  1.0  296.0   \n",
       "1  0.02731   0.0   7.07   0.0  0.469  6.421  78.9  4.9671  2.0  242.0   \n",
       "2  0.02729   0.0   7.07   0.0  0.469  7.185  61.1  4.9671  2.0  242.0   \n",
       "3  0.03237   0.0   2.18   0.0  0.458  6.998  45.8  6.0622  3.0  222.0   \n",
       "4  0.06905   0.0   2.18   0.0  0.458  7.147  54.2  6.0622  3.0  222.0   \n",
       "\n",
       "   PTRATIO       B  LSTAT  price  \n",
       "0     15.3  396.90   4.98   24.0  \n",
       "1     17.8  396.90   9.14   21.6  \n",
       "2     17.8  392.83   4.03   34.7  \n",
       "3     18.7  394.63   2.94   33.4  \n",
       "4     18.7  396.90   5.33   36.2  "
      ]
     },
     "execution_count": 15,
     "metadata": {},
     "output_type": "execute_result"
    }
   ],
   "source": [
    "df.head()"
   ]
  },
  {
   "cell_type": "code",
   "execution_count": 22,
   "metadata": {},
   "outputs": [],
   "source": [
    "Y = df['price']\n",
    "X = df.drop(\"price\", axis=1)"
   ]
  },
  {
   "cell_type": "code",
   "execution_count": null,
   "metadata": {},
   "outputs": [],
   "source": []
  },
  {
   "cell_type": "code",
   "execution_count": null,
   "metadata": {},
   "outputs": [],
   "source": []
  }
 ],
 "metadata": {
  "kernelspec": {
   "display_name": "Python 3",
   "language": "python",
   "name": "python3"
  },
  "language_info": {
   "codemirror_mode": {
    "name": "ipython",
    "version": 3
   },
   "file_extension": ".py",
   "mimetype": "text/x-python",
   "name": "python",
   "nbconvert_exporter": "python",
   "pygments_lexer": "ipython3",
   "version": "3.7.4"
  }
 },
 "nbformat": 4,
 "nbformat_minor": 4
}
