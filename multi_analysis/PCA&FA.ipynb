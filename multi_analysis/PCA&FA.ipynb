{
 "cells": [
  {
   "cell_type": "code",
   "execution_count": 1,
   "metadata": {},
   "outputs": [
    {
     "data": {
      "text/plain": [
       "'%r'"
      ]
     },
     "execution_count": 1,
     "metadata": {},
     "output_type": "execute_result"
    }
   ],
   "source": [
    "import numpy as np\n",
    "import pandas as pd \n",
    "import matplotlib.pyplot as plt\n",
    "import seaborn as sns\n",
    "sns.set()\n",
    "%matplotlib inline\n",
    "%precision"
   ]
  },
  {
   "cell_type": "code",
   "execution_count": 99,
   "metadata": {},
   "outputs": [
    {
     "data": {
      "text/html": [
       "<div>\n",
       "<style scoped>\n",
       "    .dataframe tbody tr th:only-of-type {\n",
       "        vertical-align: middle;\n",
       "    }\n",
       "\n",
       "    .dataframe tbody tr th {\n",
       "        vertical-align: top;\n",
       "    }\n",
       "\n",
       "    .dataframe thead th {\n",
       "        text-align: right;\n",
       "    }\n",
       "</style>\n",
       "<table border=\"1\" class=\"dataframe\">\n",
       "  <thead>\n",
       "    <tr style=\"text-align: right;\">\n",
       "      <th></th>\n",
       "      <th>Math</th>\n",
       "      <th>English</th>\n",
       "      <th>Japanese</th>\n",
       "      <th>History</th>\n",
       "      <th>Physics</th>\n",
       "    </tr>\n",
       "  </thead>\n",
       "  <tbody>\n",
       "    <tr>\n",
       "      <td>0</td>\n",
       "      <td>59</td>\n",
       "      <td>41</td>\n",
       "      <td>55</td>\n",
       "      <td>48</td>\n",
       "      <td>71</td>\n",
       "    </tr>\n",
       "    <tr>\n",
       "      <td>1</td>\n",
       "      <td>68</td>\n",
       "      <td>42</td>\n",
       "      <td>60</td>\n",
       "      <td>51</td>\n",
       "      <td>61</td>\n",
       "    </tr>\n",
       "    <tr>\n",
       "      <td>2</td>\n",
       "      <td>50</td>\n",
       "      <td>64</td>\n",
       "      <td>43</td>\n",
       "      <td>46</td>\n",
       "      <td>85</td>\n",
       "    </tr>\n",
       "    <tr>\n",
       "      <td>3</td>\n",
       "      <td>67</td>\n",
       "      <td>56</td>\n",
       "      <td>68</td>\n",
       "      <td>50</td>\n",
       "      <td>81</td>\n",
       "    </tr>\n",
       "    <tr>\n",
       "      <td>4</td>\n",
       "      <td>62</td>\n",
       "      <td>69</td>\n",
       "      <td>41</td>\n",
       "      <td>52</td>\n",
       "      <td>82</td>\n",
       "    </tr>\n",
       "    <tr>\n",
       "      <td>5</td>\n",
       "      <td>54</td>\n",
       "      <td>53</td>\n",
       "      <td>66</td>\n",
       "      <td>80</td>\n",
       "      <td>32</td>\n",
       "    </tr>\n",
       "    <tr>\n",
       "      <td>6</td>\n",
       "      <td>41</td>\n",
       "      <td>67</td>\n",
       "      <td>51</td>\n",
       "      <td>80</td>\n",
       "      <td>60</td>\n",
       "    </tr>\n",
       "    <tr>\n",
       "      <td>7</td>\n",
       "      <td>52</td>\n",
       "      <td>68</td>\n",
       "      <td>67</td>\n",
       "      <td>52</td>\n",
       "      <td>34</td>\n",
       "    </tr>\n",
       "    <tr>\n",
       "      <td>8</td>\n",
       "      <td>59</td>\n",
       "      <td>54</td>\n",
       "      <td>57</td>\n",
       "      <td>64</td>\n",
       "      <td>31</td>\n",
       "    </tr>\n",
       "    <tr>\n",
       "      <td>9</td>\n",
       "      <td>40</td>\n",
       "      <td>63</td>\n",
       "      <td>78</td>\n",
       "      <td>73</td>\n",
       "      <td>52</td>\n",
       "    </tr>\n",
       "  </tbody>\n",
       "</table>\n",
       "</div>"
      ],
      "text/plain": [
       "   Math  English  Japanese  History  Physics\n",
       "0    59       41        55       48       71\n",
       "1    68       42        60       51       61\n",
       "2    50       64        43       46       85\n",
       "3    67       56        68       50       81\n",
       "4    62       69        41       52       82\n",
       "5    54       53        66       80       32\n",
       "6    41       67        51       80       60\n",
       "7    52       68        67       52       34\n",
       "8    59       54        57       64       31\n",
       "9    40       63        78       73       52"
      ]
     },
     "execution_count": 99,
     "metadata": {},
     "output_type": "execute_result"
    }
   ],
   "source": [
    "df = pd.read_csv(\"test.csv\")\n",
    "df"
   ]
  },
  {
   "cell_type": "code",
   "execution_count": 100,
   "metadata": {},
   "outputs": [
    {
     "data": {
      "text/html": [
       "<div>\n",
       "<style scoped>\n",
       "    .dataframe tbody tr th:only-of-type {\n",
       "        vertical-align: middle;\n",
       "    }\n",
       "\n",
       "    .dataframe tbody tr th {\n",
       "        vertical-align: top;\n",
       "    }\n",
       "\n",
       "    .dataframe thead th {\n",
       "        text-align: right;\n",
       "    }\n",
       "</style>\n",
       "<table border=\"1\" class=\"dataframe\">\n",
       "  <thead>\n",
       "    <tr style=\"text-align: right;\">\n",
       "      <th></th>\n",
       "      <th>Math</th>\n",
       "      <th>English</th>\n",
       "      <th>Japanese</th>\n",
       "      <th>History</th>\n",
       "      <th>Physics</th>\n",
       "    </tr>\n",
       "  </thead>\n",
       "  <tbody>\n",
       "    <tr>\n",
       "      <td>0</td>\n",
       "      <td>0.41</td>\n",
       "      <td>-1.71</td>\n",
       "      <td>-0.33</td>\n",
       "      <td>-0.91</td>\n",
       "      <td>0.60</td>\n",
       "    </tr>\n",
       "    <tr>\n",
       "      <td>1</td>\n",
       "      <td>1.39</td>\n",
       "      <td>-1.61</td>\n",
       "      <td>0.13</td>\n",
       "      <td>-0.67</td>\n",
       "      <td>0.10</td>\n",
       "    </tr>\n",
       "    <tr>\n",
       "      <td>2</td>\n",
       "      <td>-0.56</td>\n",
       "      <td>0.65</td>\n",
       "      <td>-1.41</td>\n",
       "      <td>-1.06</td>\n",
       "      <td>1.30</td>\n",
       "    </tr>\n",
       "    <tr>\n",
       "      <td>3</td>\n",
       "      <td>1.28</td>\n",
       "      <td>-0.17</td>\n",
       "      <td>0.85</td>\n",
       "      <td>-0.75</td>\n",
       "      <td>1.10</td>\n",
       "    </tr>\n",
       "    <tr>\n",
       "      <td>4</td>\n",
       "      <td>0.74</td>\n",
       "      <td>1.16</td>\n",
       "      <td>-1.59</td>\n",
       "      <td>-0.59</td>\n",
       "      <td>1.15</td>\n",
       "    </tr>\n",
       "    <tr>\n",
       "      <td>5</td>\n",
       "      <td>-0.13</td>\n",
       "      <td>-0.48</td>\n",
       "      <td>0.67</td>\n",
       "      <td>1.60</td>\n",
       "      <td>-1.34</td>\n",
       "    </tr>\n",
       "    <tr>\n",
       "      <td>6</td>\n",
       "      <td>-1.54</td>\n",
       "      <td>0.95</td>\n",
       "      <td>-0.69</td>\n",
       "      <td>1.60</td>\n",
       "      <td>0.05</td>\n",
       "    </tr>\n",
       "    <tr>\n",
       "      <td>7</td>\n",
       "      <td>-0.35</td>\n",
       "      <td>1.06</td>\n",
       "      <td>0.76</td>\n",
       "      <td>-0.59</td>\n",
       "      <td>-1.24</td>\n",
       "    </tr>\n",
       "    <tr>\n",
       "      <td>8</td>\n",
       "      <td>0.41</td>\n",
       "      <td>-0.38</td>\n",
       "      <td>-0.14</td>\n",
       "      <td>0.34</td>\n",
       "      <td>-1.39</td>\n",
       "    </tr>\n",
       "    <tr>\n",
       "      <td>9</td>\n",
       "      <td>-1.65</td>\n",
       "      <td>0.54</td>\n",
       "      <td>1.76</td>\n",
       "      <td>1.05</td>\n",
       "      <td>-0.34</td>\n",
       "    </tr>\n",
       "  </tbody>\n",
       "</table>\n",
       "</div>"
      ],
      "text/plain": [
       "   Math  English  Japanese  History  Physics\n",
       "0  0.41    -1.71     -0.33    -0.91     0.60\n",
       "1  1.39    -1.61      0.13    -0.67     0.10\n",
       "2 -0.56     0.65     -1.41    -1.06     1.30\n",
       "3  1.28    -0.17      0.85    -0.75     1.10\n",
       "4  0.74     1.16     -1.59    -0.59     1.15\n",
       "5 -0.13    -0.48      0.67     1.60    -1.34\n",
       "6 -1.54     0.95     -0.69     1.60     0.05\n",
       "7 -0.35     1.06      0.76    -0.59    -1.24\n",
       "8  0.41    -0.38     -0.14     0.34    -1.39\n",
       "9 -1.65     0.54      1.76     1.05    -0.34"
      ]
     },
     "execution_count": 100,
     "metadata": {},
     "output_type": "execute_result"
    }
   ],
   "source": [
    "from sklearn.preprocessing import StandardScaler\n",
    "scaler = StandardScaler()\n",
    "df_sc = scaler.fit_transform(df)\n",
    "df = pd.DataFrame(df_sc, columns=df.columns)\n",
    "df.round(2)"
   ]
  },
  {
   "cell_type": "code",
   "execution_count": 101,
   "metadata": {},
   "outputs": [],
   "source": [
    "df_corr = df.corr()"
   ]
  },
  {
   "cell_type": "code",
   "execution_count": 102,
   "metadata": {},
   "outputs": [
    {
     "data": {
      "image/png": "[encoded data removed]",
      "text/plain": [
       "<Figure size 432x432 with 2 Axes>"
      ]
     },
     "metadata": {
      "needs_background": "light"
     },
     "output_type": "display_data"
    }
   ],
   "source": [
    "fig, ax = plt.subplots(figsize=(6, 6))\n",
    "sns.heatmap(df_corr, annot=True)\n",
    "ax.set_ylim(len(df_corr), 0)\n",
    "plt.tight_layout()"
   ]
  },
  {
   "cell_type": "code",
   "execution_count": 103,
   "metadata": {},
   "outputs": [
    {
     "data": {
      "text/html": [
       "<div>\n",
       "<style scoped>\n",
       "    .dataframe tbody tr th:only-of-type {\n",
       "        vertical-align: middle;\n",
       "    }\n",
       "\n",
       "    .dataframe tbody tr th {\n",
       "        vertical-align: top;\n",
       "    }\n",
       "\n",
       "    .dataframe thead th {\n",
       "        text-align: right;\n",
       "    }\n",
       "</style>\n",
       "<table border=\"1\" class=\"dataframe\">\n",
       "  <thead>\n",
       "    <tr style=\"text-align: right;\">\n",
       "      <th></th>\n",
       "      <th>Math</th>\n",
       "      <th>English</th>\n",
       "      <th>Japanese</th>\n",
       "      <th>History</th>\n",
       "      <th>Physics</th>\n",
       "    </tr>\n",
       "  </thead>\n",
       "  <tbody>\n",
       "    <tr>\n",
       "      <td>Math</td>\n",
       "      <td>1.00</td>\n",
       "      <td>-0.55</td>\n",
       "      <td>-0.15</td>\n",
       "      <td>-0.62</td>\n",
       "      <td>0.24</td>\n",
       "    </tr>\n",
       "    <tr>\n",
       "      <td>English</td>\n",
       "      <td>-0.55</td>\n",
       "      <td>1.00</td>\n",
       "      <td>-0.17</td>\n",
       "      <td>0.20</td>\n",
       "      <td>0.05</td>\n",
       "    </tr>\n",
       "    <tr>\n",
       "      <td>Japanese</td>\n",
       "      <td>-0.15</td>\n",
       "      <td>-0.17</td>\n",
       "      <td>1.00</td>\n",
       "      <td>0.33</td>\n",
       "      <td>-0.52</td>\n",
       "    </tr>\n",
       "    <tr>\n",
       "      <td>History</td>\n",
       "      <td>-0.62</td>\n",
       "      <td>0.20</td>\n",
       "      <td>0.33</td>\n",
       "      <td>1.00</td>\n",
       "      <td>-0.57</td>\n",
       "    </tr>\n",
       "    <tr>\n",
       "      <td>Physics</td>\n",
       "      <td>0.24</td>\n",
       "      <td>0.05</td>\n",
       "      <td>-0.52</td>\n",
       "      <td>-0.57</td>\n",
       "      <td>1.00</td>\n",
       "    </tr>\n",
       "  </tbody>\n",
       "</table>\n",
       "</div>"
      ],
      "text/plain": [
       "          Math  English  Japanese  History  Physics\n",
       "Math      1.00    -0.55     -0.15    -0.62     0.24\n",
       "English  -0.55     1.00     -0.17     0.20     0.05\n",
       "Japanese -0.15    -0.17      1.00     0.33    -0.52\n",
       "History  -0.62     0.20      0.33     1.00    -0.57\n",
       "Physics   0.24     0.05     -0.52    -0.57     1.00"
      ]
     },
     "execution_count": 103,
     "metadata": {},
     "output_type": "execute_result"
    }
   ],
   "source": [
    "df_corr.round(2)"
   ]
  },
  {
   "cell_type": "code",
   "execution_count": 104,
   "metadata": {},
   "outputs": [],
   "source": [
    "df_cov = pd.DataFrame(np.cov(df, rowvar=False), columns=df_corr.columns, index=df_corr.columns)"
   ]
  },
  {
   "cell_type": "code",
   "execution_count": 105,
   "metadata": {},
   "outputs": [
    {
     "data": {
      "text/html": [
       "<div>\n",
       "<style scoped>\n",
       "    .dataframe tbody tr th:only-of-type {\n",
       "        vertical-align: middle;\n",
       "    }\n",
       "\n",
       "    .dataframe tbody tr th {\n",
       "        vertical-align: top;\n",
       "    }\n",
       "\n",
       "    .dataframe thead th {\n",
       "        text-align: right;\n",
       "    }\n",
       "</style>\n",
       "<table border=\"1\" class=\"dataframe\">\n",
       "  <thead>\n",
       "    <tr style=\"text-align: right;\">\n",
       "      <th></th>\n",
       "      <th>Math</th>\n",
       "      <th>English</th>\n",
       "      <th>Japanese</th>\n",
       "      <th>History</th>\n",
       "      <th>Physics</th>\n",
       "    </tr>\n",
       "  </thead>\n",
       "  <tbody>\n",
       "    <tr>\n",
       "      <td>Math</td>\n",
       "      <td>1.11</td>\n",
       "      <td>-0.61</td>\n",
       "      <td>-0.17</td>\n",
       "      <td>-0.68</td>\n",
       "      <td>0.27</td>\n",
       "    </tr>\n",
       "    <tr>\n",
       "      <td>English</td>\n",
       "      <td>-0.61</td>\n",
       "      <td>1.11</td>\n",
       "      <td>-0.19</td>\n",
       "      <td>0.22</td>\n",
       "      <td>0.06</td>\n",
       "    </tr>\n",
       "    <tr>\n",
       "      <td>Japanese</td>\n",
       "      <td>-0.17</td>\n",
       "      <td>-0.19</td>\n",
       "      <td>1.11</td>\n",
       "      <td>0.37</td>\n",
       "      <td>-0.58</td>\n",
       "    </tr>\n",
       "    <tr>\n",
       "      <td>History</td>\n",
       "      <td>-0.68</td>\n",
       "      <td>0.22</td>\n",
       "      <td>0.37</td>\n",
       "      <td>1.11</td>\n",
       "      <td>-0.63</td>\n",
       "    </tr>\n",
       "    <tr>\n",
       "      <td>Physics</td>\n",
       "      <td>0.27</td>\n",
       "      <td>0.06</td>\n",
       "      <td>-0.58</td>\n",
       "      <td>-0.63</td>\n",
       "      <td>1.11</td>\n",
       "    </tr>\n",
       "  </tbody>\n",
       "</table>\n",
       "</div>"
      ],
      "text/plain": [
       "          Math  English  Japanese  History  Physics\n",
       "Math      1.11    -0.61     -0.17    -0.68     0.27\n",
       "English  -0.61     1.11     -0.19     0.22     0.06\n",
       "Japanese -0.17    -0.19      1.11     0.37    -0.58\n",
       "History  -0.68     0.22      0.37     1.11    -0.63\n",
       "Physics   0.27     0.06     -0.58    -0.63     1.11"
      ]
     },
     "execution_count": 105,
     "metadata": {},
     "output_type": "execute_result"
    }
   ],
   "source": [
    "df_cov.round(2)"
   ]
  },
  {
   "cell_type": "code",
   "execution_count": 119,
   "metadata": {},
   "outputs": [
    {
     "data": {
      "text/plain": [
       "array([[ 1.11111111, -0.61078367, -0.1662149 , -0.68421839,  0.2705068 ],\n",
       "       [-0.61078367,  1.11111111, -0.19105669,  0.21728844,  0.05658923],\n",
       "       [-0.1662149 , -0.19105669,  1.11111111,  0.37060952, -0.57821353],\n",
       "       [-0.68421839,  0.21728844,  0.37060952,  1.11111111, -0.63001633],\n",
       "       [ 0.2705068 ,  0.05658923, -0.57821353, -0.63001633,  1.11111111]])"
      ]
     },
     "execution_count": 119,
     "metadata": {},
     "output_type": "execute_result"
    }
   ],
   "source": [
    "np.cov(df, rowvar=False)"
   ]
  },
  {
   "cell_type": "code",
   "execution_count": 107,
   "metadata": {},
   "outputs": [],
   "source": [
    "eig_val, eig_vec = np.linalg.eig(df_corr)"
   ]
  },
  {
   "cell_type": "code",
   "execution_count": 108,
   "metadata": {},
   "outputs": [
    {
     "name": "stdout",
     "output_type": "stream",
     "text": [
      "eigen_values:\n",
      "[2.30264676 1.49802163 0.23184701 0.42901818 0.53846642]\n",
      "eigen_vectors:\n",
      "[[-0.50090465  0.41047621  0.63500116  0.41827063 -0.04926476]\n",
      " [ 0.23046339 -0.66574033  0.31279565  0.5008269   0.39371023]\n",
      " [ 0.36644607  0.49589252  0.15372809 -0.19314255  0.7475771 ]\n",
      " [ 0.57464395 -0.00730303  0.60571316 -0.28002816 -0.47373705]\n",
      " [-0.48112656 -0.37727493  0.32925923 -0.67712797  0.24344799]]\n"
     ]
    }
   ],
   "source": [
    "print(\"eigen_values:\\n{}\".format(eig_val))\n",
    "print(\"eigen_vectors:\\n{}\".format(eig_vec))"
   ]
  },
  {
   "cell_type": "code",
   "execution_count": 109,
   "metadata": {},
   "outputs": [
    {
     "data": {
      "text/plain": [
       "array([-0.5 ,  0.23,  0.37,  0.57, -0.48])"
      ]
     },
     "execution_count": 109,
     "metadata": {},
     "output_type": "execute_result"
    }
   ],
   "source": [
    "eig_vec_pc1 = eig_vec[:, 0]\n",
    "eig_vec_pc1.round(2)#第一主成分の固有ベクトル"
   ]
  },
  {
   "cell_type": "code",
   "execution_count": 110,
   "metadata": {},
   "outputs": [
    {
     "data": {
      "text/plain": [
       "array([-1.53, -1.46, -1.32, -1.33, -1.58,  1.76,  1.63,  0.95,  0.52,\n",
       "        2.36])"
      ]
     },
     "execution_count": 110,
     "metadata": {},
     "output_type": "execute_result"
    }
   ],
   "source": [
    "pc1 = np.dot(df, eig_vec_pc1)\n",
    "pc1.round(2)#第一主成分の主成分得点"
   ]
  },
  {
   "cell_type": "code",
   "execution_count": 111,
   "metadata": {},
   "outputs": [
    {
     "data": {
      "text/plain": [
       "2.3"
      ]
     },
     "execution_count": 111,
     "metadata": {},
     "output_type": "execute_result"
    }
   ],
   "source": [
    "eig_val_pc1 = eig_val[0]\n",
    "eig_val_pc1.round(2)#第一主成分の固有値"
   ]
  },
  {
   "cell_type": "code",
   "execution_count": 112,
   "metadata": {},
   "outputs": [],
   "source": [
    "from sklearn.decomposition import PCA\n",
    "pca = PCA()\n",
    "feature = pca.fit_transform(df)"
   ]
  },
  {
   "cell_type": "code",
   "execution_count": 113,
   "metadata": {},
   "outputs": [
    {
     "data": {
      "text/html": [
       "<div>\n",
       "<style scoped>\n",
       "    .dataframe tbody tr th:only-of-type {\n",
       "        vertical-align: middle;\n",
       "    }\n",
       "\n",
       "    .dataframe tbody tr th {\n",
       "        vertical-align: top;\n",
       "    }\n",
       "\n",
       "    .dataframe thead th {\n",
       "        text-align: right;\n",
       "    }\n",
       "</style>\n",
       "<table border=\"1\" class=\"dataframe\">\n",
       "  <thead>\n",
       "    <tr style=\"text-align: right;\">\n",
       "      <th></th>\n",
       "      <th>PC1</th>\n",
       "      <th>PC2</th>\n",
       "      <th>PC3</th>\n",
       "      <th>PC4</th>\n",
       "      <th>PC5</th>\n",
       "    </tr>\n",
       "  </thead>\n",
       "  <tbody>\n",
       "    <tr>\n",
       "      <td>0</td>\n",
       "      <td>-1.53</td>\n",
       "      <td>-0.93</td>\n",
       "      <td>-0.36</td>\n",
       "      <td>-0.78</td>\n",
       "      <td>-0.68</td>\n",
       "    </tr>\n",
       "    <tr>\n",
       "      <td>1</td>\n",
       "      <td>-1.46</td>\n",
       "      <td>-1.67</td>\n",
       "      <td>-0.26</td>\n",
       "      <td>-0.13</td>\n",
       "      <td>0.02</td>\n",
       "    </tr>\n",
       "    <tr>\n",
       "      <td>2</td>\n",
       "      <td>-1.32</td>\n",
       "      <td>1.85</td>\n",
       "      <td>0.05</td>\n",
       "      <td>-0.22</td>\n",
       "      <td>-0.59</td>\n",
       "    </tr>\n",
       "    <tr>\n",
       "      <td>3</td>\n",
       "      <td>-1.33</td>\n",
       "      <td>-0.65</td>\n",
       "      <td>1.13</td>\n",
       "      <td>-0.25</td>\n",
       "      <td>0.80</td>\n",
       "    </tr>\n",
       "    <tr>\n",
       "      <td>4</td>\n",
       "      <td>-1.58</td>\n",
       "      <td>1.69</td>\n",
       "      <td>-0.21</td>\n",
       "      <td>0.58</td>\n",
       "      <td>0.60</td>\n",
       "    </tr>\n",
       "    <tr>\n",
       "      <td>5</td>\n",
       "      <td>1.76</td>\n",
       "      <td>-1.09</td>\n",
       "      <td>-0.76</td>\n",
       "      <td>0.04</td>\n",
       "      <td>0.40</td>\n",
       "    </tr>\n",
       "    <tr>\n",
       "      <td>6</td>\n",
       "      <td>1.63</td>\n",
       "      <td>1.64</td>\n",
       "      <td>-0.81</td>\n",
       "      <td>-0.52</td>\n",
       "      <td>0.20</td>\n",
       "    </tr>\n",
       "    <tr>\n",
       "      <td>7</td>\n",
       "      <td>0.95</td>\n",
       "      <td>-0.00</td>\n",
       "      <td>0.98</td>\n",
       "      <td>1.24</td>\n",
       "      <td>-0.54</td>\n",
       "    </tr>\n",
       "    <tr>\n",
       "      <td>8</td>\n",
       "      <td>0.52</td>\n",
       "      <td>-0.87</td>\n",
       "      <td>-0.78</td>\n",
       "      <td>0.86</td>\n",
       "      <td>-0.13</td>\n",
       "    </tr>\n",
       "    <tr>\n",
       "      <td>9</td>\n",
       "      <td>2.36</td>\n",
       "      <td>0.04</td>\n",
       "      <td>1.03</td>\n",
       "      <td>-0.82</td>\n",
       "      <td>-0.09</td>\n",
       "    </tr>\n",
       "  </tbody>\n",
       "</table>\n",
       "</div>"
      ],
      "text/plain": [
       "    PC1   PC2   PC3   PC4   PC5\n",
       "0 -1.53 -0.93 -0.36 -0.78 -0.68\n",
       "1 -1.46 -1.67 -0.26 -0.13  0.02\n",
       "2 -1.32  1.85  0.05 -0.22 -0.59\n",
       "3 -1.33 -0.65  1.13 -0.25  0.80\n",
       "4 -1.58  1.69 -0.21  0.58  0.60\n",
       "5  1.76 -1.09 -0.76  0.04  0.40\n",
       "6  1.63  1.64 -0.81 -0.52  0.20\n",
       "7  0.95 -0.00  0.98  1.24 -0.54\n",
       "8  0.52 -0.87 -0.78  0.86 -0.13\n",
       "9  2.36  0.04  1.03 -0.82 -0.09"
      ]
     },
     "execution_count": 113,
     "metadata": {},
     "output_type": "execute_result"
    }
   ],
   "source": [
    "df_1 = pd.DataFrame(feature, columns=[\"PC{}\".format(x + 1) for x in range(len(df.columns))])\n",
    "df_1.round(2)"
   ]
  },
  {
   "cell_type": "code",
   "execution_count": 114,
   "metadata": {},
   "outputs": [
    {
     "data": {
      "text/html": [
       "<div>\n",
       "<style scoped>\n",
       "    .dataframe tbody tr th:only-of-type {\n",
       "        vertical-align: middle;\n",
       "    }\n",
       "\n",
       "    .dataframe tbody tr th {\n",
       "        vertical-align: top;\n",
       "    }\n",
       "\n",
       "    .dataframe thead th {\n",
       "        text-align: right;\n",
       "    }\n",
       "</style>\n",
       "<table border=\"1\" class=\"dataframe\">\n",
       "  <thead>\n",
       "    <tr style=\"text-align: right;\">\n",
       "      <th></th>\n",
       "      <th>0</th>\n",
       "    </tr>\n",
       "  </thead>\n",
       "  <tbody>\n",
       "    <tr>\n",
       "      <td>PC1</td>\n",
       "      <td>2.56</td>\n",
       "    </tr>\n",
       "    <tr>\n",
       "      <td>PC2</td>\n",
       "      <td>1.66</td>\n",
       "    </tr>\n",
       "    <tr>\n",
       "      <td>PC3</td>\n",
       "      <td>0.60</td>\n",
       "    </tr>\n",
       "    <tr>\n",
       "      <td>PC4</td>\n",
       "      <td>0.48</td>\n",
       "    </tr>\n",
       "    <tr>\n",
       "      <td>PC5</td>\n",
       "      <td>0.26</td>\n",
       "    </tr>\n",
       "  </tbody>\n",
       "</table>\n",
       "</div>"
      ],
      "text/plain": [
       "        0\n",
       "PC1  2.56\n",
       "PC2  1.66\n",
       "PC3  0.60\n",
       "PC4  0.48\n",
       "PC5  0.26"
      ]
     },
     "execution_count": 114,
     "metadata": {},
     "output_type": "execute_result"
    }
   ],
   "source": [
    "df_2 = pd.DataFrame(pca.explained_variance_, index=[\"PC{}\".format(x + 1) for x in range(len(df.columns))])\n",
    "df_2.round(2)"
   ]
  },
  {
   "cell_type": "code",
   "execution_count": 115,
   "metadata": {},
   "outputs": [
    {
     "data": {
      "text/plain": [
       "array([2.56, 1.66, 0.6 , 0.48, 0.26])"
      ]
     },
     "execution_count": 115,
     "metadata": {},
     "output_type": "execute_result"
    }
   ],
   "source": [
    "pca.explained_variance_.round(2)"
   ]
  },
  {
   "cell_type": "code",
   "execution_count": 116,
   "metadata": {},
   "outputs": [
    {
     "data": {
      "text/plain": [
       "array([[ 1.11, -0.61, -0.17, -0.68,  0.27],\n",
       "       [-0.61,  1.11, -0.19,  0.22,  0.06],\n",
       "       [-0.17, -0.19,  1.11,  0.37, -0.58],\n",
       "       [-0.68,  0.22,  0.37,  1.11, -0.63],\n",
       "       [ 0.27,  0.06, -0.58, -0.63,  1.11]])"
      ]
     },
     "execution_count": 116,
     "metadata": {},
     "output_type": "execute_result"
    }
   ],
   "source": [
    "pca.get_covariance().round(2)"
   ]
  },
  {
   "cell_type": "code",
   "execution_count": 117,
   "metadata": {},
   "outputs": [
    {
     "data": {
      "text/plain": [
       "array([[-0.50090465, -0.41047621, -0.04926476,  0.41827063,  0.63500116],\n",
       "       [ 0.23046339,  0.66574033,  0.39371023,  0.5008269 ,  0.31279565],\n",
       "       [ 0.36644607, -0.49589252,  0.7475771 , -0.19314255,  0.15372809],\n",
       "       [ 0.57464395,  0.00730303, -0.47373705, -0.28002816,  0.60571316],\n",
       "       [-0.48112656,  0.37727493,  0.24344799, -0.67712797,  0.32925923]])"
      ]
     },
     "execution_count": 117,
     "metadata": {},
     "output_type": "execute_result"
    }
   ],
   "source": [
    "pca.components_.T"
   ]
  },
  {
   "cell_type": "markdown",
   "metadata": {},
   "source": [
    "$$標準化された値=\\frac{データ-平均(μ)}{標準偏差(σ)}$$\n",
    "\n",
    "$$分散(σ^2)=\\frac{1}{n-1} \\sum_{i=1}^n (x_i-\\mu)^2$$\n",
    "\n",
    "\n",
    "$$ \\begin{align} V_z & = \\frac{1}{N} \\sum_{n=1}^N ({\\bf u^T} {\\bf x}_n)^2 \\\\ & = {\\bf u^T} \\left( \\frac{1}{N} \\sum_{n=1}^N {\\bf x}_n {\\bf x^T}_n \\right) {\\bf u} \\\\ & = {\\bf u^T} {\\bf V_x} {\\bf u} \\end{align} $$\n",
    "\n",
    "$$ L(\\lambda, {\\bf u}) = {\\bf u^T} {\\bf V_x} {\\bf u} + \\lambda (1 - \\bf u^T u) $$\n",
    "\n",
    "\n",
    "\n",
    "$$寄与率=\\frac{n個目の固有ベクトル}{総分散}$$\n",
    "\n",
    "$$累積寄与率=\\frac{全ての固有ベクトルの和}{総分散}$$\n",
    "\n",
    "$$変数一つ目(x_1)の第一因子負荷量=a_{11}=\\sqrt{\\lambda_1}e_{11}$$\n",
    "$$変数一つ目(x_1)の第二因子負荷量=a_{12}=\\sqrt{\\lambda_2}e_{12}$$\n",
    "$$変数二つ目(x_2)の第一因子負荷量=a_{21}=\\sqrt{\\lambda_1}e_{21}$$\n",
    "$$変数二つ目(x_2)の第二因子負荷量=a_{22}=\\sqrt{\\lambda_2}e_{22}$$"
   ]
  },
  {
   "cell_type": "code",
   "execution_count": 37,
   "metadata": {},
   "outputs": [
    {
     "name": "stdout",
     "output_type": "stream",
     "text": [
      "0.6666666666666666\n",
      "1.0\n"
     ]
    }
   ],
   "source": [
    "a = np.array([1, 2, 3])\n",
    "print(np.var(a))\n",
    "print(np.var(a, ddof=1))"
   ]
  },
  {
   "cell_type": "code",
   "execution_count": 40,
   "metadata": {},
   "outputs": [
    {
     "name": "stdout",
     "output_type": "stream",
     "text": [
      "0.9999999999999999\n",
      "1.4999999999999998\n"
     ]
    }
   ],
   "source": [
    "b = (a - np.mean(a)) / np.std(a)\n",
    "print(np.var(b))\n",
    "print(np.var(b, ddof=1))"
   ]
  },
  {
   "cell_type": "code",
   "execution_count": 215,
   "metadata": {},
   "outputs": [
    {
     "data": {
      "text/html": [
       "<div>\n",
       "<style scoped>\n",
       "    .dataframe tbody tr th:only-of-type {\n",
       "        vertical-align: middle;\n",
       "    }\n",
       "\n",
       "    .dataframe tbody tr th {\n",
       "        vertical-align: top;\n",
       "    }\n",
       "\n",
       "    .dataframe thead th {\n",
       "        text-align: right;\n",
       "    }\n",
       "</style>\n",
       "<table border=\"1\" class=\"dataframe\">\n",
       "  <thead>\n",
       "    <tr style=\"text-align: right;\">\n",
       "      <th></th>\n",
       "      <th>English</th>\n",
       "      <th>Math</th>\n",
       "    </tr>\n",
       "  </thead>\n",
       "  <tbody>\n",
       "    <tr>\n",
       "      <td>0</td>\n",
       "      <td>4</td>\n",
       "      <td>7</td>\n",
       "    </tr>\n",
       "    <tr>\n",
       "      <td>1</td>\n",
       "      <td>2</td>\n",
       "      <td>10</td>\n",
       "    </tr>\n",
       "    <tr>\n",
       "      <td>2</td>\n",
       "      <td>6</td>\n",
       "      <td>4</td>\n",
       "    </tr>\n",
       "    <tr>\n",
       "      <td>3</td>\n",
       "      <td>3</td>\n",
       "      <td>5</td>\n",
       "    </tr>\n",
       "    <tr>\n",
       "      <td>4</td>\n",
       "      <td>5</td>\n",
       "      <td>8</td>\n",
       "    </tr>\n",
       "    <tr>\n",
       "      <td>5</td>\n",
       "      <td>8</td>\n",
       "      <td>2</td>\n",
       "    </tr>\n",
       "    <tr>\n",
       "      <td>6</td>\n",
       "      <td>4</td>\n",
       "      <td>10</td>\n",
       "    </tr>\n",
       "    <tr>\n",
       "      <td>7</td>\n",
       "      <td>5</td>\n",
       "      <td>4</td>\n",
       "    </tr>\n",
       "    <tr>\n",
       "      <td>8</td>\n",
       "      <td>8</td>\n",
       "      <td>5</td>\n",
       "    </tr>\n",
       "    <tr>\n",
       "      <td>9</td>\n",
       "      <td>7</td>\n",
       "      <td>5</td>\n",
       "    </tr>\n",
       "  </tbody>\n",
       "</table>\n",
       "</div>"
      ],
      "text/plain": [
       "   English  Math\n",
       "0        4     7\n",
       "1        2    10\n",
       "2        6     4\n",
       "3        3     5\n",
       "4        5     8\n",
       "5        8     2\n",
       "6        4    10\n",
       "7        5     4\n",
       "8        8     5\n",
       "9        7     5"
      ]
     },
     "execution_count": 215,
     "metadata": {},
     "output_type": "execute_result"
    }
   ],
   "source": [
    "df_mini = pd.read_csv(\"tes2.csv\")\n",
    "df_mini"
   ]
  },
  {
   "cell_type": "code",
   "execution_count": 216,
   "metadata": {},
   "outputs": [],
   "source": [
    "def standardization(data):\n",
    "    mean = np.mean(data)\n",
    "    std = np.std(data)\n",
    "    SD = (data - mean) / std\n",
    "    return SD"
   ]
  },
  {
   "cell_type": "code",
   "execution_count": 231,
   "metadata": {},
   "outputs": [
    {
     "name": "stdout",
     "output_type": "stream",
     "text": [
      "4.177777777777778\n",
      "7.111111111111111\n"
     ]
    }
   ],
   "source": [
    "print(np.var(df_mini[\"English\"], ddof=1))\n",
    "print(np.var(df_mini[\"Math\"], ddof=1))"
   ]
  },
  {
   "cell_type": "code",
   "execution_count": 217,
   "metadata": {},
   "outputs": [
    {
     "data": {
      "text/html": [
       "<div>\n",
       "<style scoped>\n",
       "    .dataframe tbody tr th:only-of-type {\n",
       "        vertical-align: middle;\n",
       "    }\n",
       "\n",
       "    .dataframe tbody tr th {\n",
       "        vertical-align: top;\n",
       "    }\n",
       "\n",
       "    .dataframe thead th {\n",
       "        text-align: right;\n",
       "    }\n",
       "</style>\n",
       "<table border=\"1\" class=\"dataframe\">\n",
       "  <thead>\n",
       "    <tr style=\"text-align: right;\">\n",
       "      <th></th>\n",
       "      <th>English</th>\n",
       "      <th>Math</th>\n",
       "    </tr>\n",
       "  </thead>\n",
       "  <tbody>\n",
       "    <tr>\n",
       "      <td>0</td>\n",
       "      <td>-0.618853</td>\n",
       "      <td>0.395285</td>\n",
       "    </tr>\n",
       "    <tr>\n",
       "      <td>1</td>\n",
       "      <td>-1.650274</td>\n",
       "      <td>1.581139</td>\n",
       "    </tr>\n",
       "    <tr>\n",
       "      <td>2</td>\n",
       "      <td>0.412568</td>\n",
       "      <td>-0.790569</td>\n",
       "    </tr>\n",
       "    <tr>\n",
       "      <td>3</td>\n",
       "      <td>-1.134563</td>\n",
       "      <td>-0.395285</td>\n",
       "    </tr>\n",
       "    <tr>\n",
       "      <td>4</td>\n",
       "      <td>-0.103142</td>\n",
       "      <td>0.790569</td>\n",
       "    </tr>\n",
       "    <tr>\n",
       "      <td>5</td>\n",
       "      <td>1.443990</td>\n",
       "      <td>-1.581139</td>\n",
       "    </tr>\n",
       "    <tr>\n",
       "      <td>6</td>\n",
       "      <td>-0.618853</td>\n",
       "      <td>1.581139</td>\n",
       "    </tr>\n",
       "    <tr>\n",
       "      <td>7</td>\n",
       "      <td>-0.103142</td>\n",
       "      <td>-0.790569</td>\n",
       "    </tr>\n",
       "    <tr>\n",
       "      <td>8</td>\n",
       "      <td>1.443990</td>\n",
       "      <td>-0.395285</td>\n",
       "    </tr>\n",
       "    <tr>\n",
       "      <td>9</td>\n",
       "      <td>0.928279</td>\n",
       "      <td>-0.395285</td>\n",
       "    </tr>\n",
       "  </tbody>\n",
       "</table>\n",
       "</div>"
      ],
      "text/plain": [
       "    English      Math\n",
       "0 -0.618853  0.395285\n",
       "1 -1.650274  1.581139\n",
       "2  0.412568 -0.790569\n",
       "3 -1.134563 -0.395285\n",
       "4 -0.103142  0.790569\n",
       "5  1.443990 -1.581139\n",
       "6 -0.618853  1.581139\n",
       "7 -0.103142 -0.790569\n",
       "8  1.443990 -0.395285\n",
       "9  0.928279 -0.395285"
      ]
     },
     "execution_count": 217,
     "metadata": {},
     "output_type": "execute_result"
    }
   ],
   "source": [
    "from sklearn.preprocessing import StandardScaler\n",
    "scaler = StandardScaler()\n",
    "df_sd = scaler.fit_transform(df_mini)\n",
    "df_sd = pd.DataFrame(df_sd, columns=df_mini.columns)\n",
    "df_sd"
   ]
  },
  {
   "cell_type": "code",
   "execution_count": 218,
   "metadata": {},
   "outputs": [
    {
     "data": {
      "text/html": [
       "<div>\n",
       "<style scoped>\n",
       "    .dataframe tbody tr th:only-of-type {\n",
       "        vertical-align: middle;\n",
       "    }\n",
       "\n",
       "    .dataframe tbody tr th {\n",
       "        vertical-align: top;\n",
       "    }\n",
       "\n",
       "    .dataframe thead th {\n",
       "        text-align: right;\n",
       "    }\n",
       "</style>\n",
       "<table border=\"1\" class=\"dataframe\">\n",
       "  <thead>\n",
       "    <tr style=\"text-align: right;\">\n",
       "      <th></th>\n",
       "      <th>English</th>\n",
       "      <th>Math</th>\n",
       "    </tr>\n",
       "  </thead>\n",
       "  <tbody>\n",
       "    <tr>\n",
       "      <td>0</td>\n",
       "      <td>1.111111</td>\n",
       "      <td>-0.770110</td>\n",
       "    </tr>\n",
       "    <tr>\n",
       "      <td>1</td>\n",
       "      <td>-0.770110</td>\n",
       "      <td>1.111111</td>\n",
       "    </tr>\n",
       "  </tbody>\n",
       "</table>\n",
       "</div>"
      ],
      "text/plain": [
       "    English      Math\n",
       "0  1.111111 -0.770110\n",
       "1 -0.770110  1.111111"
      ]
     },
     "execution_count": 218,
     "metadata": {},
     "output_type": "execute_result"
    }
   ],
   "source": [
    "df_cov = pd.DataFrame(np.cov(df_sd[\"English\"] , y = df_sd[\"Math\"], rowvar=False), \n",
    "                      columns=df_mini.columns)\n",
    "df_cov"
   ]
  },
  {
   "cell_type": "code",
   "execution_count": 229,
   "metadata": {},
   "outputs": [
    {
     "name": "stdout",
     "output_type": "stream",
     "text": [
      "variance:\n",
      "English    1.0\n",
      "Math       1.0\n",
      "dtype: float64\n"
     ]
    }
   ],
   "source": [
    "print(\"variance:\\n{}\".format(np.var(df_sd, ddof=0)))"
   ]
  },
  {
   "cell_type": "code",
   "execution_count": 220,
   "metadata": {},
   "outputs": [
    {
     "name": "stdout",
     "output_type": "stream",
     "text": [
      "eigen_values[1.88122064 0.34100158]\n",
      "eigen_vector[[ 0.70710678  0.70710678]\n",
      " [-0.70710678  0.70710678]]\n"
     ]
    }
   ],
   "source": [
    "eig_val, eig_vec = np.linalg.eig(df_cov)\n",
    "print(\"eigen_values{}\".format(eig_val))\n",
    "print(\"eigen_vector{}\".format(eig_vec))"
   ]
  },
  {
   "cell_type": "code",
   "execution_count": 221,
   "metadata": {},
   "outputs": [
    {
     "data": {
      "text/html": [
       "<div>\n",
       "<style scoped>\n",
       "    .dataframe tbody tr th:only-of-type {\n",
       "        vertical-align: middle;\n",
       "    }\n",
       "\n",
       "    .dataframe tbody tr th {\n",
       "        vertical-align: top;\n",
       "    }\n",
       "\n",
       "    .dataframe thead th {\n",
       "        text-align: right;\n",
       "    }\n",
       "</style>\n",
       "<table border=\"1\" class=\"dataframe\">\n",
       "  <thead>\n",
       "    <tr style=\"text-align: right;\">\n",
       "      <th></th>\n",
       "      <th>English</th>\n",
       "      <th>Math</th>\n",
       "    </tr>\n",
       "  </thead>\n",
       "  <tbody>\n",
       "    <tr>\n",
       "      <td>English</td>\n",
       "      <td>1.000000</td>\n",
       "      <td>-0.693099</td>\n",
       "    </tr>\n",
       "    <tr>\n",
       "      <td>Math</td>\n",
       "      <td>-0.693099</td>\n",
       "      <td>1.000000</td>\n",
       "    </tr>\n",
       "  </tbody>\n",
       "</table>\n",
       "</div>"
      ],
      "text/plain": [
       "          English      Math\n",
       "English  1.000000 -0.693099\n",
       "Math    -0.693099  1.000000"
      ]
     },
     "execution_count": 221,
     "metadata": {},
     "output_type": "execute_result"
    }
   ],
   "source": [
    "df_corr = df_mini.corr()\n",
    "df_corr"
   ]
  },
  {
   "cell_type": "code",
   "execution_count": 222,
   "metadata": {},
   "outputs": [
    {
     "data": {
      "text/html": [
       "<div>\n",
       "<style scoped>\n",
       "    .dataframe tbody tr th:only-of-type {\n",
       "        vertical-align: middle;\n",
       "    }\n",
       "\n",
       "    .dataframe tbody tr th {\n",
       "        vertical-align: top;\n",
       "    }\n",
       "\n",
       "    .dataframe thead th {\n",
       "        text-align: right;\n",
       "    }\n",
       "</style>\n",
       "<table border=\"1\" class=\"dataframe\">\n",
       "  <thead>\n",
       "    <tr style=\"text-align: right;\">\n",
       "      <th></th>\n",
       "      <th>English</th>\n",
       "      <th>Math</th>\n",
       "    </tr>\n",
       "  </thead>\n",
       "  <tbody>\n",
       "    <tr>\n",
       "      <td>English</td>\n",
       "      <td>1.000000</td>\n",
       "      <td>-0.693099</td>\n",
       "    </tr>\n",
       "    <tr>\n",
       "      <td>Math</td>\n",
       "      <td>-0.693099</td>\n",
       "      <td>1.000000</td>\n",
       "    </tr>\n",
       "  </tbody>\n",
       "</table>\n",
       "</div>"
      ],
      "text/plain": [
       "          English      Math\n",
       "English  1.000000 -0.693099\n",
       "Math    -0.693099  1.000000"
      ]
     },
     "execution_count": 222,
     "metadata": {},
     "output_type": "execute_result"
    }
   ],
   "source": [
    "df_corr1 = df_sd.corr()\n",
    "df_corr1"
   ]
  },
  {
   "cell_type": "code",
   "execution_count": 541,
   "metadata": {},
   "outputs": [
    {
     "name": "stdout",
     "output_type": "stream",
     "text": [
      "eigen_values[1.69309858 0.30690142]\n",
      "eigen_vector[[ 0.70710678  0.70710678]\n",
      " [-0.70710678  0.70710678]]\n"
     ]
    }
   ],
   "source": [
    "eig_val, eig_vec = np.linalg.eig(df_corr)\n",
    "print(\"eigen_values{}\".format(eig_val))\n",
    "print(\"eigen_vector{}\".format(eig_vec))"
   ]
  },
  {
   "cell_type": "code",
   "execution_count": 545,
   "metadata": {},
   "outputs": [
    {
     "data": {
      "text/plain": [
       "-0.7071067811865476"
      ]
     },
     "execution_count": 545,
     "metadata": {},
     "output_type": "execute_result"
    }
   ],
   "source": [
    "type(eig_val)\n",
    "eig_val[1]\n",
    "eig_vec[1, 0]"
   ]
  },
  {
   "cell_type": "code",
   "execution_count": 516,
   "metadata": {},
   "outputs": [],
   "source": [
    "# eig_val, eig_vec = np.linalg.eig(df_cov)\n",
    "# print(\"eigen_values{}\".format(eig_val))\n",
    "# print(\"eigen_vector{}\".format(eig_vec))"
   ]
  },
  {
   "cell_type": "code",
   "execution_count": 547,
   "metadata": {},
   "outputs": [],
   "source": [
    "fc = []\n",
    "for i in range(0, 2):\n",
    "    for v in range(0,2):\n",
    "        factors = np.sqrt(eig_val[int(i)]) * eig_vec[int(i), int(v)]\n",
    "        fc.append(factors)\n",
    "        v += 1\n",
    "    i += 1\n",
    "        "
   ]
  },
  {
   "cell_type": "code",
   "execution_count": 548,
   "metadata": {},
   "outputs": [
    {
     "data": {
      "text/plain": [
       "[0.9200811316452702,\n",
       " 0.9200811316452703,\n",
       " -0.39172785347784356,\n",
       " 0.3917278534778435]"
      ]
     },
     "execution_count": 548,
     "metadata": {},
     "output_type": "execute_result"
    }
   ],
   "source": [
    "fc"
   ]
  },
  {
   "cell_type": "code",
   "execution_count": 550,
   "metadata": {},
   "outputs": [
    {
     "data": {
      "text/plain": [
       "1.0"
      ]
     },
     "execution_count": 550,
     "metadata": {},
     "output_type": "execute_result"
    }
   ],
   "source": [
    "(1.69309858 + 0.30690142) / 2"
   ]
  },
  {
   "cell_type": "code",
   "execution_count": 553,
   "metadata": {},
   "outputs": [
    {
     "data": {
      "image/png": "[encoded data removed]",
      "text/plain": [
       "<Figure size 432x288 with 4 Axes>"
      ]
     },
     "metadata": {
      "needs_background": "light"
     },
     "output_type": "display_data"
    }
   ],
   "source": [
    "pd.plotting.scatter_matrix(df_mini)\n",
    "plt.show()"
   ]
  },
  {
   "cell_type": "code",
   "execution_count": 554,
   "metadata": {},
   "outputs": [],
   "source": [
    "from sklearn.preprocessing import StandardScaler\n",
    "scaler = StandardScaler()\n",
    "scaler.fit(df_mini)\n",
    "df_scaler = scaler.transform(df_mini)"
   ]
  },
  {
   "cell_type": "code",
   "execution_count": 557,
   "metadata": {},
   "outputs": [
    {
     "data": {
      "text/plain": [
       "array([[-0.61885275,  0.39528471],\n",
       "       [-1.65027399,  1.58113883],\n",
       "       [ 0.4125685 , -0.79056942],\n",
       "       [-1.13456337, -0.39528471],\n",
       "       [-0.10314212,  0.79056942],\n",
       "       [ 1.44398974, -1.58113883],\n",
       "       [-0.61885275,  1.58113883],\n",
       "       [-0.10314212, -0.79056942],\n",
       "       [ 1.44398974, -0.39528471],\n",
       "       [ 0.92827912, -0.39528471]])"
      ]
     },
     "execution_count": 557,
     "metadata": {},
     "output_type": "execute_result"
    }
   ],
   "source": [
    "df_scaler#標準化されたミニデータ"
   ]
  },
  {
   "cell_type": "code",
   "execution_count": 568,
   "metadata": {},
   "outputs": [
    {
     "data": {
      "text/plain": [
       "array([[ 0.43185973,  0.        ],\n",
       "       [ 1.37606305,  0.        ],\n",
       "       [-0.51234359,  0.        ],\n",
       "       [ 0.31481402,  0.        ],\n",
       "       [ 0.38057763,  0.        ],\n",
       "       [-1.28821908,  0.        ],\n",
       "       [ 0.9368432 ,  0.        ],\n",
       "       [-0.29273366,  0.        ],\n",
       "       [-0.78323562,  0.        ],\n",
       "       [-0.56362569,  0.        ]])"
      ]
     },
     "execution_count": 568,
     "metadata": {},
     "output_type": "execute_result"
    }
   ],
   "source": [
    "from sklearn.decomposition import FactorAnalysis as FA\n",
    "n_component = 2\n",
    "fa = FA(n_components=n_component, max_iter=500)\n",
    "fitted = fa.fit_transform(df_scaler)\n",
    "fitted"
   ]
  },
  {
   "cell_type": "code",
   "execution_count": 569,
   "metadata": {},
   "outputs": [
    {
     "data": {
      "text/plain": [
       "array([[-0.72098816, -0.        ],\n",
       "       [ 0.72098816, -0.        ]])"
      ]
     },
     "execution_count": 569,
     "metadata": {},
     "output_type": "execute_result"
    }
   ],
   "source": [
    "fa.components_.T"
   ]
  },
  {
   "cell_type": "code",
   "execution_count": 570,
   "metadata": {},
   "outputs": [
    {
     "data": {
      "text/html": [
       "<div>\n",
       "<style scoped>\n",
       "    .dataframe tbody tr th:only-of-type {\n",
       "        vertical-align: middle;\n",
       "    }\n",
       "\n",
       "    .dataframe tbody tr th {\n",
       "        vertical-align: top;\n",
       "    }\n",
       "\n",
       "    .dataframe thead th {\n",
       "        text-align: right;\n",
       "    }\n",
       "</style>\n",
       "<table border=\"1\" class=\"dataframe\">\n",
       "  <thead>\n",
       "    <tr style=\"text-align: right;\">\n",
       "      <th></th>\n",
       "      <th>Math</th>\n",
       "      <th>English</th>\n",
       "      <th>Japanese</th>\n",
       "      <th>History</th>\n",
       "      <th>Physics</th>\n",
       "    </tr>\n",
       "  </thead>\n",
       "  <tbody>\n",
       "    <tr>\n",
       "      <td>0</td>\n",
       "      <td>59</td>\n",
       "      <td>41</td>\n",
       "      <td>55</td>\n",
       "      <td>48</td>\n",
       "      <td>71</td>\n",
       "    </tr>\n",
       "    <tr>\n",
       "      <td>1</td>\n",
       "      <td>68</td>\n",
       "      <td>42</td>\n",
       "      <td>60</td>\n",
       "      <td>51</td>\n",
       "      <td>61</td>\n",
       "    </tr>\n",
       "    <tr>\n",
       "      <td>2</td>\n",
       "      <td>50</td>\n",
       "      <td>64</td>\n",
       "      <td>43</td>\n",
       "      <td>46</td>\n",
       "      <td>85</td>\n",
       "    </tr>\n",
       "    <tr>\n",
       "      <td>3</td>\n",
       "      <td>67</td>\n",
       "      <td>56</td>\n",
       "      <td>68</td>\n",
       "      <td>50</td>\n",
       "      <td>81</td>\n",
       "    </tr>\n",
       "    <tr>\n",
       "      <td>4</td>\n",
       "      <td>62</td>\n",
       "      <td>69</td>\n",
       "      <td>41</td>\n",
       "      <td>52</td>\n",
       "      <td>82</td>\n",
       "    </tr>\n",
       "    <tr>\n",
       "      <td>5</td>\n",
       "      <td>54</td>\n",
       "      <td>53</td>\n",
       "      <td>66</td>\n",
       "      <td>80</td>\n",
       "      <td>32</td>\n",
       "    </tr>\n",
       "    <tr>\n",
       "      <td>6</td>\n",
       "      <td>41</td>\n",
       "      <td>67</td>\n",
       "      <td>51</td>\n",
       "      <td>80</td>\n",
       "      <td>60</td>\n",
       "    </tr>\n",
       "    <tr>\n",
       "      <td>7</td>\n",
       "      <td>52</td>\n",
       "      <td>68</td>\n",
       "      <td>67</td>\n",
       "      <td>52</td>\n",
       "      <td>34</td>\n",
       "    </tr>\n",
       "    <tr>\n",
       "      <td>8</td>\n",
       "      <td>59</td>\n",
       "      <td>54</td>\n",
       "      <td>57</td>\n",
       "      <td>64</td>\n",
       "      <td>31</td>\n",
       "    </tr>\n",
       "    <tr>\n",
       "      <td>9</td>\n",
       "      <td>40</td>\n",
       "      <td>63</td>\n",
       "      <td>78</td>\n",
       "      <td>73</td>\n",
       "      <td>52</td>\n",
       "    </tr>\n",
       "  </tbody>\n",
       "</table>\n",
       "</div>"
      ],
      "text/plain": [
       "   Math  English  Japanese  History  Physics\n",
       "0    59       41        55       48       71\n",
       "1    68       42        60       51       61\n",
       "2    50       64        43       46       85\n",
       "3    67       56        68       50       81\n",
       "4    62       69        41       52       82\n",
       "5    54       53        66       80       32\n",
       "6    41       67        51       80       60\n",
       "7    52       68        67       52       34\n",
       "8    59       54        57       64       31\n",
       "9    40       63        78       73       52"
      ]
     },
     "execution_count": 570,
     "metadata": {},
     "output_type": "execute_result"
    }
   ],
   "source": [
    "df = pd.read_csv(\"test.csv\")\n",
    "df"
   ]
  },
  {
   "cell_type": "code",
   "execution_count": 572,
   "metadata": {},
   "outputs": [
    {
     "data": {
      "text/plain": [
       "array([[ 0.41226488, -1.71149324, -0.32614262, -0.90791396,  0.60312568],\n",
       "       [ 1.38868172, -1.60900862,  0.12683324, -0.67310863,  0.10467471],\n",
       "       [-0.56415195,  0.64565314, -1.41328469, -1.06445086,  1.30095705],\n",
       "       [ 1.28019096, -0.17422386,  0.85159462, -0.75137707,  1.10157666],\n",
       "       [ 0.73773716,  1.15807627, -1.59447503, -0.59484018,  1.15142176],\n",
       "       [-0.13018891, -0.48167774,  0.67040427,  1.59667628, -1.34083313],\n",
       "       [-1.54056878,  0.95310701, -0.68852331,  1.59667628,  0.05482961],\n",
       "       [-0.34717043,  1.05559164,  0.76099945, -0.59484018, -1.24114294],\n",
       "       [ 0.41226488, -0.37919311, -0.14495228,  0.34438116, -1.39067823],\n",
       "       [-1.64905954,  0.54316851,  1.75754634,  1.04879717, -0.34393117]])"
      ]
     },
     "execution_count": 572,
     "metadata": {},
     "output_type": "execute_result"
    }
   ],
   "source": [
    "scaler = StandardScaler()\n",
    "scaler.fit(df)\n",
    "df_scaler = scaler.transform(df)\n",
    "df_scaler"
   ]
  },
  {
   "cell_type": "code",
   "execution_count": 573,
   "metadata": {},
   "outputs": [
    {
     "data": {
      "text/plain": [
       "array([[-0.87059038, -0.24427944, -0.02423941],\n",
       "       [-1.04778095, -1.00664072, -0.20095861],\n",
       "       [-0.52155245,  1.57093643,  0.14101504],\n",
       "       [-0.99389116, -0.36324041,  0.39196565],\n",
       "       [-0.79930602,  1.05971582, -0.57341938],\n",
       "       [ 1.01548249, -1.10472661, -0.60707573],\n",
       "       [ 1.40697346,  0.885999  , -0.73477395],\n",
       "       [ 0.2210102 , -0.01998521,  1.12904646],\n",
       "       [ 0.14871402, -0.80352684, -0.3749071 ],\n",
       "       [ 1.44094077,  0.02574799,  0.85334705]])"
      ]
     },
     "execution_count": 573,
     "metadata": {},
     "output_type": "execute_result"
    }
   ],
   "source": [
    "n_component = 3\n",
    "fa = FA(n_components=n_component, max_iter=500)\n",
    "fitted = fa.fit_transform(df_scaler)\n",
    "fitted"
   ]
  },
  {
   "cell_type": "code",
   "execution_count": 574,
   "metadata": {},
   "outputs": [
    {
     "data": {
      "text/plain": [
       "array([[-0.80731212, -0.36559904, -0.10326047],\n",
       "       [ 0.38980982,  0.60167283,  0.11131055],\n",
       "       [ 0.37074285, -0.54713368,  0.35434888],\n",
       "       [ 0.8571986 , -0.17173167, -0.19944752],\n",
       "       [-0.55896064,  0.52742918, -0.04803932]])"
      ]
     },
     "execution_count": 574,
     "metadata": {},
     "output_type": "execute_result"
    }
   ],
   "source": [
    "fa.components_.T"
   ]
  },
  {
   "cell_type": "code",
   "execution_count": 575,
   "metadata": {},
   "outputs": [
    {
     "data": {
      "text/plain": [
       "array([0.46052935, 0.76013368, 0.86782696, 0.9536306 , 1.        ])"
      ]
     },
     "execution_count": 575,
     "metadata": {},
     "output_type": "execute_result"
    }
   ],
   "source": [
    "np.cumsum(pca.explained_variance_ratio_)"
   ]
  },
  {
   "cell_type": "code",
   "execution_count": 662,
   "metadata": {},
   "outputs": [],
   "source": [
    "import seaborn as sns\n",
    "sns.set()\n",
    "from sklearn.decomposition import PCA\n",
    "from sklearn.datasets import load_iris\n",
    "iris = load_iris()"
   ]
  },
  {
   "cell_type": "code",
   "execution_count": 606,
   "metadata": {},
   "outputs": [
    {
     "data": {
      "text/plain": [
       "['sepal length (cm)',\n",
       " 'sepal width (cm)',\n",
       " 'petal length (cm)',\n",
       " 'petal width (cm)']"
      ]
     },
     "execution_count": 606,
     "metadata": {},
     "output_type": "execute_result"
    }
   ],
   "source": [
    "iris.feature_names"
   ]
  },
  {
   "cell_type": "code",
   "execution_count": 607,
   "metadata": {},
   "outputs": [
    {
     "data": {
      "text/plain": [
       "array(['setosa', 'versicolor', 'virginica'], dtype='<U10')"
      ]
     },
     "execution_count": 607,
     "metadata": {},
     "output_type": "execute_result"
    }
   ],
   "source": [
    "iris.target_names"
   ]
  },
  {
   "cell_type": "code",
   "execution_count": 663,
   "metadata": {},
   "outputs": [],
   "source": [
    "# print(iris.DESCR)"
   ]
  },
  {
   "cell_type": "code",
   "execution_count": 664,
   "metadata": {},
   "outputs": [],
   "source": [
    "scaler = StandardScaler()\n",
    "iris_sc = scaler.fit_transform(iris.data)"
   ]
  },
  {
   "cell_type": "code",
   "execution_count": 667,
   "metadata": {},
   "outputs": [],
   "source": [
    "pca = PCA()\n",
    "feature = pca.fit_transform(iris_sc)"
   ]
  },
  {
   "cell_type": "code",
   "execution_count": 669,
   "metadata": {},
   "outputs": [],
   "source": [
    "iris_data = pd.DataFrame(feature,\n",
    "                    columns=iris.feature_names)"
   ]
  },
  {
   "cell_type": "code",
   "execution_count": 672,
   "metadata": {},
   "outputs": [
    {
     "data": {
      "text/html": [
       "<div>\n",
       "<style scoped>\n",
       "    .dataframe tbody tr th:only-of-type {\n",
       "        vertical-align: middle;\n",
       "    }\n",
       "\n",
       "    .dataframe tbody tr th {\n",
       "        vertical-align: top;\n",
       "    }\n",
       "\n",
       "    .dataframe thead th {\n",
       "        text-align: right;\n",
       "    }\n",
       "</style>\n",
       "<table border=\"1\" class=\"dataframe\">\n",
       "  <thead>\n",
       "    <tr style=\"text-align: right;\">\n",
       "      <th></th>\n",
       "      <th>PC1</th>\n",
       "      <th>PC2</th>\n",
       "      <th>PC3</th>\n",
       "      <th>PC4</th>\n",
       "    </tr>\n",
       "  </thead>\n",
       "  <tbody>\n",
       "    <tr>\n",
       "      <td>0</td>\n",
       "      <td>-2.264703</td>\n",
       "      <td>0.480027</td>\n",
       "      <td>-0.127706</td>\n",
       "      <td>-0.024168</td>\n",
       "    </tr>\n",
       "    <tr>\n",
       "      <td>1</td>\n",
       "      <td>-2.080961</td>\n",
       "      <td>-0.674134</td>\n",
       "      <td>-0.234609</td>\n",
       "      <td>-0.103007</td>\n",
       "    </tr>\n",
       "    <tr>\n",
       "      <td>2</td>\n",
       "      <td>-2.364229</td>\n",
       "      <td>-0.341908</td>\n",
       "      <td>0.044201</td>\n",
       "      <td>-0.028377</td>\n",
       "    </tr>\n",
       "    <tr>\n",
       "      <td>3</td>\n",
       "      <td>-2.299384</td>\n",
       "      <td>-0.597395</td>\n",
       "      <td>0.091290</td>\n",
       "      <td>0.065956</td>\n",
       "    </tr>\n",
       "    <tr>\n",
       "      <td>4</td>\n",
       "      <td>-2.389842</td>\n",
       "      <td>0.646835</td>\n",
       "      <td>0.015738</td>\n",
       "      <td>0.035923</td>\n",
       "    </tr>\n",
       "  </tbody>\n",
       "</table>\n",
       "</div>"
      ],
      "text/plain": [
       "        PC1       PC2       PC3       PC4\n",
       "0 -2.264703  0.480027 -0.127706 -0.024168\n",
       "1 -2.080961 -0.674134 -0.234609 -0.103007\n",
       "2 -2.364229 -0.341908  0.044201 -0.028377\n",
       "3 -2.299384 -0.597395  0.091290  0.065956\n",
       "4 -2.389842  0.646835  0.015738  0.035923"
      ]
     },
     "execution_count": 672,
     "metadata": {},
     "output_type": "execute_result"
    }
   ],
   "source": [
    "# 主成分得点\n",
    "pd.DataFrame(feature, columns=[\"PC{}\".format(x + 1) for x in range(len(iris_data.columns))]).head()"
   ]
  },
  {
   "cell_type": "code",
   "execution_count": 674,
   "metadata": {},
   "outputs": [
    {
     "data": {
      "image/png": "[encoded data removed]",
      "text/plain": [
       "<Figure size 576x576 with 1 Axes>"
      ]
     },
     "metadata": {},
     "output_type": "display_data"
    }
   ],
   "source": [
    "plt.figure(figsize=(8, 8))\n",
    "plt.scatter(feature[:, 0],  feature[:, 1], alpha=0.8, c=list(iris_data.iloc[:, 0]))\n",
    "plt.grid()\n",
    "plt.xlabel(\"PC1\")\n",
    "plt.ylabel(\"PC2\")\n",
    "plt.show()"
   ]
  },
  {
   "cell_type": "code",
   "execution_count": 675,
   "metadata": {},
   "outputs": [
    {
     "data": {
      "text/html": [
       "<div>\n",
       "<style scoped>\n",
       "    .dataframe tbody tr th:only-of-type {\n",
       "        vertical-align: middle;\n",
       "    }\n",
       "\n",
       "    .dataframe tbody tr th {\n",
       "        vertical-align: top;\n",
       "    }\n",
       "\n",
       "    .dataframe thead th {\n",
       "        text-align: right;\n",
       "    }\n",
       "</style>\n",
       "<table border=\"1\" class=\"dataframe\">\n",
       "  <thead>\n",
       "    <tr style=\"text-align: right;\">\n",
       "      <th></th>\n",
       "      <th>0</th>\n",
       "    </tr>\n",
       "  </thead>\n",
       "  <tbody>\n",
       "    <tr>\n",
       "      <td>PC1</td>\n",
       "      <td>0.729624</td>\n",
       "    </tr>\n",
       "    <tr>\n",
       "      <td>PC2</td>\n",
       "      <td>0.228508</td>\n",
       "    </tr>\n",
       "    <tr>\n",
       "      <td>PC3</td>\n",
       "      <td>0.036689</td>\n",
       "    </tr>\n",
       "    <tr>\n",
       "      <td>PC4</td>\n",
       "      <td>0.005179</td>\n",
       "    </tr>\n",
       "  </tbody>\n",
       "</table>\n",
       "</div>"
      ],
      "text/plain": [
       "            0\n",
       "PC1  0.729624\n",
       "PC2  0.228508\n",
       "PC3  0.036689\n",
       "PC4  0.005179"
      ]
     },
     "execution_count": 675,
     "metadata": {},
     "output_type": "execute_result"
    }
   ],
   "source": [
    "pd.DataFrame(pca.explained_variance_ratio_, index=[\"PC{}\".format(x + 1) for x in range(len(iris_data.columns))])"
   ]
  },
  {
   "cell_type": "code",
   "execution_count": 677,
   "metadata": {},
   "outputs": [
    {
     "data": {
      "image/png": "[encoded data removed]",
      "text/plain": [
       "<Figure size 432x288 with 1 Axes>"
      ]
     },
     "metadata": {},
     "output_type": "display_data"
    }
   ],
   "source": [
    "import matplotlib.ticker as ticker\n",
    "plt.gca().get_xaxis().set_major_locator(ticker.MaxNLocator(integer=True))\n",
    "plt.plot([0] + list(np.cumsum(pca.explained_variance_ratio_)), '-o')\n",
    "plt.xlabel(\"Number of princinpal components\")\n",
    "plt.ylabel(\"Cumulative contribution rate\")\n",
    "plt.grid()\n",
    "plt.show()"
   ]
  },
  {
   "cell_type": "code",
   "execution_count": 680,
   "metadata": {},
   "outputs": [
    {
     "data": {
      "text/html": [
       "<div>\n",
       "<style scoped>\n",
       "    .dataframe tbody tr th:only-of-type {\n",
       "        vertical-align: middle;\n",
       "    }\n",
       "\n",
       "    .dataframe tbody tr th {\n",
       "        vertical-align: top;\n",
       "    }\n",
       "\n",
       "    .dataframe thead th {\n",
       "        text-align: right;\n",
       "    }\n",
       "</style>\n",
       "<table border=\"1\" class=\"dataframe\">\n",
       "  <thead>\n",
       "    <tr style=\"text-align: right;\">\n",
       "      <th></th>\n",
       "      <th>0</th>\n",
       "    </tr>\n",
       "  </thead>\n",
       "  <tbody>\n",
       "    <tr>\n",
       "      <td>PC1</td>\n",
       "      <td>2.938085</td>\n",
       "    </tr>\n",
       "    <tr>\n",
       "      <td>PC2</td>\n",
       "      <td>0.920165</td>\n",
       "    </tr>\n",
       "    <tr>\n",
       "      <td>PC3</td>\n",
       "      <td>0.147742</td>\n",
       "    </tr>\n",
       "    <tr>\n",
       "      <td>PC4</td>\n",
       "      <td>0.020854</td>\n",
       "    </tr>\n",
       "  </tbody>\n",
       "</table>\n",
       "</div>"
      ],
      "text/plain": [
       "            0\n",
       "PC1  2.938085\n",
       "PC2  0.920165\n",
       "PC3  0.147742\n",
       "PC4  0.020854"
      ]
     },
     "execution_count": 680,
     "metadata": {},
     "output_type": "execute_result"
    }
   ],
   "source": [
    "pd.DataFrame(pca.explained_variance_, index=[\"PC{}\".format(x + 1) for x in range(len(iris_data.columns))])"
   ]
  },
  {
   "cell_type": "code",
   "execution_count": 683,
   "metadata": {},
   "outputs": [
    {
     "ename": "ValueError",
     "evalue": "Shape of passed values is (4, 4), indices imply (4, 3)",
     "output_type": "error",
     "traceback": [
      "\u001b[0;31m---------------------------------------------------------------------------\u001b[0m",
      "\u001b[0;31mValueError\u001b[0m                                Traceback (most recent call last)",
      "\u001b[0;32m/opt/anaconda3/lib/python3.7/site-packages/pandas/core/internals/managers.py\u001b[0m in \u001b[0;36mcreate_block_manager_from_blocks\u001b[0;34m(blocks, axes)\u001b[0m\n\u001b[1;32m   1677\u001b[0m                 blocks = [\n\u001b[0;32m-> 1678\u001b[0;31m                     \u001b[0mmake_block\u001b[0m\u001b[0;34m(\u001b[0m\u001b[0mvalues\u001b[0m\u001b[0;34m=\u001b[0m\u001b[0mblocks\u001b[0m\u001b[0;34m[\u001b[0m\u001b[0;36m0\u001b[0m\u001b[0;34m]\u001b[0m\u001b[0;34m,\u001b[0m \u001b[0mplacement\u001b[0m\u001b[0;34m=\u001b[0m\u001b[0mslice\u001b[0m\u001b[0;34m(\u001b[0m\u001b[0;36m0\u001b[0m\u001b[0;34m,\u001b[0m \u001b[0mlen\u001b[0m\u001b[0;34m(\u001b[0m\u001b[0maxes\u001b[0m\u001b[0;34m[\u001b[0m\u001b[0;36m0\u001b[0m\u001b[0;34m]\u001b[0m\u001b[0;34m)\u001b[0m\u001b[0;34m)\u001b[0m\u001b[0;34m)\u001b[0m\u001b[0;34m\u001b[0m\u001b[0;34m\u001b[0m\u001b[0m\n\u001b[0m\u001b[1;32m   1679\u001b[0m                 ]\n",
      "\u001b[0;32m/opt/anaconda3/lib/python3.7/site-packages/pandas/core/internals/blocks.py\u001b[0m in \u001b[0;36mmake_block\u001b[0;34m(values, placement, klass, ndim, dtype, fastpath)\u001b[0m\n\u001b[1;32m   3266\u001b[0m \u001b[0;34m\u001b[0m\u001b[0m\n\u001b[0;32m-> 3267\u001b[0;31m     \u001b[0;32mreturn\u001b[0m \u001b[0mklass\u001b[0m\u001b[0;34m(\u001b[0m\u001b[0mvalues\u001b[0m\u001b[0;34m,\u001b[0m \u001b[0mndim\u001b[0m\u001b[0;34m=\u001b[0m\u001b[0mndim\u001b[0m\u001b[0;34m,\u001b[0m \u001b[0mplacement\u001b[0m\u001b[0;34m=\u001b[0m\u001b[0mplacement\u001b[0m\u001b[0;34m)\u001b[0m\u001b[0;34m\u001b[0m\u001b[0;34m\u001b[0m\u001b[0m\n\u001b[0m\u001b[1;32m   3268\u001b[0m \u001b[0;34m\u001b[0m\u001b[0m\n",
      "\u001b[0;32m/opt/anaconda3/lib/python3.7/site-packages/pandas/core/internals/blocks.py\u001b[0m in \u001b[0;36m__init__\u001b[0;34m(self, values, placement, ndim)\u001b[0m\n\u001b[1;32m    127\u001b[0m                 \u001b[0;34m\"Wrong number of items passed {val}, placement implies \"\u001b[0m\u001b[0;34m\u001b[0m\u001b[0;34m\u001b[0m\u001b[0m\n\u001b[0;32m--> 128\u001b[0;31m                 \u001b[0;34m\"{mgr}\"\u001b[0m\u001b[0;34m.\u001b[0m\u001b[0mformat\u001b[0m\u001b[0;34m(\u001b[0m\u001b[0mval\u001b[0m\u001b[0;34m=\u001b[0m\u001b[0mlen\u001b[0m\u001b[0;34m(\u001b[0m\u001b[0mself\u001b[0m\u001b[0;34m.\u001b[0m\u001b[0mvalues\u001b[0m\u001b[0;34m)\u001b[0m\u001b[0;34m,\u001b[0m \u001b[0mmgr\u001b[0m\u001b[0;34m=\u001b[0m\u001b[0mlen\u001b[0m\u001b[0;34m(\u001b[0m\u001b[0mself\u001b[0m\u001b[0;34m.\u001b[0m\u001b[0mmgr_locs\u001b[0m\u001b[0;34m)\u001b[0m\u001b[0;34m)\u001b[0m\u001b[0;34m\u001b[0m\u001b[0;34m\u001b[0m\u001b[0m\n\u001b[0m\u001b[1;32m    129\u001b[0m             )\n",
      "\u001b[0;31mValueError\u001b[0m: Wrong number of items passed 4, placement implies 3",
      "\nDuring handling of the above exception, another exception occurred:\n",
      "\u001b[0;31mValueError\u001b[0m                                Traceback (most recent call last)",
      "\u001b[0;32m<ipython-input-683-ff5ab50531b7>\u001b[0m in \u001b[0;36m<module>\u001b[0;34m\u001b[0m\n\u001b[0;32m----> 1\u001b[0;31m \u001b[0mpd\u001b[0m\u001b[0;34m.\u001b[0m\u001b[0mDataFrame\u001b[0m\u001b[0;34m(\u001b[0m\u001b[0mpca\u001b[0m\u001b[0;34m.\u001b[0m\u001b[0mcomponents_\u001b[0m\u001b[0;34m,\u001b[0m \u001b[0mcolumns\u001b[0m\u001b[0;34m=\u001b[0m\u001b[0miris_data\u001b[0m\u001b[0;34m.\u001b[0m\u001b[0mcolumns\u001b[0m\u001b[0;34m[\u001b[0m\u001b[0;36m1\u001b[0m\u001b[0;34m:\u001b[0m\u001b[0;34m]\u001b[0m\u001b[0;34m,\u001b[0m \u001b[0mindex\u001b[0m\u001b[0;34m=\u001b[0m\u001b[0;34m[\u001b[0m\u001b[0;34m\"PC{}\"\u001b[0m\u001b[0;34m.\u001b[0m\u001b[0mformat\u001b[0m\u001b[0;34m(\u001b[0m\u001b[0mx\u001b[0m \u001b[0;34m+\u001b[0m \u001b[0;36m1\u001b[0m\u001b[0;34m)\u001b[0m \u001b[0;32mfor\u001b[0m \u001b[0mx\u001b[0m \u001b[0;32min\u001b[0m \u001b[0mrange\u001b[0m\u001b[0;34m(\u001b[0m\u001b[0mlen\u001b[0m\u001b[0;34m(\u001b[0m\u001b[0miris_data\u001b[0m\u001b[0;34m.\u001b[0m\u001b[0mcolumns\u001b[0m\u001b[0;34m)\u001b[0m\u001b[0;34m)\u001b[0m\u001b[0;34m]\u001b[0m\u001b[0;34m)\u001b[0m\u001b[0;34m\u001b[0m\u001b[0;34m\u001b[0m\u001b[0m\n\u001b[0m",
      "\u001b[0;32m/opt/anaconda3/lib/python3.7/site-packages/pandas/core/frame.py\u001b[0m in \u001b[0;36m__init__\u001b[0;34m(self, data, index, columns, dtype, copy)\u001b[0m\n\u001b[1;32m    438\u001b[0m                 \u001b[0mmgr\u001b[0m \u001b[0;34m=\u001b[0m \u001b[0minit_dict\u001b[0m\u001b[0;34m(\u001b[0m\u001b[0;34m{\u001b[0m\u001b[0mdata\u001b[0m\u001b[0;34m.\u001b[0m\u001b[0mname\u001b[0m\u001b[0;34m:\u001b[0m \u001b[0mdata\u001b[0m\u001b[0;34m}\u001b[0m\u001b[0;34m,\u001b[0m \u001b[0mindex\u001b[0m\u001b[0;34m,\u001b[0m \u001b[0mcolumns\u001b[0m\u001b[0;34m,\u001b[0m \u001b[0mdtype\u001b[0m\u001b[0;34m=\u001b[0m\u001b[0mdtype\u001b[0m\u001b[0;34m)\u001b[0m\u001b[0;34m\u001b[0m\u001b[0;34m\u001b[0m\u001b[0m\n\u001b[1;32m    439\u001b[0m             \u001b[0;32melse\u001b[0m\u001b[0;34m:\u001b[0m\u001b[0;34m\u001b[0m\u001b[0;34m\u001b[0m\u001b[0m\n\u001b[0;32m--> 440\u001b[0;31m                 \u001b[0mmgr\u001b[0m \u001b[0;34m=\u001b[0m \u001b[0minit_ndarray\u001b[0m\u001b[0;34m(\u001b[0m\u001b[0mdata\u001b[0m\u001b[0;34m,\u001b[0m \u001b[0mindex\u001b[0m\u001b[0;34m,\u001b[0m \u001b[0mcolumns\u001b[0m\u001b[0;34m,\u001b[0m \u001b[0mdtype\u001b[0m\u001b[0;34m=\u001b[0m\u001b[0mdtype\u001b[0m\u001b[0;34m,\u001b[0m \u001b[0mcopy\u001b[0m\u001b[0;34m=\u001b[0m\u001b[0mcopy\u001b[0m\u001b[0;34m)\u001b[0m\u001b[0;34m\u001b[0m\u001b[0;34m\u001b[0m\u001b[0m\n\u001b[0m\u001b[1;32m    441\u001b[0m \u001b[0;34m\u001b[0m\u001b[0m\n\u001b[1;32m    442\u001b[0m         \u001b[0;31m# For data is list-like, or Iterable (will consume into list)\u001b[0m\u001b[0;34m\u001b[0m\u001b[0;34m\u001b[0m\u001b[0;34m\u001b[0m\u001b[0m\n",
      "\u001b[0;32m/opt/anaconda3/lib/python3.7/site-packages/pandas/core/internals/construction.py\u001b[0m in \u001b[0;36minit_ndarray\u001b[0;34m(values, index, columns, dtype, copy)\u001b[0m\n\u001b[1;32m    211\u001b[0m         \u001b[0mblock_values\u001b[0m \u001b[0;34m=\u001b[0m \u001b[0;34m[\u001b[0m\u001b[0mvalues\u001b[0m\u001b[0;34m]\u001b[0m\u001b[0;34m\u001b[0m\u001b[0;34m\u001b[0m\u001b[0m\n\u001b[1;32m    212\u001b[0m \u001b[0;34m\u001b[0m\u001b[0m\n\u001b[0;32m--> 213\u001b[0;31m     \u001b[0;32mreturn\u001b[0m \u001b[0mcreate_block_manager_from_blocks\u001b[0m\u001b[0;34m(\u001b[0m\u001b[0mblock_values\u001b[0m\u001b[0;34m,\u001b[0m \u001b[0;34m[\u001b[0m\u001b[0mcolumns\u001b[0m\u001b[0;34m,\u001b[0m \u001b[0mindex\u001b[0m\u001b[0;34m]\u001b[0m\u001b[0;34m)\u001b[0m\u001b[0;34m\u001b[0m\u001b[0;34m\u001b[0m\u001b[0m\n\u001b[0m\u001b[1;32m    214\u001b[0m \u001b[0;34m\u001b[0m\u001b[0m\n\u001b[1;32m    215\u001b[0m \u001b[0;34m\u001b[0m\u001b[0m\n",
      "\u001b[0;32m/opt/anaconda3/lib/python3.7/site-packages/pandas/core/internals/managers.py\u001b[0m in \u001b[0;36mcreate_block_manager_from_blocks\u001b[0;34m(blocks, axes)\u001b[0m\n\u001b[1;32m   1686\u001b[0m         \u001b[0mblocks\u001b[0m \u001b[0;34m=\u001b[0m \u001b[0;34m[\u001b[0m\u001b[0mgetattr\u001b[0m\u001b[0;34m(\u001b[0m\u001b[0mb\u001b[0m\u001b[0;34m,\u001b[0m \u001b[0;34m\"values\"\u001b[0m\u001b[0;34m,\u001b[0m \u001b[0mb\u001b[0m\u001b[0;34m)\u001b[0m \u001b[0;32mfor\u001b[0m \u001b[0mb\u001b[0m \u001b[0;32min\u001b[0m \u001b[0mblocks\u001b[0m\u001b[0;34m]\u001b[0m\u001b[0;34m\u001b[0m\u001b[0;34m\u001b[0m\u001b[0m\n\u001b[1;32m   1687\u001b[0m         \u001b[0mtot_items\u001b[0m \u001b[0;34m=\u001b[0m \u001b[0msum\u001b[0m\u001b[0;34m(\u001b[0m\u001b[0mb\u001b[0m\u001b[0;34m.\u001b[0m\u001b[0mshape\u001b[0m\u001b[0;34m[\u001b[0m\u001b[0;36m0\u001b[0m\u001b[0;34m]\u001b[0m \u001b[0;32mfor\u001b[0m \u001b[0mb\u001b[0m \u001b[0;32min\u001b[0m \u001b[0mblocks\u001b[0m\u001b[0;34m)\u001b[0m\u001b[0;34m\u001b[0m\u001b[0;34m\u001b[0m\u001b[0m\n\u001b[0;32m-> 1688\u001b[0;31m         \u001b[0mconstruction_error\u001b[0m\u001b[0;34m(\u001b[0m\u001b[0mtot_items\u001b[0m\u001b[0;34m,\u001b[0m \u001b[0mblocks\u001b[0m\u001b[0;34m[\u001b[0m\u001b[0;36m0\u001b[0m\u001b[0;34m]\u001b[0m\u001b[0;34m.\u001b[0m\u001b[0mshape\u001b[0m\u001b[0;34m[\u001b[0m\u001b[0;36m1\u001b[0m\u001b[0;34m:\u001b[0m\u001b[0;34m]\u001b[0m\u001b[0;34m,\u001b[0m \u001b[0maxes\u001b[0m\u001b[0;34m,\u001b[0m \u001b[0me\u001b[0m\u001b[0;34m)\u001b[0m\u001b[0;34m\u001b[0m\u001b[0;34m\u001b[0m\u001b[0m\n\u001b[0m\u001b[1;32m   1689\u001b[0m \u001b[0;34m\u001b[0m\u001b[0m\n\u001b[1;32m   1690\u001b[0m \u001b[0;34m\u001b[0m\u001b[0m\n",
      "\u001b[0;32m/opt/anaconda3/lib/python3.7/site-packages/pandas/core/internals/managers.py\u001b[0m in \u001b[0;36mconstruction_error\u001b[0;34m(tot_items, block_shape, axes, e)\u001b[0m\n\u001b[1;32m   1717\u001b[0m         \u001b[0;32mraise\u001b[0m \u001b[0mValueError\u001b[0m\u001b[0;34m(\u001b[0m\u001b[0;34m\"Empty data passed with indices specified.\"\u001b[0m\u001b[0;34m)\u001b[0m\u001b[0;34m\u001b[0m\u001b[0;34m\u001b[0m\u001b[0m\n\u001b[1;32m   1718\u001b[0m     raise ValueError(\n\u001b[0;32m-> 1719\u001b[0;31m         \u001b[0;34m\"Shape of passed values is {0}, indices imply {1}\"\u001b[0m\u001b[0;34m.\u001b[0m\u001b[0mformat\u001b[0m\u001b[0;34m(\u001b[0m\u001b[0mpassed\u001b[0m\u001b[0;34m,\u001b[0m \u001b[0mimplied\u001b[0m\u001b[0;34m)\u001b[0m\u001b[0;34m\u001b[0m\u001b[0;34m\u001b[0m\u001b[0m\n\u001b[0m\u001b[1;32m   1720\u001b[0m     )\n\u001b[1;32m   1721\u001b[0m \u001b[0;34m\u001b[0m\u001b[0m\n",
      "\u001b[0;31mValueError\u001b[0m: Shape of passed values is (4, 4), indices imply (4, 3)"
     ]
    }
   ],
   "source": [
    "pd.DataFrame(pca.components_, columns=iris_data.columns[1:], index=[\"PC{}\".format(x + 1) for x in range(len(iris_data.columns))])"
   ]
  },
  {
   "cell_type": "code",
   "execution_count": 656,
   "metadata": {},
   "outputs": [],
   "source": [
    "iris_target = pd.DataFrame(iris.target, columns=[\"Species\"])"
   ]
  },
  {
   "cell_type": "code",
   "execution_count": 657,
   "metadata": {},
   "outputs": [],
   "source": [
    "def flower(num):\n",
    "    if num ==0:\n",
    "        return 'Setosa'\n",
    "    elif num == 1:\n",
    "        return 'Veriscolour'\n",
    "    else:\n",
    "        return 'virginica'\n",
    "    \n",
    "iris_target['Species'] = iris_target['Species'].apply(flower)"
   ]
  },
  {
   "cell_type": "code",
   "execution_count": 658,
   "metadata": {},
   "outputs": [],
   "source": [
    "iris = pd.concat([iris_data, iris_target], axis=1)"
   ]
  },
  {
   "cell_type": "code",
   "execution_count": 660,
   "metadata": {},
   "outputs": [],
   "source": [
    "# sns.pairplot(iris, hue='Species')"
   ]
  },
  {
   "cell_type": "code",
   "execution_count": 687,
   "metadata": {},
   "outputs": [
    {
     "data": {
      "text/html": [
       "<div>\n",
       "<style scoped>\n",
       "    .dataframe tbody tr th:only-of-type {\n",
       "        vertical-align: middle;\n",
       "    }\n",
       "\n",
       "    .dataframe tbody tr th {\n",
       "        vertical-align: top;\n",
       "    }\n",
       "\n",
       "    .dataframe thead th {\n",
       "        text-align: right;\n",
       "    }\n",
       "</style>\n",
       "<table border=\"1\" class=\"dataframe\">\n",
       "  <thead>\n",
       "    <tr style=\"text-align: right;\">\n",
       "      <th></th>\n",
       "      <th>Math</th>\n",
       "      <th>English</th>\n",
       "      <th>Japanese</th>\n",
       "      <th>History</th>\n",
       "      <th>Physics</th>\n",
       "      <th>Chemistry</th>\n",
       "    </tr>\n",
       "  </thead>\n",
       "  <tbody>\n",
       "    <tr>\n",
       "      <td>0</td>\n",
       "      <td>43</td>\n",
       "      <td>95</td>\n",
       "      <td>88</td>\n",
       "      <td>92</td>\n",
       "      <td>64</td>\n",
       "      <td>63</td>\n",
       "    </tr>\n",
       "    <tr>\n",
       "      <td>1</td>\n",
       "      <td>57</td>\n",
       "      <td>60</td>\n",
       "      <td>92</td>\n",
       "      <td>69</td>\n",
       "      <td>51</td>\n",
       "      <td>44</td>\n",
       "    </tr>\n",
       "    <tr>\n",
       "      <td>2</td>\n",
       "      <td>56</td>\n",
       "      <td>80</td>\n",
       "      <td>82</td>\n",
       "      <td>66</td>\n",
       "      <td>65</td>\n",
       "      <td>57</td>\n",
       "    </tr>\n",
       "    <tr>\n",
       "      <td>3</td>\n",
       "      <td>39</td>\n",
       "      <td>90</td>\n",
       "      <td>100</td>\n",
       "      <td>89</td>\n",
       "      <td>59</td>\n",
       "      <td>32</td>\n",
       "    </tr>\n",
       "    <tr>\n",
       "      <td>4</td>\n",
       "      <td>41</td>\n",
       "      <td>74</td>\n",
       "      <td>90</td>\n",
       "      <td>78</td>\n",
       "      <td>48</td>\n",
       "      <td>35</td>\n",
       "    </tr>\n",
       "    <tr>\n",
       "      <td>5</td>\n",
       "      <td>59</td>\n",
       "      <td>32</td>\n",
       "      <td>47</td>\n",
       "      <td>47</td>\n",
       "      <td>46</td>\n",
       "      <td>63</td>\n",
       "    </tr>\n",
       "    <tr>\n",
       "      <td>6</td>\n",
       "      <td>40</td>\n",
       "      <td>69</td>\n",
       "      <td>43</td>\n",
       "      <td>47</td>\n",
       "      <td>47</td>\n",
       "      <td>55</td>\n",
       "    </tr>\n",
       "    <tr>\n",
       "      <td>7</td>\n",
       "      <td>42</td>\n",
       "      <td>61</td>\n",
       "      <td>84</td>\n",
       "      <td>77</td>\n",
       "      <td>63</td>\n",
       "      <td>50</td>\n",
       "    </tr>\n",
       "    <tr>\n",
       "      <td>8</td>\n",
       "      <td>53</td>\n",
       "      <td>71</td>\n",
       "      <td>46</td>\n",
       "      <td>61</td>\n",
       "      <td>35</td>\n",
       "      <td>50</td>\n",
       "    </tr>\n",
       "    <tr>\n",
       "      <td>9</td>\n",
       "      <td>40</td>\n",
       "      <td>70</td>\n",
       "      <td>65</td>\n",
       "      <td>51</td>\n",
       "      <td>53</td>\n",
       "      <td>51</td>\n",
       "    </tr>\n",
       "    <tr>\n",
       "      <td>10</td>\n",
       "      <td>56</td>\n",
       "      <td>74</td>\n",
       "      <td>53</td>\n",
       "      <td>83</td>\n",
       "      <td>58</td>\n",
       "      <td>31</td>\n",
       "    </tr>\n",
       "    <tr>\n",
       "      <td>11</td>\n",
       "      <td>31</td>\n",
       "      <td>56</td>\n",
       "      <td>63</td>\n",
       "      <td>74</td>\n",
       "      <td>40</td>\n",
       "      <td>65</td>\n",
       "    </tr>\n",
       "    <tr>\n",
       "      <td>12</td>\n",
       "      <td>56</td>\n",
       "      <td>48</td>\n",
       "      <td>76</td>\n",
       "      <td>50</td>\n",
       "      <td>50</td>\n",
       "      <td>55</td>\n",
       "    </tr>\n",
       "    <tr>\n",
       "      <td>13</td>\n",
       "      <td>46</td>\n",
       "      <td>49</td>\n",
       "      <td>42</td>\n",
       "      <td>50</td>\n",
       "      <td>58</td>\n",
       "      <td>65</td>\n",
       "    </tr>\n",
       "    <tr>\n",
       "      <td>14</td>\n",
       "      <td>34</td>\n",
       "      <td>37</td>\n",
       "      <td>41</td>\n",
       "      <td>32</td>\n",
       "      <td>59</td>\n",
       "      <td>51</td>\n",
       "    </tr>\n",
       "    <tr>\n",
       "      <td>15</td>\n",
       "      <td>72</td>\n",
       "      <td>72</td>\n",
       "      <td>74</td>\n",
       "      <td>61</td>\n",
       "      <td>84</td>\n",
       "      <td>87</td>\n",
       "    </tr>\n",
       "    <tr>\n",
       "      <td>16</td>\n",
       "      <td>98</td>\n",
       "      <td>75</td>\n",
       "      <td>72</td>\n",
       "      <td>51</td>\n",
       "      <td>85</td>\n",
       "      <td>73</td>\n",
       "    </tr>\n",
       "    <tr>\n",
       "      <td>17</td>\n",
       "      <td>75</td>\n",
       "      <td>73</td>\n",
       "      <td>52</td>\n",
       "      <td>63</td>\n",
       "      <td>67</td>\n",
       "      <td>97</td>\n",
       "    </tr>\n",
       "    <tr>\n",
       "      <td>18</td>\n",
       "      <td>66</td>\n",
       "      <td>96</td>\n",
       "      <td>84</td>\n",
       "      <td>88</td>\n",
       "      <td>76</td>\n",
       "      <td>90</td>\n",
       "    </tr>\n",
       "    <tr>\n",
       "      <td>19</td>\n",
       "      <td>80</td>\n",
       "      <td>80</td>\n",
       "      <td>89</td>\n",
       "      <td>94</td>\n",
       "      <td>84</td>\n",
       "      <td>89</td>\n",
       "    </tr>\n",
       "    <tr>\n",
       "      <td>20</td>\n",
       "      <td>96</td>\n",
       "      <td>40</td>\n",
       "      <td>55</td>\n",
       "      <td>57</td>\n",
       "      <td>70</td>\n",
       "      <td>77</td>\n",
       "    </tr>\n",
       "    <tr>\n",
       "      <td>21</td>\n",
       "      <td>61</td>\n",
       "      <td>60</td>\n",
       "      <td>59</td>\n",
       "      <td>65</td>\n",
       "      <td>94</td>\n",
       "      <td>91</td>\n",
       "    </tr>\n",
       "    <tr>\n",
       "      <td>22</td>\n",
       "      <td>96</td>\n",
       "      <td>69</td>\n",
       "      <td>57</td>\n",
       "      <td>69</td>\n",
       "      <td>94</td>\n",
       "      <td>100</td>\n",
       "    </tr>\n",
       "    <tr>\n",
       "      <td>23</td>\n",
       "      <td>73</td>\n",
       "      <td>61</td>\n",
       "      <td>60</td>\n",
       "      <td>62</td>\n",
       "      <td>79</td>\n",
       "      <td>60</td>\n",
       "    </tr>\n",
       "    <tr>\n",
       "      <td>24</td>\n",
       "      <td>85</td>\n",
       "      <td>84</td>\n",
       "      <td>87</td>\n",
       "      <td>80</td>\n",
       "      <td>78</td>\n",
       "      <td>75</td>\n",
       "    </tr>\n",
       "    <tr>\n",
       "      <td>25</td>\n",
       "      <td>91</td>\n",
       "      <td>82</td>\n",
       "      <td>71</td>\n",
       "      <td>76</td>\n",
       "      <td>89</td>\n",
       "      <td>94</td>\n",
       "    </tr>\n",
       "    <tr>\n",
       "      <td>26</td>\n",
       "      <td>69</td>\n",
       "      <td>44</td>\n",
       "      <td>33</td>\n",
       "      <td>30</td>\n",
       "      <td>64</td>\n",
       "      <td>100</td>\n",
       "    </tr>\n",
       "    <tr>\n",
       "      <td>27</td>\n",
       "      <td>65</td>\n",
       "      <td>32</td>\n",
       "      <td>39</td>\n",
       "      <td>51</td>\n",
       "      <td>84</td>\n",
       "      <td>74</td>\n",
       "    </tr>\n",
       "    <tr>\n",
       "      <td>28</td>\n",
       "      <td>93</td>\n",
       "      <td>55</td>\n",
       "      <td>70</td>\n",
       "      <td>70</td>\n",
       "      <td>69</td>\n",
       "      <td>85</td>\n",
       "    </tr>\n",
       "    <tr>\n",
       "      <td>29</td>\n",
       "      <td>90</td>\n",
       "      <td>41</td>\n",
       "      <td>52</td>\n",
       "      <td>53</td>\n",
       "      <td>90</td>\n",
       "      <td>100</td>\n",
       "    </tr>\n",
       "    <tr>\n",
       "      <td>30</td>\n",
       "      <td>76</td>\n",
       "      <td>59</td>\n",
       "      <td>41</td>\n",
       "      <td>63</td>\n",
       "      <td>89</td>\n",
       "      <td>67</td>\n",
       "    </tr>\n",
       "    <tr>\n",
       "      <td>31</td>\n",
       "      <td>85</td>\n",
       "      <td>52</td>\n",
       "      <td>47</td>\n",
       "      <td>47</td>\n",
       "      <td>94</td>\n",
       "      <td>82</td>\n",
       "    </tr>\n",
       "  </tbody>\n",
       "</table>\n",
       "</div>"
      ],
      "text/plain": [
       "    Math  English  Japanese  History  Physics  Chemistry\n",
       "0     43       95        88       92       64         63\n",
       "1     57       60        92       69       51         44\n",
       "2     56       80        82       66       65         57\n",
       "3     39       90       100       89       59         32\n",
       "4     41       74        90       78       48         35\n",
       "5     59       32        47       47       46         63\n",
       "6     40       69        43       47       47         55\n",
       "7     42       61        84       77       63         50\n",
       "8     53       71        46       61       35         50\n",
       "9     40       70        65       51       53         51\n",
       "10    56       74        53       83       58         31\n",
       "11    31       56        63       74       40         65\n",
       "12    56       48        76       50       50         55\n",
       "13    46       49        42       50       58         65\n",
       "14    34       37        41       32       59         51\n",
       "15    72       72        74       61       84         87\n",
       "16    98       75        72       51       85         73\n",
       "17    75       73        52       63       67         97\n",
       "18    66       96        84       88       76         90\n",
       "19    80       80        89       94       84         89\n",
       "20    96       40        55       57       70         77\n",
       "21    61       60        59       65       94         91\n",
       "22    96       69        57       69       94        100\n",
       "23    73       61        60       62       79         60\n",
       "24    85       84        87       80       78         75\n",
       "25    91       82        71       76       89         94\n",
       "26    69       44        33       30       64        100\n",
       "27    65       32        39       51       84         74\n",
       "28    93       55        70       70       69         85\n",
       "29    90       41        52       53       90        100\n",
       "30    76       59        41       63       89         67\n",
       "31    85       52        47       47       94         82"
      ]
     },
     "execution_count": 687,
     "metadata": {},
     "output_type": "execute_result"
    }
   ],
   "source": [
    "df = pd.read_csv(\"test.csv\")\n",
    "df"
   ]
  },
  {
   "cell_type": "code",
   "execution_count": 729,
   "metadata": {},
   "outputs": [
    {
     "data": {
      "text/html": [
       "<div>\n",
       "<style scoped>\n",
       "    .dataframe tbody tr th:only-of-type {\n",
       "        vertical-align: middle;\n",
       "    }\n",
       "\n",
       "    .dataframe tbody tr th {\n",
       "        vertical-align: top;\n",
       "    }\n",
       "\n",
       "    .dataframe thead th {\n",
       "        text-align: right;\n",
       "    }\n",
       "</style>\n",
       "<table border=\"1\" class=\"dataframe\">\n",
       "  <thead>\n",
       "    <tr style=\"text-align: right;\">\n",
       "      <th></th>\n",
       "      <th>Math</th>\n",
       "      <th>English</th>\n",
       "      <th>Japanese</th>\n",
       "      <th>History</th>\n",
       "      <th>Physics</th>\n",
       "      <th>Chemistry</th>\n",
       "    </tr>\n",
       "  </thead>\n",
       "  <tbody>\n",
       "    <tr>\n",
       "      <td>count</td>\n",
       "      <td>32.000000</td>\n",
       "      <td>32.000000</td>\n",
       "      <td>32.00000</td>\n",
       "      <td>32.000000</td>\n",
       "      <td>32.000000</td>\n",
       "      <td>32.000000</td>\n",
       "    </tr>\n",
       "    <tr>\n",
       "      <td>mean</td>\n",
       "      <td>64.500000</td>\n",
       "      <td>63.781250</td>\n",
       "      <td>64.18750</td>\n",
       "      <td>63.937500</td>\n",
       "      <td>68.312500</td>\n",
       "      <td>69.000000</td>\n",
       "    </tr>\n",
       "    <tr>\n",
       "      <td>std</td>\n",
       "      <td>20.446626</td>\n",
       "      <td>17.619151</td>\n",
       "      <td>18.88409</td>\n",
       "      <td>16.404047</td>\n",
       "      <td>17.229827</td>\n",
       "      <td>20.631951</td>\n",
       "    </tr>\n",
       "    <tr>\n",
       "      <td>min</td>\n",
       "      <td>31.000000</td>\n",
       "      <td>32.000000</td>\n",
       "      <td>33.00000</td>\n",
       "      <td>30.000000</td>\n",
       "      <td>35.000000</td>\n",
       "      <td>31.000000</td>\n",
       "    </tr>\n",
       "    <tr>\n",
       "      <td>25%</td>\n",
       "      <td>45.250000</td>\n",
       "      <td>51.250000</td>\n",
       "      <td>47.00000</td>\n",
       "      <td>51.000000</td>\n",
       "      <td>56.750000</td>\n",
       "      <td>54.000000</td>\n",
       "    </tr>\n",
       "    <tr>\n",
       "      <td>50%</td>\n",
       "      <td>63.000000</td>\n",
       "      <td>65.000000</td>\n",
       "      <td>61.50000</td>\n",
       "      <td>63.000000</td>\n",
       "      <td>66.000000</td>\n",
       "      <td>66.000000</td>\n",
       "    </tr>\n",
       "    <tr>\n",
       "      <td>75%</td>\n",
       "      <td>81.250000</td>\n",
       "      <td>74.250000</td>\n",
       "      <td>82.50000</td>\n",
       "      <td>76.250000</td>\n",
       "      <td>84.000000</td>\n",
       "      <td>87.500000</td>\n",
       "    </tr>\n",
       "    <tr>\n",
       "      <td>max</td>\n",
       "      <td>98.000000</td>\n",
       "      <td>96.000000</td>\n",
       "      <td>100.00000</td>\n",
       "      <td>94.000000</td>\n",
       "      <td>94.000000</td>\n",
       "      <td>100.000000</td>\n",
       "    </tr>\n",
       "  </tbody>\n",
       "</table>\n",
       "</div>"
      ],
      "text/plain": [
       "            Math    English   Japanese    History    Physics   Chemistry\n",
       "count  32.000000  32.000000   32.00000  32.000000  32.000000   32.000000\n",
       "mean   64.500000  63.781250   64.18750  63.937500  68.312500   69.000000\n",
       "std    20.446626  17.619151   18.88409  16.404047  17.229827   20.631951\n",
       "min    31.000000  32.000000   33.00000  30.000000  35.000000   31.000000\n",
       "25%    45.250000  51.250000   47.00000  51.000000  56.750000   54.000000\n",
       "50%    63.000000  65.000000   61.50000  63.000000  66.000000   66.000000\n",
       "75%    81.250000  74.250000   82.50000  76.250000  84.000000   87.500000\n",
       "max    98.000000  96.000000  100.00000  94.000000  94.000000  100.000000"
      ]
     },
     "execution_count": 729,
     "metadata": {},
     "output_type": "execute_result"
    }
   ],
   "source": [
    "df.describe()"
   ]
  },
  {
   "cell_type": "code",
   "execution_count": 688,
   "metadata": {},
   "outputs": [
    {
     "data": {
      "image/png": "[encoded data removed]",
      "text/plain": [
       "<Figure size 576x576 with 36 Axes>"
      ]
     },
     "metadata": {},
     "output_type": "display_data"
    }
   ],
   "source": [
    "pd.plotting.scatter_matrix(df, alpha=.5, figsize=(8, 8))\n",
    "plt.show()"
   ]
  },
  {
   "cell_type": "code",
   "execution_count": 703,
   "metadata": {},
   "outputs": [
    {
     "data": {
      "text/plain": [
       "(0, 6)"
      ]
     },
     "execution_count": 703,
     "metadata": {},
     "output_type": "execute_result"
    },
    {
     "data": {
      "image/png": "[encoded data removed]",
      "text/plain": [
       "<Figure size 432x288 with 2 Axes>"
      ]
     },
     "metadata": {},
     "output_type": "display_data"
    }
   ],
   "source": [
    "corr = df.corr()\n",
    "sns.heatmap(corr, annot = True)\n",
    "plt.ylim(0,6)"
   ]
  },
  {
   "cell_type": "code",
   "execution_count": 704,
   "metadata": {},
   "outputs": [],
   "source": [
    "from sklearn.decomposition import PCA\n",
    "pca = PCA()\n",
    "pca.fit(df)\n",
    "df_pca = pca.transform(df)"
   ]
  },
  {
   "cell_type": "code",
   "execution_count": 708,
   "metadata": {},
   "outputs": [
    {
     "data": {
      "text/html": [
       "<div>\n",
       "<style scoped>\n",
       "    .dataframe tbody tr th:only-of-type {\n",
       "        vertical-align: middle;\n",
       "    }\n",
       "\n",
       "    .dataframe tbody tr th {\n",
       "        vertical-align: top;\n",
       "    }\n",
       "\n",
       "    .dataframe thead th {\n",
       "        text-align: right;\n",
       "    }\n",
       "</style>\n",
       "<table border=\"1\" class=\"dataframe\">\n",
       "  <thead>\n",
       "    <tr style=\"text-align: right;\">\n",
       "      <th></th>\n",
       "      <th>PC1</th>\n",
       "      <th>PC2</th>\n",
       "      <th>PC3</th>\n",
       "      <th>PC4</th>\n",
       "      <th>PC5</th>\n",
       "      <th>PC6</th>\n",
       "    </tr>\n",
       "  </thead>\n",
       "  <tbody>\n",
       "    <tr>\n",
       "      <td>0</td>\n",
       "      <td>35.404040</td>\n",
       "      <td>-36.200873</td>\n",
       "      <td>-16.100422</td>\n",
       "      <td>0.888888</td>\n",
       "      <td>-4.217646</td>\n",
       "      <td>-2.060478</td>\n",
       "    </tr>\n",
       "    <tr>\n",
       "      <td>1</td>\n",
       "      <td>34.439074</td>\n",
       "      <td>-5.402136</td>\n",
       "      <td>20.290548</td>\n",
       "      <td>-12.720360</td>\n",
       "      <td>-0.065672</td>\n",
       "      <td>2.384002</td>\n",
       "    </tr>\n",
       "    <tr>\n",
       "      <td>2</td>\n",
       "      <td>21.800718</td>\n",
       "      <td>-14.463342</td>\n",
       "      <td>1.055277</td>\n",
       "      <td>0.898507</td>\n",
       "      <td>-0.295015</td>\n",
       "      <td>11.195625</td>\n",
       "    </tr>\n",
       "    <tr>\n",
       "      <td>3</td>\n",
       "      <td>59.944613</td>\n",
       "      <td>-31.451630</td>\n",
       "      <td>6.377606</td>\n",
       "      <td>5.468358</td>\n",
       "      <td>-6.572227</td>\n",
       "      <td>2.779732</td>\n",
       "    </tr>\n",
       "    <tr>\n",
       "      <td>4</td>\n",
       "      <td>53.848430</td>\n",
       "      <td>-9.974825</td>\n",
       "      <td>8.938051</td>\n",
       "      <td>-2.960553</td>\n",
       "      <td>-1.167056</td>\n",
       "      <td>0.378671</td>\n",
       "    </tr>\n",
       "    <tr>\n",
       "      <td>5</td>\n",
       "      <td>2.126099</td>\n",
       "      <td>43.123443</td>\n",
       "      <td>7.589020</td>\n",
       "      <td>-12.378776</td>\n",
       "      <td>5.292865</td>\n",
       "      <td>-7.310349</td>\n",
       "    </tr>\n",
       "    <tr>\n",
       "      <td>6</td>\n",
       "      <td>23.128311</td>\n",
       "      <td>31.585097</td>\n",
       "      <td>-16.075330</td>\n",
       "      <td>8.566977</td>\n",
       "      <td>9.644735</td>\n",
       "      <td>7.491978</td>\n",
       "    </tr>\n",
       "    <tr>\n",
       "      <td>7</td>\n",
       "      <td>33.564457</td>\n",
       "      <td>-5.827770</td>\n",
       "      <td>5.890723</td>\n",
       "      <td>-5.205174</td>\n",
       "      <td>-14.959679</td>\n",
       "      <td>-4.499997</td>\n",
       "    </tr>\n",
       "    <tr>\n",
       "      <td>8</td>\n",
       "      <td>27.808602</td>\n",
       "      <td>22.338431</td>\n",
       "      <td>-7.981593</td>\n",
       "      <td>5.735596</td>\n",
       "      <td>24.617930</td>\n",
       "      <td>-4.419032</td>\n",
       "    </tr>\n",
       "    <tr>\n",
       "      <td>9</td>\n",
       "      <td>29.999860</td>\n",
       "      <td>16.016345</td>\n",
       "      <td>-5.934527</td>\n",
       "      <td>1.952233</td>\n",
       "      <td>0.363293</td>\n",
       "      <td>13.029116</td>\n",
       "    </tr>\n",
       "    <tr>\n",
       "      <td>10</td>\n",
       "      <td>34.054939</td>\n",
       "      <td>1.799262</td>\n",
       "      <td>6.997765</td>\n",
       "      <td>25.785280</td>\n",
       "      <td>9.579562</td>\n",
       "      <td>-15.715152</td>\n",
       "    </tr>\n",
       "    <tr>\n",
       "      <td>11</td>\n",
       "      <td>33.390600</td>\n",
       "      <td>16.466731</td>\n",
       "      <td>-16.468946</td>\n",
       "      <td>-15.384661</td>\n",
       "      <td>-2.527719</td>\n",
       "      <td>-14.236250</td>\n",
       "    </tr>\n",
       "    <tr>\n",
       "      <td>12</td>\n",
       "      <td>18.590083</td>\n",
       "      <td>18.201405</td>\n",
       "      <td>14.064421</td>\n",
       "      <td>-15.978313</td>\n",
       "      <td>-0.019891</td>\n",
       "      <td>7.512485</td>\n",
       "    </tr>\n",
       "    <tr>\n",
       "      <td>13</td>\n",
       "      <td>5.507726</td>\n",
       "      <td>35.207851</td>\n",
       "      <td>-9.144731</td>\n",
       "      <td>1.780128</td>\n",
       "      <td>-2.590870</td>\n",
       "      <td>-2.487306</td>\n",
       "    </tr>\n",
       "    <tr>\n",
       "      <td>14</td>\n",
       "      <td>14.111963</td>\n",
       "      <td>56.275356</td>\n",
       "      <td>-1.027387</td>\n",
       "      <td>3.707526</td>\n",
       "      <td>-12.880076</td>\n",
       "      <td>8.313314</td>\n",
       "    </tr>\n",
       "    <tr>\n",
       "      <td>15</td>\n",
       "      <td>-17.809999</td>\n",
       "      <td>-17.104341</td>\n",
       "      <td>-4.987409</td>\n",
       "      <td>-3.598489</td>\n",
       "      <td>-6.363538</td>\n",
       "      <td>10.523167</td>\n",
       "    </tr>\n",
       "    <tr>\n",
       "      <td>16</td>\n",
       "      <td>-26.384529</td>\n",
       "      <td>-17.376975</td>\n",
       "      <td>16.285883</td>\n",
       "      <td>7.109355</td>\n",
       "      <td>10.302913</td>\n",
       "      <td>18.734234</td>\n",
       "    </tr>\n",
       "    <tr>\n",
       "      <td>17</td>\n",
       "      <td>-23.653225</td>\n",
       "      <td>-4.438374</td>\n",
       "      <td>-19.487382</td>\n",
       "      <td>-4.289189</td>\n",
       "      <td>12.332750</td>\n",
       "      <td>-0.972593</td>\n",
       "    </tr>\n",
       "    <tr>\n",
       "      <td>18</td>\n",
       "      <td>-0.283504</td>\n",
       "      <td>-45.815028</td>\n",
       "      <td>-19.939666</td>\n",
       "      <td>-3.768256</td>\n",
       "      <td>0.984436</td>\n",
       "      <td>0.279782</td>\n",
       "    </tr>\n",
       "    <tr>\n",
       "      <td>19</td>\n",
       "      <td>-11.581652</td>\n",
       "      <td>-48.709382</td>\n",
       "      <td>-2.253340</td>\n",
       "      <td>-7.527954</td>\n",
       "      <td>-4.378982</td>\n",
       "      <td>-9.008214</td>\n",
       "    </tr>\n",
       "    <tr>\n",
       "      <td>20</td>\n",
       "      <td>-31.587094</td>\n",
       "      <td>11.309953</td>\n",
       "      <td>20.576393</td>\n",
       "      <td>-6.744945</td>\n",
       "      <td>9.629371</td>\n",
       "      <td>-8.361701</td>\n",
       "    </tr>\n",
       "    <tr>\n",
       "      <td>21</td>\n",
       "      <td>-24.109404</td>\n",
       "      <td>-4.973455</td>\n",
       "      <td>-12.583263</td>\n",
       "      <td>2.596713</td>\n",
       "      <td>-20.643089</td>\n",
       "      <td>-1.103355</td>\n",
       "    </tr>\n",
       "    <tr>\n",
       "      <td>22</td>\n",
       "      <td>-47.110655</td>\n",
       "      <td>-21.158514</td>\n",
       "      <td>-3.806322</td>\n",
       "      <td>4.462139</td>\n",
       "      <td>2.400204</td>\n",
       "      <td>-3.219589</td>\n",
       "    </tr>\n",
       "    <tr>\n",
       "      <td>23</td>\n",
       "      <td>-6.135624</td>\n",
       "      <td>1.102477</td>\n",
       "      <td>10.993438</td>\n",
       "      <td>11.500033</td>\n",
       "      <td>-2.100889</td>\n",
       "      <td>0.339959</td>\n",
       "    </tr>\n",
       "    <tr>\n",
       "      <td>24</td>\n",
       "      <td>-5.914392</td>\n",
       "      <td>-40.175884</td>\n",
       "      <td>6.615197</td>\n",
       "      <td>-1.079506</td>\n",
       "      <td>5.898911</td>\n",
       "      <td>2.916259</td>\n",
       "    </tr>\n",
       "    <tr>\n",
       "      <td>25</td>\n",
       "      <td>-30.860260</td>\n",
       "      <td>-35.724751</td>\n",
       "      <td>-4.817904</td>\n",
       "      <td>2.680546</td>\n",
       "      <td>4.420311</td>\n",
       "      <td>0.713752</td>\n",
       "    </tr>\n",
       "    <tr>\n",
       "      <td>26</td>\n",
       "      <td>-37.855881</td>\n",
       "      <td>39.998347</td>\n",
       "      <td>-16.366454</td>\n",
       "      <td>-10.581710</td>\n",
       "      <td>6.168843</td>\n",
       "      <td>8.045871</td>\n",
       "    </tr>\n",
       "    <tr>\n",
       "      <td>27</td>\n",
       "      <td>-25.634093</td>\n",
       "      <td>32.160194</td>\n",
       "      <td>5.108195</td>\n",
       "      <td>5.770762</td>\n",
       "      <td>-15.978157</td>\n",
       "      <td>-8.780826</td>\n",
       "    </tr>\n",
       "    <tr>\n",
       "      <td>28</td>\n",
       "      <td>-24.668060</td>\n",
       "      <td>-11.647560</td>\n",
       "      <td>11.798151</td>\n",
       "      <td>-13.146519</td>\n",
       "      <td>9.672282</td>\n",
       "      <td>-8.161670</td>\n",
       "    </tr>\n",
       "    <tr>\n",
       "      <td>29</td>\n",
       "      <td>-51.832021</td>\n",
       "      <td>7.176503</td>\n",
       "      <td>4.409996</td>\n",
       "      <td>-7.206735</td>\n",
       "      <td>-6.989409</td>\n",
       "      <td>-3.232566</td>\n",
       "    </tr>\n",
       "    <tr>\n",
       "      <td>30</td>\n",
       "      <td>-21.791219</td>\n",
       "      <td>7.545203</td>\n",
       "      <td>3.543225</td>\n",
       "      <td>22.853496</td>\n",
       "      <td>-3.606011</td>\n",
       "      <td>-6.781939</td>\n",
       "    </tr>\n",
       "    <tr>\n",
       "      <td>31</td>\n",
       "      <td>-40.507901</td>\n",
       "      <td>10.138242</td>\n",
       "      <td>6.440787</td>\n",
       "      <td>10.814604</td>\n",
       "      <td>-5.952478</td>\n",
       "      <td>5.713070</td>\n",
       "    </tr>\n",
       "  </tbody>\n",
       "</table>\n",
       "</div>"
      ],
      "text/plain": [
       "          PC1        PC2        PC3        PC4        PC5        PC6\n",
       "0   35.404040 -36.200873 -16.100422   0.888888  -4.217646  -2.060478\n",
       "1   34.439074  -5.402136  20.290548 -12.720360  -0.065672   2.384002\n",
       "2   21.800718 -14.463342   1.055277   0.898507  -0.295015  11.195625\n",
       "3   59.944613 -31.451630   6.377606   5.468358  -6.572227   2.779732\n",
       "4   53.848430  -9.974825   8.938051  -2.960553  -1.167056   0.378671\n",
       "5    2.126099  43.123443   7.589020 -12.378776   5.292865  -7.310349\n",
       "6   23.128311  31.585097 -16.075330   8.566977   9.644735   7.491978\n",
       "7   33.564457  -5.827770   5.890723  -5.205174 -14.959679  -4.499997\n",
       "8   27.808602  22.338431  -7.981593   5.735596  24.617930  -4.419032\n",
       "9   29.999860  16.016345  -5.934527   1.952233   0.363293  13.029116\n",
       "10  34.054939   1.799262   6.997765  25.785280   9.579562 -15.715152\n",
       "11  33.390600  16.466731 -16.468946 -15.384661  -2.527719 -14.236250\n",
       "12  18.590083  18.201405  14.064421 -15.978313  -0.019891   7.512485\n",
       "13   5.507726  35.207851  -9.144731   1.780128  -2.590870  -2.487306\n",
       "14  14.111963  56.275356  -1.027387   3.707526 -12.880076   8.313314\n",
       "15 -17.809999 -17.104341  -4.987409  -3.598489  -6.363538  10.523167\n",
       "16 -26.384529 -17.376975  16.285883   7.109355  10.302913  18.734234\n",
       "17 -23.653225  -4.438374 -19.487382  -4.289189  12.332750  -0.972593\n",
       "18  -0.283504 -45.815028 -19.939666  -3.768256   0.984436   0.279782\n",
       "19 -11.581652 -48.709382  -2.253340  -7.527954  -4.378982  -9.008214\n",
       "20 -31.587094  11.309953  20.576393  -6.744945   9.629371  -8.361701\n",
       "21 -24.109404  -4.973455 -12.583263   2.596713 -20.643089  -1.103355\n",
       "22 -47.110655 -21.158514  -3.806322   4.462139   2.400204  -3.219589\n",
       "23  -6.135624   1.102477  10.993438  11.500033  -2.100889   0.339959\n",
       "24  -5.914392 -40.175884   6.615197  -1.079506   5.898911   2.916259\n",
       "25 -30.860260 -35.724751  -4.817904   2.680546   4.420311   0.713752\n",
       "26 -37.855881  39.998347 -16.366454 -10.581710   6.168843   8.045871\n",
       "27 -25.634093  32.160194   5.108195   5.770762 -15.978157  -8.780826\n",
       "28 -24.668060 -11.647560  11.798151 -13.146519   9.672282  -8.161670\n",
       "29 -51.832021   7.176503   4.409996  -7.206735  -6.989409  -3.232566\n",
       "30 -21.791219   7.545203   3.543225  22.853496  -3.606011  -6.781939\n",
       "31 -40.507901  10.138242   6.440787  10.814604  -5.952478   5.713070"
      ]
     },
     "execution_count": 708,
     "metadata": {},
     "output_type": "execute_result"
    }
   ],
   "source": [
    "df_pca = pd.DataFrame(data = df_pca, columns= [\"PC{}\".format(num + 1) for num in range(len(df.columns))])\n",
    "df_pca#主成分得点のデータフレーム"
   ]
  },
  {
   "cell_type": "code",
   "execution_count": 710,
   "metadata": {},
   "outputs": [
    {
     "data": {
      "text/html": [
       "<div>\n",
       "<style scoped>\n",
       "    .dataframe tbody tr th:only-of-type {\n",
       "        vertical-align: middle;\n",
       "    }\n",
       "\n",
       "    .dataframe tbody tr th {\n",
       "        vertical-align: top;\n",
       "    }\n",
       "\n",
       "    .dataframe thead th {\n",
       "        text-align: right;\n",
       "    }\n",
       "</style>\n",
       "<table border=\"1\" class=\"dataframe\">\n",
       "  <thead>\n",
       "    <tr style=\"text-align: right;\">\n",
       "      <th></th>\n",
       "      <th>Contribution ratio</th>\n",
       "    </tr>\n",
       "  </thead>\n",
       "  <tbody>\n",
       "    <tr>\n",
       "      <td>PC1</td>\n",
       "      <td>0.460216</td>\n",
       "    </tr>\n",
       "    <tr>\n",
       "      <td>PC2</td>\n",
       "      <td>0.355011</td>\n",
       "    </tr>\n",
       "    <tr>\n",
       "      <td>PC3</td>\n",
       "      <td>0.065365</td>\n",
       "    </tr>\n",
       "    <tr>\n",
       "      <td>PC4</td>\n",
       "      <td>0.047237</td>\n",
       "    </tr>\n",
       "    <tr>\n",
       "      <td>PC5</td>\n",
       "      <td>0.041483</td>\n",
       "    </tr>\n",
       "    <tr>\n",
       "      <td>PC6</td>\n",
       "      <td>0.030688</td>\n",
       "    </tr>\n",
       "  </tbody>\n",
       "</table>\n",
       "</div>"
      ],
      "text/plain": [
       "     Contribution ratio\n",
       "PC1            0.460216\n",
       "PC2            0.355011\n",
       "PC3            0.065365\n",
       "PC4            0.047237\n",
       "PC5            0.041483\n",
       "PC6            0.030688"
      ]
     },
     "execution_count": 710,
     "metadata": {},
     "output_type": "execute_result"
    }
   ],
   "source": [
    "ex_ratio =    pca.explained_variance_ratio_\n",
    "\n",
    "df_ex_ratio = pd.DataFrame(ex_ratio, columns=[\"Contribution ratio\"], \n",
    "                           index=[\"PC{}\".format(num + 1) for num in range(len(df.columns))])\n",
    "df_ex_ratio"
   ]
  },
  {
   "cell_type": "code",
   "execution_count": 715,
   "metadata": {},
   "outputs": [
    {
     "data": {
      "image/png": "[encoded data removed]",
      "text/plain": [
       "<Figure size 432x288 with 1 Axes>"
      ]
     },
     "metadata": {},
     "output_type": "display_data"
    }
   ],
   "source": [
    "cc_ratio = np.cumsum(ex_ratio)\n",
    "\n",
    "plt.plot(cc_ratio, marker=\"o\")\n",
    "plt.xlabel(\"PC\")\n",
    "plt.ylabel(\"Cumulative contrivution rate\")\n",
    "plt.show()"
   ]
  },
  {
   "cell_type": "code",
   "execution_count": 727,
   "metadata": {},
   "outputs": [
    {
     "data": {
      "text/html": [
       "<div>\n",
       "<style scoped>\n",
       "    .dataframe tbody tr th:only-of-type {\n",
       "        vertical-align: middle;\n",
       "    }\n",
       "\n",
       "    .dataframe tbody tr th {\n",
       "        vertical-align: top;\n",
       "    }\n",
       "\n",
       "    .dataframe thead th {\n",
       "        text-align: right;\n",
       "    }\n",
       "</style>\n",
       "<table border=\"1\" class=\"dataframe\">\n",
       "  <thead>\n",
       "    <tr style=\"text-align: right;\">\n",
       "      <th></th>\n",
       "      <th>PC1</th>\n",
       "      <th>PC2</th>\n",
       "      <th>PC3</th>\n",
       "      <th>PC4</th>\n",
       "      <th>PC5</th>\n",
       "      <th>PC6</th>\n",
       "    </tr>\n",
       "  </thead>\n",
       "  <tbody>\n",
       "    <tr>\n",
       "      <td>Math</td>\n",
       "      <td>-0.560478</td>\n",
       "      <td>-0.259596</td>\n",
       "      <td>0.547765</td>\n",
       "      <td>0.045087</td>\n",
       "      <td>0.560792</td>\n",
       "      <td>-0.043670</td>\n",
       "    </tr>\n",
       "    <tr>\n",
       "      <td>English</td>\n",
       "      <td>0.194064</td>\n",
       "      <td>-0.530441</td>\n",
       "      <td>-0.451009</td>\n",
       "      <td>0.402600</td>\n",
       "      <td>0.388183</td>\n",
       "      <td>0.405942</td>\n",
       "    </tr>\n",
       "    <tr>\n",
       "      <td>Japanese</td>\n",
       "      <td>0.280052</td>\n",
       "      <td>-0.546999</td>\n",
       "      <td>0.357497</td>\n",
       "      <td>-0.559986</td>\n",
       "      <td>-0.250723</td>\n",
       "      <td>0.343676</td>\n",
       "    </tr>\n",
       "    <tr>\n",
       "      <td>History</td>\n",
       "      <td>0.186062</td>\n",
       "      <td>-0.508233</td>\n",
       "      <td>-0.067060</td>\n",
       "      <td>0.058517</td>\n",
       "      <td>-0.053490</td>\n",
       "      <td>-0.834444</td>\n",
       "    </tr>\n",
       "    <tr>\n",
       "      <td>Physics</td>\n",
       "      <td>-0.431704</td>\n",
       "      <td>-0.264589</td>\n",
       "      <td>0.102704</td>\n",
       "      <td>0.497299</td>\n",
       "      <td>-0.683705</td>\n",
       "      <td>0.135340</td>\n",
       "    </tr>\n",
       "    <tr>\n",
       "      <td>Chemistry</td>\n",
       "      <td>-0.590582</td>\n",
       "      <td>-0.154032</td>\n",
       "      <td>-0.594723</td>\n",
       "      <td>-0.521119</td>\n",
       "      <td>-0.040619</td>\n",
       "      <td>-0.024016</td>\n",
       "    </tr>\n",
       "  </tbody>\n",
       "</table>\n",
       "</div>"
      ],
      "text/plain": [
       "                PC1       PC2       PC3       PC4       PC5       PC6\n",
       "Math      -0.560478 -0.259596  0.547765  0.045087  0.560792 -0.043670\n",
       "English    0.194064 -0.530441 -0.451009  0.402600  0.388183  0.405942\n",
       "Japanese   0.280052 -0.546999  0.357497 -0.559986 -0.250723  0.343676\n",
       "History    0.186062 -0.508233 -0.067060  0.058517 -0.053490 -0.834444\n",
       "Physics   -0.431704 -0.264589  0.102704  0.497299 -0.683705  0.135340\n",
       "Chemistry -0.590582 -0.154032 -0.594723 -0.521119 -0.040619 -0.024016"
      ]
     },
     "execution_count": 727,
     "metadata": {},
     "output_type": "execute_result"
    }
   ],
   "source": [
    "eigen_vector = pca.components_.T\n",
    "pc_loading = pd.DataFrame(eigen_vector, index=[df.columns],\n",
    "                          columns=[\"PC{}\".format(num + 1) for num in range(len(df.columns))])\n",
    "pc_loading#因子負荷量"
   ]
  },
  {
   "cell_type": "code",
   "execution_count": 730,
   "metadata": {},
   "outputs": [],
   "source": [
    "df = pd.read_csv(\"test.csv\")"
   ]
  },
  {
   "cell_type": "code",
   "execution_count": 737,
   "metadata": {},
   "outputs": [
    {
     "data": {
      "text/plain": [
       "FactorAnalysis(copy=True, iterated_power=3, max_iter=1000, n_components=3,\n",
       "               noise_variance_init=None, random_state=0,\n",
       "               svd_method='randomized', tol=0.01)"
      ]
     },
     "execution_count": 737,
     "metadata": {},
     "output_type": "execute_result"
    }
   ],
   "source": [
    "from sklearn.decomposition import FactorAnalysis as FA\n",
    "n_factors=3\n",
    "fa = FA(n_factors)\n",
    "fa.fit(df)"
   ]
  },
  {
   "cell_type": "code",
   "execution_count": 738,
   "metadata": {},
   "outputs": [
    {
     "data": {
      "text/html": [
       "<div>\n",
       "<style scoped>\n",
       "    .dataframe tbody tr th:only-of-type {\n",
       "        vertical-align: middle;\n",
       "    }\n",
       "\n",
       "    .dataframe tbody tr th {\n",
       "        vertical-align: top;\n",
       "    }\n",
       "\n",
       "    .dataframe thead th {\n",
       "        text-align: right;\n",
       "    }\n",
       "</style>\n",
       "<table border=\"1\" class=\"dataframe\">\n",
       "  <thead>\n",
       "    <tr style=\"text-align: right;\">\n",
       "      <th></th>\n",
       "      <th>factor0</th>\n",
       "      <th>factor1</th>\n",
       "      <th>factor2</th>\n",
       "    </tr>\n",
       "  </thead>\n",
       "  <tbody>\n",
       "    <tr>\n",
       "      <td>Math</td>\n",
       "      <td>-18.130219</td>\n",
       "      <td>-2.788866</td>\n",
       "      <td>-6.255015</td>\n",
       "    </tr>\n",
       "    <tr>\n",
       "      <td>English</td>\n",
       "      <td>2.096878</td>\n",
       "      <td>-13.985639</td>\n",
       "      <td>2.709778</td>\n",
       "    </tr>\n",
       "    <tr>\n",
       "      <td>Japanese</td>\n",
       "      <td>4.224246</td>\n",
       "      <td>-14.937797</td>\n",
       "      <td>-0.183004</td>\n",
       "    </tr>\n",
       "    <tr>\n",
       "      <td>History</td>\n",
       "      <td>2.067944</td>\n",
       "      <td>-14.348008</td>\n",
       "      <td>1.509604</td>\n",
       "    </tr>\n",
       "    <tr>\n",
       "      <td>Physics</td>\n",
       "      <td>-13.146256</td>\n",
       "      <td>-3.182248</td>\n",
       "      <td>-0.461922</td>\n",
       "    </tr>\n",
       "    <tr>\n",
       "      <td>Chemistry</td>\n",
       "      <td>-18.343359</td>\n",
       "      <td>0.981871</td>\n",
       "      <td>6.670941</td>\n",
       "    </tr>\n",
       "  </tbody>\n",
       "</table>\n",
       "</div>"
      ],
      "text/plain": [
       "             factor0    factor1   factor2\n",
       "Math      -18.130219  -2.788866 -6.255015\n",
       "English     2.096878 -13.985639  2.709778\n",
       "Japanese    4.224246 -14.937797 -0.183004\n",
       "History     2.067944 -14.348008  1.509604\n",
       "Physics   -13.146256  -3.182248 -0.461922\n",
       "Chemistry -18.343359   0.981871  6.670941"
      ]
     },
     "execution_count": 738,
     "metadata": {},
     "output_type": "execute_result"
    }
   ],
   "source": [
    "df_factor_loading = pd.DataFrame(fa.components_.T, columns=[\"factor{}\".format(num) for num in range(n_factors)],\n",
    "                                index=df.columns)\n",
    "df_factor_loading#因子負荷量"
   ]
  },
  {
   "cell_type": "code",
   "execution_count": 736,
   "metadata": {},
   "outputs": [
    {
     "data": {
      "text/html": [
       "<div>\n",
       "<style scoped>\n",
       "    .dataframe tbody tr th:only-of-type {\n",
       "        vertical-align: middle;\n",
       "    }\n",
       "\n",
       "    .dataframe tbody tr th {\n",
       "        vertical-align: top;\n",
       "    }\n",
       "\n",
       "    .dataframe thead th {\n",
       "        text-align: right;\n",
       "    }\n",
       "</style>\n",
       "<table border=\"1\" class=\"dataframe\">\n",
       "  <thead>\n",
       "    <tr style=\"text-align: right;\">\n",
       "      <th></th>\n",
       "      <th>factor_0</th>\n",
       "      <th>factor_1</th>\n",
       "      <th>factor_2</th>\n",
       "    </tr>\n",
       "  </thead>\n",
       "  <tbody>\n",
       "    <tr>\n",
       "      <td>0</td>\n",
       "      <td>0.803860</td>\n",
       "      <td>-1.458180</td>\n",
       "      <td>1.275276</td>\n",
       "    </tr>\n",
       "    <tr>\n",
       "      <td>1</td>\n",
       "      <td>0.918541</td>\n",
       "      <td>-0.454647</td>\n",
       "      <td>-0.975029</td>\n",
       "    </tr>\n",
       "    <tr>\n",
       "      <td>2</td>\n",
       "      <td>0.558448</td>\n",
       "      <td>-0.517385</td>\n",
       "      <td>-0.078677</td>\n",
       "    </tr>\n",
       "    <tr>\n",
       "      <td>3</td>\n",
       "      <td>1.679138</td>\n",
       "      <td>-1.515657</td>\n",
       "      <td>-0.304324</td>\n",
       "    </tr>\n",
       "    <tr>\n",
       "      <td>4</td>\n",
       "      <td>1.564512</td>\n",
       "      <td>-0.773201</td>\n",
       "      <td>-0.433034</td>\n",
       "    </tr>\n",
       "    <tr>\n",
       "      <td>5</td>\n",
       "      <td>0.305149</td>\n",
       "      <td>1.343399</td>\n",
       "      <td>-0.374275</td>\n",
       "    </tr>\n",
       "    <tr>\n",
       "      <td>6</td>\n",
       "      <td>0.982908</td>\n",
       "      <td>0.988026</td>\n",
       "      <td>0.483590</td>\n",
       "    </tr>\n",
       "    <tr>\n",
       "      <td>7</td>\n",
       "      <td>1.082812</td>\n",
       "      <td>-0.463292</td>\n",
       "      <td>0.233858</td>\n",
       "    </tr>\n",
       "    <tr>\n",
       "      <td>8</td>\n",
       "      <td>0.874872</td>\n",
       "      <td>0.393676</td>\n",
       "      <td>-0.364264</td>\n",
       "    </tr>\n",
       "    <tr>\n",
       "      <td>9</td>\n",
       "      <td>1.091785</td>\n",
       "      <td>0.500956</td>\n",
       "      <td>0.281706</td>\n",
       "    </tr>\n",
       "    <tr>\n",
       "      <td>10</td>\n",
       "      <td>1.192571</td>\n",
       "      <td>-0.569853</td>\n",
       "      <td>-1.425425</td>\n",
       "    </tr>\n",
       "    <tr>\n",
       "      <td>11</td>\n",
       "      <td>1.063793</td>\n",
       "      <td>0.235779</td>\n",
       "      <td>1.644529</td>\n",
       "    </tr>\n",
       "    <tr>\n",
       "      <td>12</td>\n",
       "      <td>0.616222</td>\n",
       "      <td>0.575625</td>\n",
       "      <td>-0.534560</td>\n",
       "    </tr>\n",
       "    <tr>\n",
       "      <td>13</td>\n",
       "      <td>0.527220</td>\n",
       "      <td>1.161383</td>\n",
       "      <td>0.580969</td>\n",
       "    </tr>\n",
       "    <tr>\n",
       "      <td>14</td>\n",
       "      <td>1.108536</td>\n",
       "      <td>1.960533</td>\n",
       "      <td>0.216430</td>\n",
       "    </tr>\n",
       "    <tr>\n",
       "      <td>15</td>\n",
       "      <td>-0.674595</td>\n",
       "      <td>-0.243986</td>\n",
       "      <td>0.617683</td>\n",
       "    </tr>\n",
       "    <tr>\n",
       "      <td>16</td>\n",
       "      <td>-0.996790</td>\n",
       "      <td>-0.263962</td>\n",
       "      <td>-1.631275</td>\n",
       "    </tr>\n",
       "    <tr>\n",
       "      <td>17</td>\n",
       "      <td>-0.933822</td>\n",
       "      <td>0.059334</td>\n",
       "      <td>1.067211</td>\n",
       "    </tr>\n",
       "    <tr>\n",
       "      <td>18</td>\n",
       "      <td>-0.477250</td>\n",
       "      <td>-1.466575</td>\n",
       "      <td>1.505282</td>\n",
       "    </tr>\n",
       "    <tr>\n",
       "      <td>19</td>\n",
       "      <td>-0.831677</td>\n",
       "      <td>-1.635201</td>\n",
       "      <td>0.607137</td>\n",
       "    </tr>\n",
       "    <tr>\n",
       "      <td>20</td>\n",
       "      <td>-1.017619</td>\n",
       "      <td>0.422168</td>\n",
       "      <td>-1.488141</td>\n",
       "    </tr>\n",
       "    <tr>\n",
       "      <td>21</td>\n",
       "      <td>-0.579781</td>\n",
       "      <td>0.128732</td>\n",
       "      <td>1.375101</td>\n",
       "    </tr>\n",
       "    <tr>\n",
       "      <td>22</td>\n",
       "      <td>-1.639260</td>\n",
       "      <td>-0.406582</td>\n",
       "      <td>0.081692</td>\n",
       "    </tr>\n",
       "    <tr>\n",
       "      <td>23</td>\n",
       "      <td>-0.057937</td>\n",
       "      <td>0.016629</td>\n",
       "      <td>-1.010617</td>\n",
       "    </tr>\n",
       "    <tr>\n",
       "      <td>24</td>\n",
       "      <td>-0.611469</td>\n",
       "      <td>-1.327719</td>\n",
       "      <td>-0.519807</td>\n",
       "    </tr>\n",
       "    <tr>\n",
       "      <td>25</td>\n",
       "      <td>-1.302471</td>\n",
       "      <td>-0.974147</td>\n",
       "      <td>0.167593</td>\n",
       "    </tr>\n",
       "    <tr>\n",
       "      <td>26</td>\n",
       "      <td>-0.955709</td>\n",
       "      <td>1.837561</td>\n",
       "      <td>1.098124</td>\n",
       "    </tr>\n",
       "    <tr>\n",
       "      <td>27</td>\n",
       "      <td>-0.300977</td>\n",
       "      <td>1.202152</td>\n",
       "      <td>-0.091413</td>\n",
       "    </tr>\n",
       "    <tr>\n",
       "      <td>28</td>\n",
       "      <td>-1.071692</td>\n",
       "      <td>-0.354294</td>\n",
       "      <td>-0.669794</td>\n",
       "    </tr>\n",
       "    <tr>\n",
       "      <td>29</td>\n",
       "      <td>-1.532492</td>\n",
       "      <td>0.640793</td>\n",
       "      <td>0.079877</td>\n",
       "    </tr>\n",
       "    <tr>\n",
       "      <td>30</td>\n",
       "      <td>-0.379622</td>\n",
       "      <td>0.258262</td>\n",
       "      <td>-0.791034</td>\n",
       "    </tr>\n",
       "    <tr>\n",
       "      <td>31</td>\n",
       "      <td>-1.007205</td>\n",
       "      <td>0.699673</td>\n",
       "      <td>-0.624388</td>\n",
       "    </tr>\n",
       "  </tbody>\n",
       "</table>\n",
       "</div>"
      ],
      "text/plain": [
       "    factor_0  factor_1  factor_2\n",
       "0   0.803860 -1.458180  1.275276\n",
       "1   0.918541 -0.454647 -0.975029\n",
       "2   0.558448 -0.517385 -0.078677\n",
       "3   1.679138 -1.515657 -0.304324\n",
       "4   1.564512 -0.773201 -0.433034\n",
       "5   0.305149  1.343399 -0.374275\n",
       "6   0.982908  0.988026  0.483590\n",
       "7   1.082812 -0.463292  0.233858\n",
       "8   0.874872  0.393676 -0.364264\n",
       "9   1.091785  0.500956  0.281706\n",
       "10  1.192571 -0.569853 -1.425425\n",
       "11  1.063793  0.235779  1.644529\n",
       "12  0.616222  0.575625 -0.534560\n",
       "13  0.527220  1.161383  0.580969\n",
       "14  1.108536  1.960533  0.216430\n",
       "15 -0.674595 -0.243986  0.617683\n",
       "16 -0.996790 -0.263962 -1.631275\n",
       "17 -0.933822  0.059334  1.067211\n",
       "18 -0.477250 -1.466575  1.505282\n",
       "19 -0.831677 -1.635201  0.607137\n",
       "20 -1.017619  0.422168 -1.488141\n",
       "21 -0.579781  0.128732  1.375101\n",
       "22 -1.639260 -0.406582  0.081692\n",
       "23 -0.057937  0.016629 -1.010617\n",
       "24 -0.611469 -1.327719 -0.519807\n",
       "25 -1.302471 -0.974147  0.167593\n",
       "26 -0.955709  1.837561  1.098124\n",
       "27 -0.300977  1.202152 -0.091413\n",
       "28 -1.071692 -0.354294 -0.669794\n",
       "29 -1.532492  0.640793  0.079877\n",
       "30 -0.379622  0.258262 -0.791034\n",
       "31 -1.007205  0.699673 -0.624388"
      ]
     },
     "execution_count": 736,
     "metadata": {},
     "output_type": "execute_result"
    }
   ],
   "source": [
    "factor_score = fa.transform(df)\n",
    "factor_scores = pd.DataFrame(factor_score, columns=[\"factor_{}\".format(num) for num in range(n_factors)],\n",
    "                            index=df.index)\n",
    "factor_scores"
   ]
  },
  {
   "cell_type": "code",
   "execution_count": 741,
   "metadata": {},
   "outputs": [],
   "source": [
    "factor_scores.to_csv(\"factor_scores.csv\")"
   ]
  },
  {
   "cell_type": "code",
   "execution_count": null,
   "metadata": {},
   "outputs": [],
   "source": []
  }
 ],
 "metadata": {
  "kernelspec": {
   "display_name": "Python 3",
   "language": "python",
   "name": "python3"
  },
  "language_info": {
   "codemirror_mode": {
    "name": "ipython",
    "version": 3
   },
   "file_extension": ".py",
   "mimetype": "text/x-python",
   "name": "python",
   "nbconvert_exporter": "python",
   "pygments_lexer": "ipython3",
   "version": "3.7.4"
  }
 },
 "nbformat": 4,
 "nbformat_minor": 4
}
