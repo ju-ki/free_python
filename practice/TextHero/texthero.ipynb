{
 "cells": [
  {
   "cell_type": "markdown",
   "metadata": {},
   "source": [
    "## Textheroについて\n",
    "### 次のように構成されています。\n",
    "* Preprecessing\n",
    "* NLP\n",
    "* Representation\n",
    "* Visualization\n",
    "\n",
    "\n",
    "### Preprocessing\n",
    "* preprocessing.clean\n",
    "* preprocessing.drop_no_content\n",
    "* preprocessing.get_default\n",
    "* preprocessing.has_content\n",
    "* preprocessing.remove_angle_brackets\n",
    "* preprocessing.remove_curly_brackets\n",
    "* preprocessing.remove_diacritics\n",
    "* preprocessing.remove_digits\n",
    "* preprocessing.remove_html_tag\n",
    "* preprocessing.remove_punctuation\n",
    "* preprocessing.remove_round_brackets\n",
    "* preprocessing.remove_square_brackets\n",
    "* preprocessing.remove_stopwords\n",
    "* preprocessing.remove_urls\n",
    "* preprocessing.remove_whitespace\n",
    "* preprocessing.replace_punctuation\n",
    "* preprocessing.replace_stopwords\n",
    "* preprocessing.replace_urls\n",
    "* preprocessing.stem\n",
    "* preprocessing.tokenize\n",
    "* preprocessing.remove_brackets"
   ]
  },
  {
   "cell_type": "code",
   "execution_count": 29,
   "metadata": {},
   "outputs": [],
   "source": [
    "import numpy as np\n",
    "import pandas as pd\n",
    "import texthero as hero\n",
    "import warnings\n",
    "warnings.filterwarnings(\"ignore\")"
   ]
  },
  {
   "cell_type": "code",
   "execution_count": 30,
   "metadata": {},
   "outputs": [
    {
     "name": "stdout",
     "output_type": "stream",
     "text": [
      "0    you say goodbye and i say hello.\n",
      "dtype: object\n"
     ]
    }
   ],
   "source": [
    "text = pd.Series(\"You say goodbye and I say hello.\")\n",
    "print(hero.preprocessing.lowercase(text))"
   ]
  },
  {
   "cell_type": "code",
   "execution_count": 31,
   "metadata": {},
   "outputs": [
    {
     "name": "stdout",
     "output_type": "stream",
     "text": [
      "0    My phone number is  - - . See you!\n",
      "dtype: object\n"
     ]
    }
   ],
   "source": [
    "text = pd.Series(\"My phone number is 123-4567-8901. See you!\")\n",
    "print(hero.preprocessing.remove_digits(text))"
   ]
  },
  {
   "cell_type": "code",
   "execution_count": 32,
   "metadata": {},
   "outputs": [
    {
     "name": "stdout",
     "output_type": "stream",
     "text": [
      "0    My phone number is 123 4567 8901  See you \n",
      "dtype: object\n"
     ]
    }
   ],
   "source": [
    "print(hero.preprocessing.remove_punctuation(text))"
   ]
  },
  {
   "cell_type": "code",
   "execution_count": 33,
   "metadata": {},
   "outputs": [
    {
     "name": "stdout",
     "output_type": "stream",
     "text": [
      "0    Noel means Christmas in French\n",
      "dtype: object\n"
     ]
    }
   ],
   "source": [
    "text = pd.Series(\"Noël means Christmas in French\")\n",
    "print(hero.preprocessing.remove_diacritics(text))"
   ]
  },
  {
   "cell_type": "code",
   "execution_count": 34,
   "metadata": {},
   "outputs": [
    {
     "name": "stdout",
     "output_type": "stream",
     "text": [
      "0    You like  hero  I   like  hero.\n",
      "dtype: object\n"
     ]
    }
   ],
   "source": [
    "text = pd.Series(\"You like the hero and I do not like the hero.\")\n",
    "print(hero.preprocessing.remove_stopwords(text))"
   ]
  },
  {
   "cell_type": "code",
   "execution_count": 35,
   "metadata": {},
   "outputs": [
    {
     "name": "stdout",
     "output_type": "stream",
     "text": [
      "0    You say goodbye \\n and I say hello.\n",
      "dtype: object\n",
      "0    You say goodbye and I say hello.\n",
      "dtype: object\n"
     ]
    }
   ],
   "source": [
    "text = pd.Series(\"You say goodbye \\n and I say hello.\")\n",
    "print(text)\n",
    "print(hero.preprocessing.remove_whitespace(text))"
   ]
  },
  {
   "cell_type": "code",
   "execution_count": 36,
   "metadata": {},
   "outputs": [
    {
     "name": "stdout",
     "output_type": "stream",
     "text": [
      "0    Python\n",
      "1      Java\n",
      "2       NaN\n",
      "3          \n",
      "4          \n",
      "dtype: object\n",
      "0    Python\n",
      "1      Java\n",
      "dtype: object\n"
     ]
    }
   ],
   "source": [
    "text = pd.Series([\"Python\", \"Java\", np.nan, \"\", \" \"])\n",
    "print(text)\n",
    "print(hero.preprocessing.drop_no_content(text))"
   ]
  },
  {
   "cell_type": "code",
   "execution_count": 37,
   "metadata": {},
   "outputs": [
    {
     "name": "stdout",
     "output_type": "stream",
     "text": [
      "0     True\n",
      "1     True\n",
      "2    False\n",
      "3    False\n",
      "4    False\n",
      "dtype: bool\n"
     ]
    }
   ],
   "source": [
    "print(hero.preprocessing.has_content(text))"
   ]
  },
  {
   "cell_type": "code",
   "execution_count": 38,
   "metadata": {},
   "outputs": [
    {
     "name": "stdout",
     "output_type": "stream",
     "text": [
      "0    My age is twenty(Truly my age is forty)\n",
      "dtype: object\n",
      "0    My age is twenty\n",
      "dtype: object\n"
     ]
    }
   ],
   "source": [
    "text = pd.Series(\"My age is twenty(Truly my age is forty)\")\n",
    "print(text)\n",
    "print(hero.preprocessing.remove_round_brackets(text))"
   ]
  },
  {
   "cell_type": "code",
   "execution_count": 39,
   "metadata": {},
   "outputs": [
    {
     "name": "stdout",
     "output_type": "stream",
     "text": [
      "0    Texthero    \n",
      "dtype: object\n"
     ]
    }
   ],
   "source": [
    "text = pd.Series(\"Texthero (round) [square] [curly] [angle]\")\n",
    "print(hero.preprocessing.remove_brackets(text))"
   ]
  },
  {
   "cell_type": "code",
   "execution_count": 41,
   "metadata": {},
   "outputs": [
    {
     "name": "stdout",
     "output_type": "stream",
     "text": [
      "0    <html><h1>Title</h1>, <p>subtitle</p></html>\n",
      "dtype: object\n",
      "0    Title, subtitle\n",
      "dtype: object\n"
     ]
    }
   ],
   "source": [
    "text = pd.Series(\"<html><h1>Title</h1>, <p>subtitle</p></html>\")\n",
    "print(text)\n",
    "print(hero.remove_html_tags(text))"
   ]
  },
  {
   "cell_type": "code",
   "execution_count": 42,
   "metadata": {},
   "outputs": [
    {
     "name": "stdout",
     "output_type": "stream",
     "text": [
      "0    Please click this urls: https://test.com\n",
      "dtype: object\n",
      "0    Please click this urls:  \n",
      "dtype: object\n"
     ]
    }
   ],
   "source": [
    "text = pd.Series(\"Please click this urls: https://test.com\")\n",
    "print(text)\n",
    "print(hero.preprocessing.remove_urls(text))"
   ]
  },
  {
   "cell_type": "code",
   "execution_count": 46,
   "metadata": {},
   "outputs": [
    {
     "name": "stdout",
     "output_type": "stream",
     "text": [
      "0    Are you hungry(Yes)\n",
      "dtype: object\n"
     ]
    }
   ],
   "source": [
    "text = pd.Series(\"Are you hungry*\")\n",
    "print(hero.preprocessing.replace_punctuation(text, \"(Yes)\"))"
   ]
  },
  {
   "cell_type": "code",
   "execution_count": 47,
   "metadata": {},
   "outputs": [
    {
     "name": "stdout",
     "output_type": "stream",
     "text": [
      "0    Please click this urls: Deleted.\n",
      "dtype: object\n"
     ]
    }
   ],
   "source": [
    "text = pd.Series(\"Please click this urls: https://test.com\")\n",
    "print(hero.preprocessing.replace_urls(text, \"Deleted.\"))"
   ]
  }
 ],
 "metadata": {
  "kernelspec": {
   "display_name": "Python 3",
   "language": "python",
   "name": "python3"
  },
  "language_info": {
   "codemirror_mode": {
    "name": "ipython",
    "version": 3
   },
   "file_extension": ".py",
   "mimetype": "text/x-python",
   "name": "python",
   "nbconvert_exporter": "python",
   "pygments_lexer": "ipython3",
   "version": "3.7.6"
  }
 },
 "nbformat": 4,
 "nbformat_minor": 4
}
