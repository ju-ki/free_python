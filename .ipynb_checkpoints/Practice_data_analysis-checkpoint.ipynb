{
 "cells": [
  {
   "cell_type": "code",
   "execution_count": 38,
   "metadata": {},
   "outputs": [],
   "source": [
    "import numpy as np\n",
    "import matplotlib.pyplot as plt\n",
    "\n",
    "input_data = np.array([[20,30], [23,32], [28,40], [30,44]])\n",
    "data_number = input_data.shape[0]\n",
    "epochs = 30\n",
    "alpha = 0.00005"
   ]
  },
  {
   "cell_type": "code",
   "execution_count": 39,
   "metadata": {},
   "outputs": [
    {
     "data": {
      "image/png": "[encoded data removed]",
      "text/plain": [
       "<Figure size 432x288 with 1 Axes>"
      ]
     },
     "metadata": {
      "needs_background": "light"
     },
     "output_type": "display_data"
    }
   ],
   "source": [
    "# (w0 + w1x1 -y1)^2\n",
    "# =w0^2 + w1^2x1^2 +  y1^2 + 2w0w1x1  - 2w1x1y1 - 2y1w0\n",
    "\n",
    "w0 = 0.1\n",
    "w1 = 0.1\n",
    "\n",
    "for t in range(epochs):\n",
    "    dw0 = 0\n",
    "    dw1 = 0\n",
    "    for i in range(data_number):\n",
    "        dw0 = dw0 + 2*w0 + 2*w1*input_data[i,0] - 2* input_data[i,1]     #if you have some data, you have to use for_strutures.\n",
    "        dw1 = dw1 + input_data[i,0]*(2*w1*input_data[i,0] + 2*w0 -2*input_data[i,1])\n",
    "        \n",
    "    w0 = w0 - alpha*(dw0)\n",
    "    w1 = w1 - alpha*(dw1)\n",
    "#     print(dw0)\n",
    "\n",
    "\n",
    "x = np.linspace(15, 35, 100)\n",
    "y = w0 + w1*x\n",
    "\n",
    "\n",
    "plt.plot(x, y)\n",
    "\n",
    "for u in range(data_number):\n",
    "    plt.scatter(input_data[u,0], input_data[u,1])\n",
    "# print(w0)"
   ]
  },
  {
   "cell_type": "code",
   "execution_count": null,
   "metadata": {},
   "outputs": [],
   "source": []
  }
 ],
 "metadata": {
  "kernelspec": {
   "display_name": "Python 3",
   "language": "python",
   "name": "python3"
  },
  "language_info": {
   "codemirror_mode": {
    "name": "ipython",
    "version": 3
   },
   "file_extension": ".py",
   "mimetype": "text/x-python",
   "name": "python",
   "nbconvert_exporter": "python",
   "pygments_lexer": "ipython3",
   "version": "3.7.4"
  }
 },
 "nbformat": 4,
 "nbformat_minor": 4
}
